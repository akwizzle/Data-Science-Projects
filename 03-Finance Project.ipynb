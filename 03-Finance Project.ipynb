{
 "cells": [
  {
   "cell_type": "markdown",
   "metadata": {},
   "source": [
    "___\n",
    "\n",
    "<a href='http://www.pieriandata.com'> <img src='../Pierian_Data_Logo.png' /></a>\n",
    "___"
   ]
  },
  {
   "cell_type": "markdown",
   "metadata": {},
   "source": [
    "# Finance Data Project \n",
    "\n",
    "In this data project we will focus on exploratory data analysis of stock prices. Keep in mind, this project is just meant to practice your visualization and pandas skills, it is not meant to be a robust financial analysis or be taken as financial advice.\n",
    "____\n",
    "** NOTE: This project is extremely challenging because it will introduce a lot of new concepts and have you looking things up on your own (we'll point you in the right direction) to try to solve the tasks issued. **\n",
    "____\n",
    "We'll focus on bank stocks and see how they progressed throughout the [financial crisis](https://en.wikipedia.org/wiki/Financial_crisis_of_2007%E2%80%9308) all the way to early 2016."
   ]
  },
  {
   "cell_type": "markdown",
   "metadata": {},
   "source": [
    "## Get the Data\n",
    "\n",
    "In this section we will learn how to use pandas to directly read data from Google finance using pandas!\n",
    "\n",
    "First we need to start with the proper imports, which we've already laid out for you here.\n",
    "\n",
    "*Note: [You'll need to install pandas-datareader for this to work!](https://github.com/pydata/pandas-datareader) Pandas datareader allows you to [read stock information directly from the internet](http://pandas.pydata.org/pandas-docs/stable/remote_data.html) Use these links for install guidance (**pip install pandas-datareader**), or just follow along with the video lecture.*\n",
    "\n",
    "### The Imports\n",
    "\n",
    "Already filled out for you."
   ]
  },
  {
   "cell_type": "code",
   "execution_count": 1,
   "metadata": {},
   "outputs": [],
   "source": [
    "from pandas_datareader import data, wb\n",
    "import pandas as pd\n",
    "import numpy as np\n",
    "import datetime\n",
    "%matplotlib inline"
   ]
  },
  {
   "cell_type": "markdown",
   "metadata": {},
   "source": [
    "## Data\n",
    "\n",
    "We need to get data using pandas datareader. We will get stock information for the following banks:\n",
    "*  Bank of America\n",
    "* CitiGroup\n",
    "* Goldman Sachs\n",
    "* JPMorgan Chase\n",
    "* Morgan Stanley\n",
    "* Wells Fargo\n",
    "\n",
    "** Figure out how to get the stock data from Jan 1st 2006 to Jan 1st 2016 for each of these banks. Set each bank to be a separate dataframe, with the variable name for that bank being its ticker symbol. This will involve a few steps:**\n",
    "1. Use datetime to set start and end datetime objects.\n",
    "2. Figure out the ticker symbol for each bank.\n",
    "2. Figure out how to use datareader to grab info on the stock.\n",
    "\n",
    "** Use [this documentation page](https://pandas-datareader.readthedocs.io/en/latest/remote_data.html) for hints and instructions (it should just be a matter of replacing certain values. Use google finance as a source, for example:**\n",
    "    \n",
    "    # Bank of America\n",
    "    BAC = data.DataReader(\"BAC\", 'google', start, end)\n",
    "\n",
    "### WARNING: MAKE SURE TO CHECK THE LINK ABOVE FOR THE LATEST WORKING API. \"google\" MAY NOT ALWAYS WORK. \n",
    "------------\n",
    "### We also provide pickle file in the article lecture right before the video lectures."
   ]
  },
  {
   "cell_type": "code",
   "execution_count": 2,
   "metadata": {},
   "outputs": [],
   "source": [
    "start = datetime.date(2006,1,1)\n",
    "end = datetime.date(2016,1,1)"
   ]
  },
  {
   "cell_type": "code",
   "execution_count": 3,
   "metadata": {},
   "outputs": [],
   "source": [
    "#Bank of America\n",
    "BAC = data.DataReader(\"BAC\", 'stooq', start, end).iloc[::-1]\n",
    "\n",
    "#CitiGroup\n",
    "C = data.DataReader(\"C\", 'stooq', start, end).iloc[::-1]\n",
    "\n",
    "#Goldman Sachs\n",
    "GS = data.DataReader(\"GS\", 'stooq', start, end).iloc[::-1]\n",
    "\n",
    "#JP Morgan Chase\n",
    "JPM = data.DataReader(\"JPM\", 'stooq', start, end).iloc[::-1]\n",
    "\n",
    "#Morgan Stanley\n",
    "MS = data.DataReader(\"MS\", 'stooq', start, end).iloc[::-1]\n",
    "\n",
    "#Wells Fargo\n",
    "WFC = data.DataReader(\"WFC\", 'stooq', start, end).iloc[::-1]"
   ]
  },
  {
   "cell_type": "markdown",
   "metadata": {},
   "source": [
    "** Create a list of the ticker symbols (as strings) in alphabetical order. Call this list: tickers**"
   ]
  },
  {
   "cell_type": "code",
   "execution_count": 4,
   "metadata": {},
   "outputs": [],
   "source": [
    "tickers = 'BAC C GS JPM MS WFC'.split()"
   ]
  },
  {
   "cell_type": "markdown",
   "metadata": {},
   "source": [
    "** Use pd.concat to concatenate the bank dataframes together to a single data frame called bank_stocks. Set the keys argument equal to the tickers list. Also pay attention to what axis you concatenate on.**"
   ]
  },
  {
   "cell_type": "code",
   "execution_count": 5,
   "metadata": {},
   "outputs": [
    {
     "data": {
      "text/html": [
       "<div>\n",
       "<style scoped>\n",
       "    .dataframe tbody tr th:only-of-type {\n",
       "        vertical-align: middle;\n",
       "    }\n",
       "\n",
       "    .dataframe tbody tr th {\n",
       "        vertical-align: top;\n",
       "    }\n",
       "\n",
       "    .dataframe thead tr th {\n",
       "        text-align: left;\n",
       "    }\n",
       "\n",
       "    .dataframe thead tr:last-of-type th {\n",
       "        text-align: right;\n",
       "    }\n",
       "</style>\n",
       "<table border=\"1\" class=\"dataframe\">\n",
       "  <thead>\n",
       "    <tr>\n",
       "      <th></th>\n",
       "      <th colspan=\"5\" halign=\"left\">BAC</th>\n",
       "      <th colspan=\"5\" halign=\"left\">C</th>\n",
       "      <th>...</th>\n",
       "      <th colspan=\"5\" halign=\"left\">MS</th>\n",
       "      <th colspan=\"5\" halign=\"left\">WFC</th>\n",
       "    </tr>\n",
       "    <tr>\n",
       "      <th></th>\n",
       "      <th>Open</th>\n",
       "      <th>High</th>\n",
       "      <th>Low</th>\n",
       "      <th>Close</th>\n",
       "      <th>Volume</th>\n",
       "      <th>Open</th>\n",
       "      <th>High</th>\n",
       "      <th>Low</th>\n",
       "      <th>Close</th>\n",
       "      <th>Volume</th>\n",
       "      <th>...</th>\n",
       "      <th>Open</th>\n",
       "      <th>High</th>\n",
       "      <th>Low</th>\n",
       "      <th>Close</th>\n",
       "      <th>Volume</th>\n",
       "      <th>Open</th>\n",
       "      <th>High</th>\n",
       "      <th>Low</th>\n",
       "      <th>Close</th>\n",
       "      <th>Volume</th>\n",
       "    </tr>\n",
       "    <tr>\n",
       "      <th>Date</th>\n",
       "      <th></th>\n",
       "      <th></th>\n",
       "      <th></th>\n",
       "      <th></th>\n",
       "      <th></th>\n",
       "      <th></th>\n",
       "      <th></th>\n",
       "      <th></th>\n",
       "      <th></th>\n",
       "      <th></th>\n",
       "      <th></th>\n",
       "      <th></th>\n",
       "      <th></th>\n",
       "      <th></th>\n",
       "      <th></th>\n",
       "      <th></th>\n",
       "      <th></th>\n",
       "      <th></th>\n",
       "      <th></th>\n",
       "      <th></th>\n",
       "      <th></th>\n",
       "    </tr>\n",
       "  </thead>\n",
       "  <tbody>\n",
       "    <tr>\n",
       "      <th>2006-01-03</th>\n",
       "      <td>40.981</td>\n",
       "      <td>41.205</td>\n",
       "      <td>40.308</td>\n",
       "      <td>41.120</td>\n",
       "      <td>18658143.0</td>\n",
       "      <td>431.01</td>\n",
       "      <td>434.32</td>\n",
       "      <td>423.15</td>\n",
       "      <td>433.55</td>\n",
       "      <td>1748134.0</td>\n",
       "      <td>...</td>\n",
       "      <td>39.536</td>\n",
       "      <td>40.445</td>\n",
       "      <td>39.233</td>\n",
       "      <td>40.320</td>\n",
       "      <td>6454836.0</td>\n",
       "      <td>23.520</td>\n",
       "      <td>23.801</td>\n",
       "      <td>23.223</td>\n",
       "      <td>23.743</td>\n",
       "      <td>14801667.0</td>\n",
       "    </tr>\n",
       "    <tr>\n",
       "      <th>2006-01-04</th>\n",
       "      <td>41.051</td>\n",
       "      <td>41.263</td>\n",
       "      <td>40.570</td>\n",
       "      <td>40.684</td>\n",
       "      <td>20331205.0</td>\n",
       "      <td>429.79</td>\n",
       "      <td>431.88</td>\n",
       "      <td>425.26</td>\n",
       "      <td>425.53</td>\n",
       "      <td>2127119.0</td>\n",
       "      <td>...</td>\n",
       "      <td>40.595</td>\n",
       "      <td>40.994</td>\n",
       "      <td>40.352</td>\n",
       "      <td>40.352</td>\n",
       "      <td>9576975.0</td>\n",
       "      <td>23.665</td>\n",
       "      <td>23.680</td>\n",
       "      <td>23.339</td>\n",
       "      <td>23.467</td>\n",
       "      <td>14604966.0</td>\n",
       "    </tr>\n",
       "    <tr>\n",
       "      <th>2006-01-05</th>\n",
       "      <td>40.684</td>\n",
       "      <td>40.903</td>\n",
       "      <td>40.458</td>\n",
       "      <td>40.737</td>\n",
       "      <td>16971119.0</td>\n",
       "      <td>426.06</td>\n",
       "      <td>429.05</td>\n",
       "      <td>425.71</td>\n",
       "      <td>427.62</td>\n",
       "      <td>1290703.0</td>\n",
       "      <td>...</td>\n",
       "      <td>40.352</td>\n",
       "      <td>40.518</td>\n",
       "      <td>40.117</td>\n",
       "      <td>40.462</td>\n",
       "      <td>6936221.0</td>\n",
       "      <td>23.444</td>\n",
       "      <td>23.482</td>\n",
       "      <td>23.301</td>\n",
       "      <td>23.444</td>\n",
       "      <td>13612309.0</td>\n",
       "    </tr>\n",
       "    <tr>\n",
       "      <th>2006-01-06</th>\n",
       "      <td>40.875</td>\n",
       "      <td>40.971</td>\n",
       "      <td>40.485</td>\n",
       "      <td>40.675</td>\n",
       "      <td>14419805.0</td>\n",
       "      <td>429.95</td>\n",
       "      <td>430.10</td>\n",
       "      <td>423.96</td>\n",
       "      <td>427.62</td>\n",
       "      <td>1557821.0</td>\n",
       "      <td>...</td>\n",
       "      <td>40.642</td>\n",
       "      <td>40.693</td>\n",
       "      <td>40.144</td>\n",
       "      <td>40.502</td>\n",
       "      <td>8270878.0</td>\n",
       "      <td>23.507</td>\n",
       "      <td>23.645</td>\n",
       "      <td>23.363</td>\n",
       "      <td>23.576</td>\n",
       "      <td>11291370.0</td>\n",
       "    </tr>\n",
       "    <tr>\n",
       "      <th>2006-01-09</th>\n",
       "      <td>40.806</td>\n",
       "      <td>41.025</td>\n",
       "      <td>40.492</td>\n",
       "      <td>40.702</td>\n",
       "      <td>17882700.0</td>\n",
       "      <td>427.47</td>\n",
       "      <td>428.70</td>\n",
       "      <td>424.82</td>\n",
       "      <td>425.62</td>\n",
       "      <td>1910873.0</td>\n",
       "      <td>...</td>\n",
       "      <td>40.541</td>\n",
       "      <td>41.002</td>\n",
       "      <td>40.533</td>\n",
       "      <td>40.926</td>\n",
       "      <td>4975275.0</td>\n",
       "      <td>23.576</td>\n",
       "      <td>23.680</td>\n",
       "      <td>23.482</td>\n",
       "      <td>23.576</td>\n",
       "      <td>7550515.0</td>\n",
       "    </tr>\n",
       "  </tbody>\n",
       "</table>\n",
       "<p>5 rows × 30 columns</p>\n",
       "</div>"
      ],
      "text/plain": [
       "               BAC                                           C          \\\n",
       "              Open    High     Low   Close      Volume    Open    High   \n",
       "Date                                                                     \n",
       "2006-01-03  40.981  41.205  40.308  41.120  18658143.0  431.01  434.32   \n",
       "2006-01-04  41.051  41.263  40.570  40.684  20331205.0  429.79  431.88   \n",
       "2006-01-05  40.684  40.903  40.458  40.737  16971119.0  426.06  429.05   \n",
       "2006-01-06  40.875  40.971  40.485  40.675  14419805.0  429.95  430.10   \n",
       "2006-01-09  40.806  41.025  40.492  40.702  17882700.0  427.47  428.70   \n",
       "\n",
       "                                       ...      MS                          \\\n",
       "               Low   Close     Volume  ...    Open    High     Low   Close   \n",
       "Date                                   ...                                   \n",
       "2006-01-03  423.15  433.55  1748134.0  ...  39.536  40.445  39.233  40.320   \n",
       "2006-01-04  425.26  425.53  2127119.0  ...  40.595  40.994  40.352  40.352   \n",
       "2006-01-05  425.71  427.62  1290703.0  ...  40.352  40.518  40.117  40.462   \n",
       "2006-01-06  423.96  427.62  1557821.0  ...  40.642  40.693  40.144  40.502   \n",
       "2006-01-09  424.82  425.62  1910873.0  ...  40.541  41.002  40.533  40.926   \n",
       "\n",
       "                          WFC                                      \n",
       "               Volume    Open    High     Low   Close      Volume  \n",
       "Date                                                               \n",
       "2006-01-03  6454836.0  23.520  23.801  23.223  23.743  14801667.0  \n",
       "2006-01-04  9576975.0  23.665  23.680  23.339  23.467  14604966.0  \n",
       "2006-01-05  6936221.0  23.444  23.482  23.301  23.444  13612309.0  \n",
       "2006-01-06  8270878.0  23.507  23.645  23.363  23.576  11291370.0  \n",
       "2006-01-09  4975275.0  23.576  23.680  23.482  23.576   7550515.0  \n",
       "\n",
       "[5 rows x 30 columns]"
      ]
     },
     "execution_count": 5,
     "metadata": {},
     "output_type": "execute_result"
    }
   ],
   "source": [
    "bank_stocks = pd.concat([BAC,C,GS,JPM,MS,WFC],keys=tickers,axis=1)\n",
    "bank_stocks.head()"
   ]
  },
  {
   "cell_type": "markdown",
   "metadata": {},
   "source": [
    "** Set the column name levels (this is filled out for you):**"
   ]
  },
  {
   "cell_type": "code",
   "execution_count": 6,
   "metadata": {},
   "outputs": [],
   "source": [
    "bank_stocks.columns.names = ['Bank Ticker','Stock Info']"
   ]
  },
  {
   "cell_type": "markdown",
   "metadata": {},
   "source": [
    "** Check the head of the bank_stocks dataframe.**"
   ]
  },
  {
   "cell_type": "code",
   "execution_count": 7,
   "metadata": {},
   "outputs": [
    {
     "data": {
      "text/html": [
       "<div>\n",
       "<style scoped>\n",
       "    .dataframe tbody tr th:only-of-type {\n",
       "        vertical-align: middle;\n",
       "    }\n",
       "\n",
       "    .dataframe tbody tr th {\n",
       "        vertical-align: top;\n",
       "    }\n",
       "\n",
       "    .dataframe thead tr th {\n",
       "        text-align: left;\n",
       "    }\n",
       "\n",
       "    .dataframe thead tr:last-of-type th {\n",
       "        text-align: right;\n",
       "    }\n",
       "</style>\n",
       "<table border=\"1\" class=\"dataframe\">\n",
       "  <thead>\n",
       "    <tr>\n",
       "      <th>Bank Ticker</th>\n",
       "      <th colspan=\"5\" halign=\"left\">BAC</th>\n",
       "      <th colspan=\"5\" halign=\"left\">C</th>\n",
       "      <th>...</th>\n",
       "      <th colspan=\"5\" halign=\"left\">MS</th>\n",
       "      <th colspan=\"5\" halign=\"left\">WFC</th>\n",
       "    </tr>\n",
       "    <tr>\n",
       "      <th>Stock Info</th>\n",
       "      <th>Open</th>\n",
       "      <th>High</th>\n",
       "      <th>Low</th>\n",
       "      <th>Close</th>\n",
       "      <th>Volume</th>\n",
       "      <th>Open</th>\n",
       "      <th>High</th>\n",
       "      <th>Low</th>\n",
       "      <th>Close</th>\n",
       "      <th>Volume</th>\n",
       "      <th>...</th>\n",
       "      <th>Open</th>\n",
       "      <th>High</th>\n",
       "      <th>Low</th>\n",
       "      <th>Close</th>\n",
       "      <th>Volume</th>\n",
       "      <th>Open</th>\n",
       "      <th>High</th>\n",
       "      <th>Low</th>\n",
       "      <th>Close</th>\n",
       "      <th>Volume</th>\n",
       "    </tr>\n",
       "    <tr>\n",
       "      <th>Date</th>\n",
       "      <th></th>\n",
       "      <th></th>\n",
       "      <th></th>\n",
       "      <th></th>\n",
       "      <th></th>\n",
       "      <th></th>\n",
       "      <th></th>\n",
       "      <th></th>\n",
       "      <th></th>\n",
       "      <th></th>\n",
       "      <th></th>\n",
       "      <th></th>\n",
       "      <th></th>\n",
       "      <th></th>\n",
       "      <th></th>\n",
       "      <th></th>\n",
       "      <th></th>\n",
       "      <th></th>\n",
       "      <th></th>\n",
       "      <th></th>\n",
       "      <th></th>\n",
       "    </tr>\n",
       "  </thead>\n",
       "  <tbody>\n",
       "    <tr>\n",
       "      <th>2006-01-03</th>\n",
       "      <td>40.981</td>\n",
       "      <td>41.205</td>\n",
       "      <td>40.308</td>\n",
       "      <td>41.120</td>\n",
       "      <td>18658143.0</td>\n",
       "      <td>431.01</td>\n",
       "      <td>434.32</td>\n",
       "      <td>423.15</td>\n",
       "      <td>433.55</td>\n",
       "      <td>1748134.0</td>\n",
       "      <td>...</td>\n",
       "      <td>39.536</td>\n",
       "      <td>40.445</td>\n",
       "      <td>39.233</td>\n",
       "      <td>40.320</td>\n",
       "      <td>6454836.0</td>\n",
       "      <td>23.520</td>\n",
       "      <td>23.801</td>\n",
       "      <td>23.223</td>\n",
       "      <td>23.743</td>\n",
       "      <td>14801667.0</td>\n",
       "    </tr>\n",
       "    <tr>\n",
       "      <th>2006-01-04</th>\n",
       "      <td>41.051</td>\n",
       "      <td>41.263</td>\n",
       "      <td>40.570</td>\n",
       "      <td>40.684</td>\n",
       "      <td>20331205.0</td>\n",
       "      <td>429.79</td>\n",
       "      <td>431.88</td>\n",
       "      <td>425.26</td>\n",
       "      <td>425.53</td>\n",
       "      <td>2127119.0</td>\n",
       "      <td>...</td>\n",
       "      <td>40.595</td>\n",
       "      <td>40.994</td>\n",
       "      <td>40.352</td>\n",
       "      <td>40.352</td>\n",
       "      <td>9576975.0</td>\n",
       "      <td>23.665</td>\n",
       "      <td>23.680</td>\n",
       "      <td>23.339</td>\n",
       "      <td>23.467</td>\n",
       "      <td>14604966.0</td>\n",
       "    </tr>\n",
       "    <tr>\n",
       "      <th>2006-01-05</th>\n",
       "      <td>40.684</td>\n",
       "      <td>40.903</td>\n",
       "      <td>40.458</td>\n",
       "      <td>40.737</td>\n",
       "      <td>16971119.0</td>\n",
       "      <td>426.06</td>\n",
       "      <td>429.05</td>\n",
       "      <td>425.71</td>\n",
       "      <td>427.62</td>\n",
       "      <td>1290703.0</td>\n",
       "      <td>...</td>\n",
       "      <td>40.352</td>\n",
       "      <td>40.518</td>\n",
       "      <td>40.117</td>\n",
       "      <td>40.462</td>\n",
       "      <td>6936221.0</td>\n",
       "      <td>23.444</td>\n",
       "      <td>23.482</td>\n",
       "      <td>23.301</td>\n",
       "      <td>23.444</td>\n",
       "      <td>13612309.0</td>\n",
       "    </tr>\n",
       "    <tr>\n",
       "      <th>2006-01-06</th>\n",
       "      <td>40.875</td>\n",
       "      <td>40.971</td>\n",
       "      <td>40.485</td>\n",
       "      <td>40.675</td>\n",
       "      <td>14419805.0</td>\n",
       "      <td>429.95</td>\n",
       "      <td>430.10</td>\n",
       "      <td>423.96</td>\n",
       "      <td>427.62</td>\n",
       "      <td>1557821.0</td>\n",
       "      <td>...</td>\n",
       "      <td>40.642</td>\n",
       "      <td>40.693</td>\n",
       "      <td>40.144</td>\n",
       "      <td>40.502</td>\n",
       "      <td>8270878.0</td>\n",
       "      <td>23.507</td>\n",
       "      <td>23.645</td>\n",
       "      <td>23.363</td>\n",
       "      <td>23.576</td>\n",
       "      <td>11291370.0</td>\n",
       "    </tr>\n",
       "    <tr>\n",
       "      <th>2006-01-09</th>\n",
       "      <td>40.806</td>\n",
       "      <td>41.025</td>\n",
       "      <td>40.492</td>\n",
       "      <td>40.702</td>\n",
       "      <td>17882700.0</td>\n",
       "      <td>427.47</td>\n",
       "      <td>428.70</td>\n",
       "      <td>424.82</td>\n",
       "      <td>425.62</td>\n",
       "      <td>1910873.0</td>\n",
       "      <td>...</td>\n",
       "      <td>40.541</td>\n",
       "      <td>41.002</td>\n",
       "      <td>40.533</td>\n",
       "      <td>40.926</td>\n",
       "      <td>4975275.0</td>\n",
       "      <td>23.576</td>\n",
       "      <td>23.680</td>\n",
       "      <td>23.482</td>\n",
       "      <td>23.576</td>\n",
       "      <td>7550515.0</td>\n",
       "    </tr>\n",
       "  </tbody>\n",
       "</table>\n",
       "<p>5 rows × 30 columns</p>\n",
       "</div>"
      ],
      "text/plain": [
       "Bank Ticker     BAC                                           C          \\\n",
       "Stock Info     Open    High     Low   Close      Volume    Open    High   \n",
       "Date                                                                      \n",
       "2006-01-03   40.981  41.205  40.308  41.120  18658143.0  431.01  434.32   \n",
       "2006-01-04   41.051  41.263  40.570  40.684  20331205.0  429.79  431.88   \n",
       "2006-01-05   40.684  40.903  40.458  40.737  16971119.0  426.06  429.05   \n",
       "2006-01-06   40.875  40.971  40.485  40.675  14419805.0  429.95  430.10   \n",
       "2006-01-09   40.806  41.025  40.492  40.702  17882700.0  427.47  428.70   \n",
       "\n",
       "Bank Ticker                             ...      MS                          \\\n",
       "Stock Info      Low   Close     Volume  ...    Open    High     Low   Close   \n",
       "Date                                    ...                                   \n",
       "2006-01-03   423.15  433.55  1748134.0  ...  39.536  40.445  39.233  40.320   \n",
       "2006-01-04   425.26  425.53  2127119.0  ...  40.595  40.994  40.352  40.352   \n",
       "2006-01-05   425.71  427.62  1290703.0  ...  40.352  40.518  40.117  40.462   \n",
       "2006-01-06   423.96  427.62  1557821.0  ...  40.642  40.693  40.144  40.502   \n",
       "2006-01-09   424.82  425.62  1910873.0  ...  40.541  41.002  40.533  40.926   \n",
       "\n",
       "Bank Ticker                WFC                                      \n",
       "Stock Info      Volume    Open    High     Low   Close      Volume  \n",
       "Date                                                                \n",
       "2006-01-03   6454836.0  23.520  23.801  23.223  23.743  14801667.0  \n",
       "2006-01-04   9576975.0  23.665  23.680  23.339  23.467  14604966.0  \n",
       "2006-01-05   6936221.0  23.444  23.482  23.301  23.444  13612309.0  \n",
       "2006-01-06   8270878.0  23.507  23.645  23.363  23.576  11291370.0  \n",
       "2006-01-09   4975275.0  23.576  23.680  23.482  23.576   7550515.0  \n",
       "\n",
       "[5 rows x 30 columns]"
      ]
     },
     "execution_count": 7,
     "metadata": {},
     "output_type": "execute_result"
    }
   ],
   "source": [
    "bank_stocks.head()"
   ]
  },
  {
   "cell_type": "markdown",
   "metadata": {},
   "source": [
    "# EDA\n",
    "\n",
    "Let's explore the data a bit! Before continuing, I encourage you to check out the documentation on [Multi-Level Indexing](http://pandas.pydata.org/pandas-docs/stable/advanced.html) and [Using .xs](http://pandas.pydata.org/pandas-docs/stable/generated/pandas.DataFrame.xs.html).\n",
    "\n",
    "** What is the max Close price for each bank's stock throughout the time period?**"
   ]
  },
  {
   "cell_type": "code",
   "execution_count": 17,
   "metadata": {},
   "outputs": [
    {
     "data": {
      "text/plain": [
       "Bank Ticker\n",
       "BAC     47.949\n",
       "C      496.170\n",
       "GS     211.900\n",
       "JPM     60.015\n",
       "MS      61.752\n",
       "WFC     48.701\n",
       "dtype: float64"
      ]
     },
     "execution_count": 17,
     "metadata": {},
     "output_type": "execute_result"
    }
   ],
   "source": [
    "bank_stocks.xs(key='Close', axis=1, level='Stock Info').max()"
   ]
  },
  {
   "cell_type": "markdown",
   "metadata": {},
   "source": [
    "** Create a new empty DataFrame called returns. This dataframe will contain the returns for each bank's stock. returns are typically defined by:**\n",
    "\n",
    "$$r_t = \\frac{p_t - p_{t-1}}{p_{t-1}} = \\frac{p_t}{p_{t-1}} - 1$$"
   ]
  },
  {
   "cell_type": "code",
   "execution_count": 18,
   "metadata": {},
   "outputs": [],
   "source": [
    "returns = pd.DataFrame()"
   ]
  },
  {
   "cell_type": "markdown",
   "metadata": {},
   "source": [
    "** We can use pandas pct_change() method on the Close column to create a column representing this return value. Create a for loop that goes and for each Bank Stock Ticker creates this returns column and set's it as a column in the returns DataFrame.**"
   ]
  },
  {
   "cell_type": "code",
   "execution_count": 24,
   "metadata": {},
   "outputs": [
    {
     "data": {
      "text/html": [
       "<div>\n",
       "<style scoped>\n",
       "    .dataframe tbody tr th:only-of-type {\n",
       "        vertical-align: middle;\n",
       "    }\n",
       "\n",
       "    .dataframe tbody tr th {\n",
       "        vertical-align: top;\n",
       "    }\n",
       "\n",
       "    .dataframe thead th {\n",
       "        text-align: right;\n",
       "    }\n",
       "</style>\n",
       "<table border=\"1\" class=\"dataframe\">\n",
       "  <thead>\n",
       "    <tr style=\"text-align: right;\">\n",
       "      <th>Bank Ticker</th>\n",
       "      <th>BAC</th>\n",
       "      <th>C</th>\n",
       "      <th>GS</th>\n",
       "      <th>JPM</th>\n",
       "      <th>MS</th>\n",
       "      <th>WFC</th>\n",
       "    </tr>\n",
       "    <tr>\n",
       "      <th>Date</th>\n",
       "      <th></th>\n",
       "      <th></th>\n",
       "      <th></th>\n",
       "      <th></th>\n",
       "      <th></th>\n",
       "      <th></th>\n",
       "    </tr>\n",
       "  </thead>\n",
       "  <tbody>\n",
       "    <tr>\n",
       "      <th>2006-01-03</th>\n",
       "      <td>41.120</td>\n",
       "      <td>433.55</td>\n",
       "      <td>110.15</td>\n",
       "      <td>30.423</td>\n",
       "      <td>40.320</td>\n",
       "      <td>23.743</td>\n",
       "    </tr>\n",
       "    <tr>\n",
       "      <th>2006-01-04</th>\n",
       "      <td>40.684</td>\n",
       "      <td>425.53</td>\n",
       "      <td>108.65</td>\n",
       "      <td>29.990</td>\n",
       "      <td>40.352</td>\n",
       "      <td>23.467</td>\n",
       "    </tr>\n",
       "    <tr>\n",
       "      <th>2006-01-05</th>\n",
       "      <td>40.737</td>\n",
       "      <td>427.62</td>\n",
       "      <td>108.61</td>\n",
       "      <td>30.081</td>\n",
       "      <td>40.462</td>\n",
       "      <td>23.444</td>\n",
       "    </tr>\n",
       "    <tr>\n",
       "      <th>2006-01-06</th>\n",
       "      <td>40.675</td>\n",
       "      <td>427.62</td>\n",
       "      <td>110.12</td>\n",
       "      <td>30.294</td>\n",
       "      <td>40.502</td>\n",
       "      <td>23.576</td>\n",
       "    </tr>\n",
       "    <tr>\n",
       "      <th>2006-01-09</th>\n",
       "      <td>40.702</td>\n",
       "      <td>425.62</td>\n",
       "      <td>111.45</td>\n",
       "      <td>30.785</td>\n",
       "      <td>40.926</td>\n",
       "      <td>23.576</td>\n",
       "    </tr>\n",
       "  </tbody>\n",
       "</table>\n",
       "</div>"
      ],
      "text/plain": [
       "Bank Ticker     BAC       C      GS     JPM      MS     WFC\n",
       "Date                                                       \n",
       "2006-01-03   41.120  433.55  110.15  30.423  40.320  23.743\n",
       "2006-01-04   40.684  425.53  108.65  29.990  40.352  23.467\n",
       "2006-01-05   40.737  427.62  108.61  30.081  40.462  23.444\n",
       "2006-01-06   40.675  427.62  110.12  30.294  40.502  23.576\n",
       "2006-01-09   40.702  425.62  111.45  30.785  40.926  23.576"
      ]
     },
     "execution_count": 24,
     "metadata": {},
     "output_type": "execute_result"
    }
   ],
   "source": [
    "bank_stocks.xs(key='Close', axis=1, level='Stock Info').head()"
   ]
  },
  {
   "cell_type": "code",
   "execution_count": 20,
   "metadata": {},
   "outputs": [
    {
     "data": {
      "text/html": [
       "<div>\n",
       "<style scoped>\n",
       "    .dataframe tbody tr th:only-of-type {\n",
       "        vertical-align: middle;\n",
       "    }\n",
       "\n",
       "    .dataframe tbody tr th {\n",
       "        vertical-align: top;\n",
       "    }\n",
       "\n",
       "    .dataframe thead th {\n",
       "        text-align: right;\n",
       "    }\n",
       "</style>\n",
       "<table border=\"1\" class=\"dataframe\">\n",
       "  <thead>\n",
       "    <tr style=\"text-align: right;\">\n",
       "      <th></th>\n",
       "      <th>BAC Return</th>\n",
       "      <th>C Return</th>\n",
       "      <th>GS Return</th>\n",
       "      <th>JPM Return</th>\n",
       "      <th>MS Return</th>\n",
       "      <th>WFC Return</th>\n",
       "    </tr>\n",
       "    <tr>\n",
       "      <th>Date</th>\n",
       "      <th></th>\n",
       "      <th></th>\n",
       "      <th></th>\n",
       "      <th></th>\n",
       "      <th></th>\n",
       "      <th></th>\n",
       "    </tr>\n",
       "  </thead>\n",
       "  <tbody>\n",
       "    <tr>\n",
       "      <th>2006-01-03</th>\n",
       "      <td>NaN</td>\n",
       "      <td>NaN</td>\n",
       "      <td>NaN</td>\n",
       "      <td>NaN</td>\n",
       "      <td>NaN</td>\n",
       "      <td>NaN</td>\n",
       "    </tr>\n",
       "    <tr>\n",
       "      <th>2006-01-04</th>\n",
       "      <td>-0.010603</td>\n",
       "      <td>-0.018498</td>\n",
       "      <td>-0.013618</td>\n",
       "      <td>-0.014233</td>\n",
       "      <td>0.000794</td>\n",
       "      <td>-0.011624</td>\n",
       "    </tr>\n",
       "    <tr>\n",
       "      <th>2006-01-05</th>\n",
       "      <td>0.001303</td>\n",
       "      <td>0.004912</td>\n",
       "      <td>-0.000368</td>\n",
       "      <td>0.003034</td>\n",
       "      <td>0.002726</td>\n",
       "      <td>-0.000980</td>\n",
       "    </tr>\n",
       "    <tr>\n",
       "      <th>2006-01-06</th>\n",
       "      <td>-0.001522</td>\n",
       "      <td>0.000000</td>\n",
       "      <td>0.013903</td>\n",
       "      <td>0.007081</td>\n",
       "      <td>0.000989</td>\n",
       "      <td>0.005630</td>\n",
       "    </tr>\n",
       "    <tr>\n",
       "      <th>2006-01-09</th>\n",
       "      <td>0.000664</td>\n",
       "      <td>-0.004677</td>\n",
       "      <td>0.012078</td>\n",
       "      <td>0.016208</td>\n",
       "      <td>0.010469</td>\n",
       "      <td>0.000000</td>\n",
       "    </tr>\n",
       "  </tbody>\n",
       "</table>\n",
       "</div>"
      ],
      "text/plain": [
       "            BAC Return  C Return  GS Return  JPM Return  MS Return  WFC Return\n",
       "Date                                                                          \n",
       "2006-01-03         NaN       NaN        NaN         NaN        NaN         NaN\n",
       "2006-01-04   -0.010603 -0.018498  -0.013618   -0.014233   0.000794   -0.011624\n",
       "2006-01-05    0.001303  0.004912  -0.000368    0.003034   0.002726   -0.000980\n",
       "2006-01-06   -0.001522  0.000000   0.013903    0.007081   0.000989    0.005630\n",
       "2006-01-09    0.000664 -0.004677   0.012078    0.016208   0.010469    0.000000"
      ]
     },
     "execution_count": 20,
     "metadata": {},
     "output_type": "execute_result"
    }
   ],
   "source": [
    "for i in tickers:\n",
    "    returns[i+' Return'] = bank_stocks.xs(key='Close', axis=1, level='Stock Info')[i].pct_change()\n",
    "returns.head()"
   ]
  },
  {
   "cell_type": "markdown",
   "metadata": {},
   "source": [
    "** Create a pairplot using seaborn of the returns dataframe. What stock stands out to you? Can you figure out why?**"
   ]
  },
  {
   "cell_type": "code",
   "execution_count": 58,
   "metadata": {},
   "outputs": [
    {
     "data": {
      "text/plain": [
       "<seaborn.axisgrid.PairGrid at 0x2362703d7f0>"
      ]
     },
     "execution_count": 58,
     "metadata": {},
     "output_type": "execute_result"
    },
    {
     "data": {
      "image/png": "[encoded data removed]",
      "text/plain": [
       "<Figure size 1080x1080 with 42 Axes>"
      ]
     },
     "metadata": {
      "needs_background": "light"
     },
     "output_type": "display_data"
    }
   ],
   "source": [
    "import seaborn as sns\n",
    "sns.pairplot(returns.iloc[1:])"
   ]
  },
  {
   "cell_type": "markdown",
   "metadata": {},
   "source": [
    "** Using this returns DataFrame, figure out on what dates each bank stock had the best and worst single day returns. You should notice that 4 of the banks share the same day for the worst drop, did anything significant happen that day?**"
   ]
  },
  {
   "cell_type": "code",
   "execution_count": 32,
   "metadata": {},
   "outputs": [
    {
     "data": {
      "text/plain": [
       "BAC Return   2009-01-20\n",
       "C Return     2009-02-27\n",
       "GS Return    2009-01-20\n",
       "JPM Return   2009-01-20\n",
       "MS Return    2008-10-09\n",
       "WFC Return   2009-01-20\n",
       "dtype: datetime64[ns]"
      ]
     },
     "execution_count": 32,
     "metadata": {},
     "output_type": "execute_result"
    }
   ],
   "source": [
    "returns.idxmin()"
   ]
  },
  {
   "cell_type": "markdown",
   "metadata": {},
   "source": [
    "** You should have noticed that Citigroup's largest drop and biggest gain were very close to one another, did anythign significant happen in that time frame? **"
   ]
  },
  {
   "cell_type": "code",
   "execution_count": 33,
   "metadata": {},
   "outputs": [
    {
     "data": {
      "text/plain": [
       "BAC Return   2009-04-09\n",
       "C Return     2008-11-24\n",
       "GS Return    2008-11-24\n",
       "JPM Return   2009-01-21\n",
       "MS Return    2008-10-13\n",
       "WFC Return   2008-07-16\n",
       "dtype: datetime64[ns]"
      ]
     },
     "execution_count": 33,
     "metadata": {},
     "output_type": "execute_result"
    }
   ],
   "source": [
    "returns.idxmax()"
   ]
  },
  {
   "cell_type": "markdown",
   "metadata": {},
   "source": [
    "** Take a look at the standard deviation of the returns, which stock would you classify as the riskiest over the entire time period? Which would you classify as the riskiest for the year 2015?**"
   ]
  },
  {
   "cell_type": "code",
   "execution_count": 34,
   "metadata": {},
   "outputs": [
    {
     "data": {
      "text/plain": [
       "BAC Return    0.036604\n",
       "C Return      0.038615\n",
       "GS Return     0.025370\n",
       "JPM Return    0.027668\n",
       "MS Return     0.037705\n",
       "WFC Return    0.030221\n",
       "dtype: float64"
      ]
     },
     "execution_count": 34,
     "metadata": {},
     "output_type": "execute_result"
    }
   ],
   "source": [
    "returns.std()"
   ]
  },
  {
   "cell_type": "code",
   "execution_count": 59,
   "metadata": {},
   "outputs": [
    {
     "data": {
      "text/plain": [
       "BAC Return    0.016146\n",
       "C Return      0.015280\n",
       "GS Return     0.014028\n",
       "JPM Return    0.013964\n",
       "MS Return     0.016008\n",
       "WFC Return    0.012549\n",
       "dtype: float64"
      ]
     },
     "execution_count": 59,
     "metadata": {},
     "output_type": "execute_result"
    }
   ],
   "source": [
    "returns['2015-01-01':'2016-01-01'].std()"
   ]
  },
  {
   "cell_type": "markdown",
   "metadata": {},
   "source": [
    "** Create a distplot using seaborn of the 2015 returns for Morgan Stanley **"
   ]
  },
  {
   "cell_type": "code",
   "execution_count": 56,
   "metadata": {},
   "outputs": [
    {
     "data": {
      "text/plain": [
       "<seaborn.axisgrid.FacetGrid at 0x23626e22550>"
      ]
     },
     "execution_count": 56,
     "metadata": {},
     "output_type": "execute_result"
    },
    {
     "data": {
      "image/png": "[encoded data removed]",
      "text/plain": [
       "<Figure size 360x360 with 1 Axes>"
      ]
     },
     "metadata": {
      "needs_background": "light"
     },
     "output_type": "display_data"
    }
   ],
   "source": [
    "sns.displot(returns['2015-01-01':'2016-01-01']['MS Return'], bins=100, kde=True)"
   ]
  },
  {
   "cell_type": "markdown",
   "metadata": {},
   "source": [
    "** Create a distplot using seaborn of the 2008 returns for CitiGroup **"
   ]
  },
  {
   "cell_type": "code",
   "execution_count": 55,
   "metadata": {},
   "outputs": [
    {
     "name": "stderr",
     "output_type": "stream",
     "text": [
      "C:\\Users\\Akwasi\\anaconda3\\lib\\site-packages\\seaborn\\distributions.py:2557: FutureWarning:\n",
      "\n",
      "`distplot` is a deprecated function and will be removed in a future version. Please adapt your code to use either `displot` (a figure-level function with similar flexibility) or `histplot` (an axes-level function for histograms).\n",
      "\n"
     ]
    },
    {
     "data": {
      "text/plain": [
       "<AxesSubplot:xlabel='C Return', ylabel='Density'>"
      ]
     },
     "execution_count": 55,
     "metadata": {},
     "output_type": "execute_result"
    },
    {
     "data": {
      "image/png": "[encoded data removed]",
      "text/plain": [
       "<Figure size 432x288 with 1 Axes>"
      ]
     },
     "metadata": {
      "needs_background": "light"
     },
     "output_type": "display_data"
    }
   ],
   "source": [
    "sns.distplot(returns['2008-01-01':'2009-01-01']['C Return'], bins=100, kde=True)"
   ]
  },
  {
   "cell_type": "markdown",
   "metadata": {},
   "source": [
    "____\n",
    "# More Visualization\n",
    "\n",
    "A lot of this project will focus on visualizations. Feel free to use any of your preferred visualization libraries to try to recreate the described plots below, seaborn, matplotlib, plotly and cufflinks, or just pandas.\n",
    "\n",
    "### Imports"
   ]
  },
  {
   "cell_type": "code",
   "execution_count": 45,
   "metadata": {},
   "outputs": [
    {
     "data": {
      "text/html": [
       "        <script type=\"text/javascript\">\n",
       "        window.PlotlyConfig = {MathJaxConfig: 'local'};\n",
       "        if (window.MathJax) {MathJax.Hub.Config({SVG: {font: \"STIX-Web\"}});}\n",
       "        if (typeof require !== 'undefined') {\n",
       "        require.undef(\"plotly\");\n",
       "        requirejs.config({\n",
       "            paths: {\n",
       "                'plotly': ['https://cdn.plot.ly/plotly-latest.min']\n",
       "            }\n",
       "        });\n",
       "        require(['plotly'], function(Plotly) {\n",
       "            window._Plotly = Plotly;\n",
       "        });\n",
       "        }\n",
       "        </script>\n",
       "        "
      ]
     },
     "metadata": {},
     "output_type": "display_data"
    }
   ],
   "source": [
    "import matplotlib.pyplot as plt\n",
    "import seaborn as sns\n",
    "sns.set_style('whitegrid')\n",
    "%matplotlib inline\n",
    "\n",
    "# Optional Plotly Method Imports\n",
    "import plotly\n",
    "import cufflinks as cf\n",
    "cf.go_offline()"
   ]
  },
  {
   "cell_type": "markdown",
   "metadata": {},
   "source": [
    "** Create a line plot showing Close price for each bank for the entire index of time. (Hint: Try using a for loop, or use [.xs](http://pandas.pydata.org/pandas-docs/stable/generated/pandas.DataFrame.xs.html) to get a cross section of the data.)**"
   ]
  },
  {
   "cell_type": "code",
   "execution_count": 61,
   "metadata": {},
   "outputs": [
    {
     "data": {
      "text/plain": [
       "<AxesSubplot:xlabel='Date'>"
      ]
     },
     "execution_count": 61,
     "metadata": {},
     "output_type": "execute_result"
    },
    {
     "data": {
      "image/png": "[encoded data removed]",
      "text/plain": [
       "<Figure size 1080x360 with 1 Axes>"
      ]
     },
     "metadata": {
      "needs_background": "light"
     },
     "output_type": "display_data"
    }
   ],
   "source": [
    "plt.figure(figsize=(15,5))\n",
    "sns.lineplot(data=bank_stocks.xs(key='Close', axis=1, level='Stock Info'))"
   ]
  },
  {
   "cell_type": "markdown",
   "metadata": {},
   "source": [
    "## Moving Averages\n",
    "\n",
    "Let's analyze the moving averages for these stocks in the year 2008. \n",
    "\n",
    "** Plot the rolling 30 day average against the Close Price for Bank Of America's stock for the year 2008**"
   ]
  },
  {
   "cell_type": "code",
   "execution_count": 60,
   "metadata": {},
   "outputs": [
    {
     "data": {
      "text/plain": [
       "<AxesSubplot:xlabel='Date'>"
      ]
     },
     "execution_count": 60,
     "metadata": {},
     "output_type": "execute_result"
    },
    {
     "data": {
      "image/png": "[encoded data removed]",
      "text/plain": [
       "<Figure size 1080x360 with 1 Axes>"
      ]
     },
     "metadata": {
      "needs_background": "light"
     },
     "output_type": "display_data"
    }
   ],
   "source": [
    "plt.figure(figsize=(15,5))\n",
    "BAC['Close'].loc['2008-01-01':'2009-01-01'].rolling(window=30).mean().plot()\n",
    "BAC['Close'].loc['2008-01-01':'2009-01-01'].plot()"
   ]
  },
  {
   "cell_type": "markdown",
   "metadata": {},
   "source": [
    "** Create a heatmap of the correlation between the stocks Close Price.**"
   ]
  },
  {
   "cell_type": "code",
   "execution_count": 65,
   "metadata": {},
   "outputs": [
    {
     "data": {
      "text/plain": [
       "<AxesSubplot:xlabel='Bank Ticker', ylabel='Bank Ticker'>"
      ]
     },
     "execution_count": 65,
     "metadata": {},
     "output_type": "execute_result"
    },
    {
     "data": {
      "image/png": "[encoded data removed]",
      "text/plain": [
       "<Figure size 432x288 with 2 Axes>"
      ]
     },
     "metadata": {
      "needs_background": "light"
     },
     "output_type": "display_data"
    }
   ],
   "source": [
    "sns.heatmap(data=bank_stocks.xs(key='Close', axis=1, level='Stock Info').corr(),annot=True)"
   ]
  },
  {
   "cell_type": "markdown",
   "metadata": {},
   "source": [
    "** Optional: Use seaborn's clustermap to cluster the correlations together:**"
   ]
  },
  {
   "cell_type": "code",
   "execution_count": 64,
   "metadata": {},
   "outputs": [
    {
     "data": {
      "text/plain": [
       "<seaborn.matrix.ClusterGrid at 0x236293ee5e0>"
      ]
     },
     "execution_count": 64,
     "metadata": {},
     "output_type": "execute_result"
    },
    {
     "data": {
      "image/png": "[encoded data removed]",
      "text/plain": [
       "<Figure size 720x720 with 4 Axes>"
      ]
     },
     "metadata": {
      "needs_background": "light"
     },
     "output_type": "display_data"
    }
   ],
   "source": [
    "sns.clustermap(data=bank_stocks.xs(key='Close', axis=1, level='Stock Info').corr(),annot=True)"
   ]
  },
  {
   "cell_type": "markdown",
   "metadata": {},
   "source": [
    "# Part 2 (Optional)\n",
    "\n",
    "In this second part of the project we will rely on the cufflinks library to create some Technical Analysis plots. This part of the project is experimental due to its heavy reliance on the cuffinks project, so feel free to skip it if any functionality is broken in the future."
   ]
  },
  {
   "cell_type": "markdown",
   "metadata": {
    "collapsed": true
   },
   "source": [
    "** Use .iplot(kind='candle) to create a candle plot of Bank of America's stock from Jan 1st 2015 to Jan 1st 2016.**"
   ]
  },
  {
   "cell_type": "code",
   "execution_count": 68,
   "metadata": {},
   "outputs": [
    {
     "data": {
      "application/vnd.plotly.v1+json": {
       "config": {
        "linkText": "Export to plot.ly",
        "plotlyServerURL": "https://plot.ly",
        "showLink": true
       },
       "data": [
        {
         "close": [
          15.949,
          15.488,
          15.018,
          15.094,
          15.403,
          15.129,
          14.859,
          14.655,
          14.291,
          13.544,
          13.701,
          13.595,
          13.729,
          14.333,
          14.014,
          14.122,
          13.925,
          13.544,
          13.746,
          13.498,
          13.775,
          14.155,
          14.069,
          14.228,
          14.692,
          14.569,
          14.628,
          14.576,
          14.851,
          14.799,
          14.816,
          14.522,
          14.442,
          14.595,
          14.434,
          14.595,
          14.692,
          14.291,
          14.087,
          14.266,
          14.291,
          14.155,
          14.299,
          14.495,
          14.45,
          14.113,
          14.328,
          14.352,
          14.382,
          14.415,
          14.382,
          14.283,
          13.95,
          14.155,
          14.05,
          13.95,
          13.773,
          13.783,
          13.681,
          13.87,
          13.754,
          13.773,
          13.889,
          13.862,
          13.818,
          13.95,
          14.04,
          14.05,
          14.121,
          14.138,
          13.978,
          14.113,
          13.906,
          13.915,
          13.853,
          14.068,
          14.021,
          13.978,
          13.906,
          13.986,
          14.283,
          14.238,
          14.399,
          14.693,
          14.611,
          14.56,
          14.515,
          14.701,
          14.738,
          14.684,
          14.719,
          14.765,
          14.611,
          14.756,
          14.989,
          14.961,
          14.952,
          14.971,
          14.747,
          14.961,
          14.899,
          14.747,
          14.794,
          14.944,
          15.177,
          15.04,
          15.407,
          15.309,
          15.517,
          15.769,
          15.679,
          15.679,
          15.663,
          15.73,
          15.57,
          15.577,
          15.393,
          15.663,
          15.84,
          15.679,
          15.57,
          15.604,
          15.14,
          15.257,
          15.434,
          15.265,
          15.185,
          14.961,
          14.569,
          14.773,
          14.971,
          15.257,
          15.355,
          15.848,
          16.09,
          16.223,
          16.242,
          16.206,
          16.538,
          16.296,
          16.046,
          15.84,
          16.029,
          16.277,
          16.252,
          16.029,
          15.929,
          15.956,
          16.02,
          15.966,
          15.91,
          16.172,
          15.948,
          15.704,
          15.797,
          15.864,
          15.929,
          15.855,
          15.653,
          14.989,
          14.433,
          13.705,
          13.679,
          14.397,
          14.737,
          14.664,
          14.645,
          13.966,
          14.257,
          14.332,
          14.075,
          14.534,
          14.298,
          14.425,
          14.425,
          14.351,
          14.666,
          14.686,
          14.265,
          13.992,
          14.119,
          14.001,
          14.136,
          13.984,
          14.29,
          13.912,
          13.806,
          14.01,
          13.984,
          13.831,
          14.112,
          14.112,
          14.162,
          14.162,
          14.01,
          13.957,
          13.957,
          14.065,
          14.561,
          14.496,
          14.516,
          14.571,
          14.298,
          14.534,
          14.856,
          14.846,
          14.749,
          15.54,
          15.369,
          15.091,
          15.343,
          15.449,
          15.297,
          15.566,
          16.142,
          15.897,
          16.052,
          15.963,
          15.619,
          15.469,
          15.676,
          15.667,
          16.044,
          15.907,
          15.87,
          15.709,
          15.709,
          15.683,
          15.719,
          15.676,
          16.017,
          15.887,
          15.6,
          16.052,
          15.82,
          15.504,
          15.419,
          15.513,
          15.088,
          15.15,
          15.708,
          16.008,
          15.6,
          15.116,
          15.304,
          15.402,
          15.638,
          15.574,
          15.447,
          15.581,
          15.377,
          15.177
         ],
         "high": [
          16.062,
          15.865,
          15.538,
          15.305,
          15.448,
          15.488,
          15.175,
          15.047,
          14.449,
          14.041,
          13.719,
          13.925,
          13.871,
          14.425,
          14.425,
          14.193,
          14.069,
          14.014,
          13.803,
          13.785,
          13.803,
          14.193,
          14.257,
          14.333,
          14.924,
          14.7,
          14.807,
          14.655,
          14.906,
          14.959,
          14.859,
          14.754,
          14.595,
          14.637,
          14.542,
          14.745,
          14.7,
          14.645,
          14.147,
          14.283,
          14.391,
          14.283,
          14.325,
          14.853,
          14.595,
          14.415,
          14.443,
          14.487,
          14.434,
          14.495,
          14.407,
          14.391,
          14.273,
          14.238,
          14.193,
          14.121,
          13.986,
          13.889,
          13.843,
          13.95,
          13.87,
          13.818,
          13.96,
          13.941,
          13.986,
          14.068,
          14.086,
          14.113,
          14.173,
          14.257,
          14.164,
          14.248,
          14.078,
          14.021,
          13.978,
          14.147,
          14.121,
          14.078,
          14.086,
          14.04,
          14.333,
          14.343,
          14.434,
          14.701,
          14.843,
          14.738,
          14.595,
          14.711,
          14.827,
          14.729,
          14.765,
          14.827,
          14.765,
          14.784,
          14.997,
          15.058,
          14.971,
          15.013,
          14.952,
          14.971,
          14.952,
          14.899,
          14.87,
          14.979,
          15.257,
          15.22,
          15.553,
          15.535,
          15.553,
          15.797,
          15.848,
          15.76,
          15.687,
          15.74,
          15.769,
          15.595,
          15.586,
          15.713,
          15.883,
          15.855,
          15.797,
          15.704,
          15.464,
          15.355,
          15.517,
          15.426,
          15.247,
          15.177,
          14.793,
          14.989,
          15.097,
          15.283,
          15.374,
          16.002,
          16.198,
          16.277,
          16.342,
          16.287,
          16.566,
          16.522,
          16.342,
          15.938,
          16.037,
          16.314,
          16.397,
          16.189,
          16.11,
          16.071,
          16.18,
          16.119,
          16.198,
          16.18,
          16.11,
          15.823,
          15.855,
          15.864,
          15.966,
          16.046,
          15.855,
          15.417,
          14.935,
          14.324,
          14.532,
          14.397,
          14.746,
          14.737,
          14.673,
          14.389,
          14.265,
          14.561,
          14.265,
          14.534,
          14.803,
          14.487,
          14.443,
          14.45,
          14.739,
          14.739,
          14.821,
          14.128,
          14.162,
          14.01,
          14.257,
          14.047,
          14.407,
          14.227,
          13.966,
          14.028,
          14.065,
          13.831,
          14.199,
          14.227,
          14.325,
          14.191,
          14.227,
          14.047,
          14.018,
          14.315,
          14.639,
          14.647,
          14.578,
          14.647,
          14.647,
          14.571,
          14.883,
          14.883,
          14.811,
          15.566,
          15.683,
          15.449,
          15.412,
          15.522,
          15.566,
          15.619,
          16.267,
          16.259,
          16.134,
          16.178,
          15.854,
          15.566,
          15.701,
          15.828,
          16.069,
          16.052,
          16.035,
          15.945,
          15.804,
          15.804,
          15.736,
          15.812,
          16.017,
          16.134,
          16.026,
          16.079,
          16.052,
          15.745,
          15.675,
          15.7,
          15.387,
          15.231,
          15.774,
          16.035,
          16.079,
          15.566,
          15.358,
          15.428,
          15.638,
          15.675,
          15.539,
          15.648,
          15.548,
          15.394
         ],
         "low": [
          15.752,
          15.403,
          14.95,
          15.028,
          15.234,
          15.103,
          14.842,
          14.542,
          14.051,
          13.498,
          13.336,
          13.544,
          13.498,
          13.746,
          14.014,
          13.986,
          13.793,
          13.526,
          13.544,
          13.498,
          13.471,
          13.907,
          14.032,
          14.164,
          14.449,
          14.476,
          14.569,
          14.442,
          14.585,
          14.736,
          14.585,
          14.466,
          14.325,
          14.266,
          14.343,
          14.476,
          14.542,
          14.164,
          13.916,
          14.005,
          14.219,
          14.086,
          14.078,
          14.443,
          14.407,
          14.113,
          14.183,
          14.21,
          14.248,
          14.164,
          14.266,
          14.219,
          13.95,
          13.978,
          14.05,
          13.95,
          13.763,
          13.639,
          13.648,
          13.763,
          13.744,
          13.629,
          13.791,
          13.709,
          13.81,
          13.853,
          13.88,
          13.941,
          14.068,
          14.04,
          13.934,
          13.924,
          13.853,
          13.906,
          13.791,
          13.843,
          14.013,
          13.95,
          13.906,
          13.853,
          13.915,
          14.113,
          14.228,
          14.407,
          14.595,
          14.372,
          14.382,
          14.495,
          14.684,
          14.611,
          14.619,
          14.701,
          14.57,
          14.577,
          14.818,
          14.861,
          14.801,
          14.935,
          14.684,
          14.784,
          14.818,
          14.719,
          14.719,
          14.747,
          15.003,
          14.989,
          15.211,
          15.283,
          15.238,
          15.561,
          15.633,
          15.561,
          15.464,
          15.57,
          15.509,
          15.434,
          15.346,
          15.553,
          15.74,
          15.643,
          15.553,
          15.553,
          15.115,
          15.107,
          15.319,
          15.14,
          14.979,
          14.645,
          14.542,
          14.746,
          14.935,
          15.15,
          15.115,
          15.679,
          16.011,
          16.037,
          16.206,
          16.154,
          16.163,
          16.206,
          15.992,
          15.687,
          15.779,
          16.062,
          16.18,
          16.011,
          15.815,
          15.873,
          15.956,
          15.929,
          15.779,
          16.011,
          15.883,
          15.257,
          15.633,
          15.721,
          15.74,
          15.823,
          15.633,
          14.989,
          14.433,
          13.087,
          13.671,
          13.75,
          14.423,
          14.522,
          14.504,
          13.858,
          14.001,
          14.272,
          13.938,
          14.298,
          14.237,
          14.218,
          14.298,
          14.298,
          14.399,
          14.467,
          14.191,
          13.938,
          14.001,
          13.894,
          14.01,
          13.849,
          14.218,
          13.831,
          13.713,
          13.778,
          13.814,
          13.157,
          13.885,
          14.001,
          14.001,
          13.948,
          13.938,
          13.876,
          13.849,
          13.984,
          14.136,
          14.415,
          14.371,
          14.477,
          14.298,
          14.391,
          14.612,
          14.694,
          14.657,
          14.796,
          15.261,
          15.072,
          15.173,
          15.279,
          15.252,
          15.314,
          15.972,
          15.794,
          15.794,
          15.897,
          15.601,
          15.369,
          15.297,
          15.591,
          15.676,
          15.846,
          15.821,
          15.701,
          15.514,
          15.659,
          15.582,
          15.667,
          15.719,
          15.828,
          15.557,
          15.675,
          15.726,
          15.447,
          15.212,
          15.295,
          15.004,
          14.879,
          15.322,
          15.539,
          15.6,
          15.116,
          15.124,
          15.196,
          15.419,
          15.53,
          15.312,
          15.477,
          15.367,
          15.177
         ],
         "open": [
          16.029,
          15.85,
          15.521,
          15.271,
          15.289,
          15.488,
          15.165,
          14.987,
          14.257,
          13.89,
          13.508,
          13.89,
          13.613,
          13.855,
          14.291,
          14.005,
          13.855,
          14.005,
          13.641,
          13.569,
          13.604,
          13.907,
          14.069,
          14.238,
          14.522,
          14.569,
          14.754,
          14.551,
          14.618,
          14.897,
          14.727,
          14.745,
          14.442,
          14.382,
          14.542,
          14.495,
          14.585,
          14.628,
          14.06,
          14.069,
          14.273,
          14.266,
          14.228,
          14.665,
          14.586,
          14.333,
          14.228,
          14.343,
          14.372,
          14.399,
          14.362,
          14.308,
          14.266,
          14.021,
          14.129,
          14.059,
          13.969,
          13.754,
          13.834,
          13.783,
          13.853,
          13.783,
          13.791,
          13.754,
          13.889,
          13.87,
          13.969,
          14.021,
          14.095,
          14.193,
          14.031,
          13.978,
          14.04,
          13.96,
          13.941,
          13.897,
          14.05,
          14.04,
          13.969,
          13.924,
          13.941,
          14.299,
          14.299,
          14.425,
          14.674,
          14.619,
          14.505,
          14.586,
          14.701,
          14.711,
          14.693,
          14.774,
          14.765,
          14.577,
          14.818,
          14.997,
          14.935,
          14.944,
          14.952,
          14.801,
          14.944,
          14.89,
          14.818,
          14.765,
          15.05,
          15.124,
          15.275,
          15.474,
          15.283,
          15.586,
          15.805,
          15.643,
          15.535,
          15.653,
          15.769,
          15.553,
          15.493,
          15.561,
          15.74,
          15.713,
          15.75,
          15.67,
          15.355,
          15.309,
          15.464,
          15.384,
          15.04,
          15.15,
          14.718,
          14.818,
          15.058,
          15.22,
          15.177,
          15.713,
          16.054,
          16.1,
          16.269,
          16.233,
          16.163,
          16.484,
          16.314,
          15.83,
          15.948,
          16.09,
          16.314,
          16.163,
          16.054,
          15.948,
          16.071,
          16.054,
          16.062,
          16.02,
          16.002,
          15.797,
          15.74,
          15.75,
          15.787,
          15.883,
          15.73,
          15.407,
          14.522,
          13.463,
          14.522,
          14.171,
          14.683,
          14.7,
          14.637,
          14.297,
          14.227,
          14.361,
          14.199,
          14.351,
          14.721,
          14.272,
          14.381,
          14.361,
          14.425,
          14.703,
          14.647,
          14.102,
          14.092,
          13.931,
          14.028,
          13.975,
          14.282,
          14.199,
          13.938,
          13.984,
          13.957,
          13.561,
          13.894,
          14.102,
          14.191,
          14.136,
          14.162,
          14.028,
          13.894,
          14.181,
          14.218,
          14.639,
          14.391,
          14.534,
          14.62,
          14.391,
          14.647,
          14.856,
          14.749,
          14.796,
          15.429,
          15.449,
          15.198,
          15.297,
          15.558,
          15.314,
          16.044,
          16.212,
          15.854,
          16.178,
          15.812,
          15.403,
          15.403,
          15.736,
          15.676,
          15.989,
          16.017,
          15.846,
          15.522,
          15.746,
          15.701,
          15.719,
          15.756,
          16.125,
          15.945,
          15.726,
          16.044,
          15.683,
          15.428,
          15.467,
          15.304,
          15.116,
          15.349,
          15.917,
          16.052,
          15.504,
          15.312,
          15.377,
          15.477,
          15.618,
          15.53,
          15.557,
          15.513,
          15.341
         ],
         "showlegend": false,
         "type": "candlestick",
         "x": [
          "2015-01-02",
          "2015-01-05",
          "2015-01-06",
          "2015-01-07",
          "2015-01-08",
          "2015-01-09",
          "2015-01-12",
          "2015-01-13",
          "2015-01-14",
          "2015-01-15",
          "2015-01-16",
          "2015-01-20",
          "2015-01-21",
          "2015-01-22",
          "2015-01-23",
          "2015-01-26",
          "2015-01-27",
          "2015-01-28",
          "2015-01-29",
          "2015-01-30",
          "2015-02-02",
          "2015-02-03",
          "2015-02-04",
          "2015-02-05",
          "2015-02-06",
          "2015-02-09",
          "2015-02-10",
          "2015-02-11",
          "2015-02-12",
          "2015-02-13",
          "2015-02-17",
          "2015-02-18",
          "2015-02-19",
          "2015-02-20",
          "2015-02-23",
          "2015-02-24",
          "2015-02-25",
          "2015-02-26",
          "2015-02-27",
          "2015-03-02",
          "2015-03-03",
          "2015-03-04",
          "2015-03-05",
          "2015-03-06",
          "2015-03-09",
          "2015-03-10",
          "2015-03-11",
          "2015-03-12",
          "2015-03-13",
          "2015-03-16",
          "2015-03-17",
          "2015-03-18",
          "2015-03-19",
          "2015-03-20",
          "2015-03-23",
          "2015-03-24",
          "2015-03-25",
          "2015-03-26",
          "2015-03-27",
          "2015-03-30",
          "2015-03-31",
          "2015-04-01",
          "2015-04-02",
          "2015-04-06",
          "2015-04-07",
          "2015-04-08",
          "2015-04-09",
          "2015-04-10",
          "2015-04-13",
          "2015-04-14",
          "2015-04-15",
          "2015-04-16",
          "2015-04-17",
          "2015-04-20",
          "2015-04-21",
          "2015-04-22",
          "2015-04-23",
          "2015-04-24",
          "2015-04-27",
          "2015-04-28",
          "2015-04-29",
          "2015-04-30",
          "2015-05-01",
          "2015-05-04",
          "2015-05-05",
          "2015-05-06",
          "2015-05-07",
          "2015-05-08",
          "2015-05-11",
          "2015-05-12",
          "2015-05-13",
          "2015-05-14",
          "2015-05-15",
          "2015-05-18",
          "2015-05-19",
          "2015-05-20",
          "2015-05-21",
          "2015-05-22",
          "2015-05-26",
          "2015-05-27",
          "2015-05-28",
          "2015-05-29",
          "2015-06-01",
          "2015-06-02",
          "2015-06-03",
          "2015-06-04",
          "2015-06-05",
          "2015-06-08",
          "2015-06-09",
          "2015-06-10",
          "2015-06-11",
          "2015-06-12",
          "2015-06-15",
          "2015-06-16",
          "2015-06-17",
          "2015-06-18",
          "2015-06-19",
          "2015-06-22",
          "2015-06-23",
          "2015-06-24",
          "2015-06-25",
          "2015-06-26",
          "2015-06-29",
          "2015-06-30",
          "2015-07-01",
          "2015-07-02",
          "2015-07-06",
          "2015-07-07",
          "2015-07-08",
          "2015-07-09",
          "2015-07-10",
          "2015-07-13",
          "2015-07-14",
          "2015-07-15",
          "2015-07-16",
          "2015-07-17",
          "2015-07-20",
          "2015-07-21",
          "2015-07-22",
          "2015-07-23",
          "2015-07-24",
          "2015-07-27",
          "2015-07-28",
          "2015-07-29",
          "2015-07-30",
          "2015-07-31",
          "2015-08-03",
          "2015-08-04",
          "2015-08-05",
          "2015-08-06",
          "2015-08-07",
          "2015-08-10",
          "2015-08-11",
          "2015-08-12",
          "2015-08-13",
          "2015-08-14",
          "2015-08-17",
          "2015-08-18",
          "2015-08-19",
          "2015-08-20",
          "2015-08-21",
          "2015-08-24",
          "2015-08-25",
          "2015-08-26",
          "2015-08-27",
          "2015-08-28",
          "2015-08-31",
          "2015-09-01",
          "2015-09-02",
          "2015-09-03",
          "2015-09-04",
          "2015-09-08",
          "2015-09-09",
          "2015-09-10",
          "2015-09-11",
          "2015-09-14",
          "2015-09-15",
          "2015-09-16",
          "2015-09-17",
          "2015-09-18",
          "2015-09-21",
          "2015-09-22",
          "2015-09-23",
          "2015-09-24",
          "2015-09-25",
          "2015-09-28",
          "2015-09-29",
          "2015-09-30",
          "2015-10-01",
          "2015-10-02",
          "2015-10-05",
          "2015-10-06",
          "2015-10-07",
          "2015-10-08",
          "2015-10-09",
          "2015-10-12",
          "2015-10-13",
          "2015-10-14",
          "2015-10-15",
          "2015-10-16",
          "2015-10-19",
          "2015-10-20",
          "2015-10-21",
          "2015-10-22",
          "2015-10-23",
          "2015-10-26",
          "2015-10-27",
          "2015-10-28",
          "2015-10-29",
          "2015-10-30",
          "2015-11-02",
          "2015-11-03",
          "2015-11-04",
          "2015-11-05",
          "2015-11-06",
          "2015-11-09",
          "2015-11-10",
          "2015-11-11",
          "2015-11-12",
          "2015-11-13",
          "2015-11-16",
          "2015-11-17",
          "2015-11-18",
          "2015-11-19",
          "2015-11-20",
          "2015-11-23",
          "2015-11-24",
          "2015-11-25",
          "2015-11-27",
          "2015-11-30",
          "2015-12-01",
          "2015-12-02",
          "2015-12-03",
          "2015-12-04",
          "2015-12-07",
          "2015-12-08",
          "2015-12-09",
          "2015-12-10",
          "2015-12-11",
          "2015-12-14",
          "2015-12-15",
          "2015-12-16",
          "2015-12-17",
          "2015-12-18",
          "2015-12-21",
          "2015-12-22",
          "2015-12-23",
          "2015-12-24",
          "2015-12-28",
          "2015-12-29",
          "2015-12-30",
          "2015-12-31"
         ],
         "yaxis": "y2"
        }
       ],
       "layout": {
        "legend": {
         "bgcolor": "#F5F6F9",
         "font": {
          "color": "#4D5663"
         }
        },
        "paper_bgcolor": "#F5F6F9",
        "plot_bgcolor": "#F5F6F9",
        "template": {
         "data": {
          "bar": [
           {
            "error_x": {
             "color": "#2a3f5f"
            },
            "error_y": {
             "color": "#2a3f5f"
            },
            "marker": {
             "line": {
              "color": "#E5ECF6",
              "width": 0.5
             }
            },
            "type": "bar"
           }
          ],
          "barpolar": [
           {
            "marker": {
             "line": {
              "color": "#E5ECF6",
              "width": 0.5
             }
            },
            "type": "barpolar"
           }
          ],
          "carpet": [
           {
            "aaxis": {
             "endlinecolor": "#2a3f5f",
             "gridcolor": "white",
             "linecolor": "white",
             "minorgridcolor": "white",
             "startlinecolor": "#2a3f5f"
            },
            "baxis": {
             "endlinecolor": "#2a3f5f",
             "gridcolor": "white",
             "linecolor": "white",
             "minorgridcolor": "white",
             "startlinecolor": "#2a3f5f"
            },
            "type": "carpet"
           }
          ],
          "choropleth": [
           {
            "colorbar": {
             "outlinewidth": 0,
             "ticks": ""
            },
            "type": "choropleth"
           }
          ],
          "contour": [
           {
            "colorbar": {
             "outlinewidth": 0,
             "ticks": ""
            },
            "colorscale": [
             [
              0,
              "#0d0887"
             ],
             [
              0.1111111111111111,
              "#46039f"
             ],
             [
              0.2222222222222222,
              "#7201a8"
             ],
             [
              0.3333333333333333,
              "#9c179e"
             ],
             [
              0.4444444444444444,
              "#bd3786"
             ],
             [
              0.5555555555555556,
              "#d8576b"
             ],
             [
              0.6666666666666666,
              "#ed7953"
             ],
             [
              0.7777777777777778,
              "#fb9f3a"
             ],
             [
              0.8888888888888888,
              "#fdca26"
             ],
             [
              1,
              "#f0f921"
             ]
            ],
            "type": "contour"
           }
          ],
          "contourcarpet": [
           {
            "colorbar": {
             "outlinewidth": 0,
             "ticks": ""
            },
            "type": "contourcarpet"
           }
          ],
          "heatmap": [
           {
            "colorbar": {
             "outlinewidth": 0,
             "ticks": ""
            },
            "colorscale": [
             [
              0,
              "#0d0887"
             ],
             [
              0.1111111111111111,
              "#46039f"
             ],
             [
              0.2222222222222222,
              "#7201a8"
             ],
             [
              0.3333333333333333,
              "#9c179e"
             ],
             [
              0.4444444444444444,
              "#bd3786"
             ],
             [
              0.5555555555555556,
              "#d8576b"
             ],
             [
              0.6666666666666666,
              "#ed7953"
             ],
             [
              0.7777777777777778,
              "#fb9f3a"
             ],
             [
              0.8888888888888888,
              "#fdca26"
             ],
             [
              1,
              "#f0f921"
             ]
            ],
            "type": "heatmap"
           }
          ],
          "heatmapgl": [
           {
            "colorbar": {
             "outlinewidth": 0,
             "ticks": ""
            },
            "colorscale": [
             [
              0,
              "#0d0887"
             ],
             [
              0.1111111111111111,
              "#46039f"
             ],
             [
              0.2222222222222222,
              "#7201a8"
             ],
             [
              0.3333333333333333,
              "#9c179e"
             ],
             [
              0.4444444444444444,
              "#bd3786"
             ],
             [
              0.5555555555555556,
              "#d8576b"
             ],
             [
              0.6666666666666666,
              "#ed7953"
             ],
             [
              0.7777777777777778,
              "#fb9f3a"
             ],
             [
              0.8888888888888888,
              "#fdca26"
             ],
             [
              1,
              "#f0f921"
             ]
            ],
            "type": "heatmapgl"
           }
          ],
          "histogram": [
           {
            "marker": {
             "colorbar": {
              "outlinewidth": 0,
              "ticks": ""
             }
            },
            "type": "histogram"
           }
          ],
          "histogram2d": [
           {
            "colorbar": {
             "outlinewidth": 0,
             "ticks": ""
            },
            "colorscale": [
             [
              0,
              "#0d0887"
             ],
             [
              0.1111111111111111,
              "#46039f"
             ],
             [
              0.2222222222222222,
              "#7201a8"
             ],
             [
              0.3333333333333333,
              "#9c179e"
             ],
             [
              0.4444444444444444,
              "#bd3786"
             ],
             [
              0.5555555555555556,
              "#d8576b"
             ],
             [
              0.6666666666666666,
              "#ed7953"
             ],
             [
              0.7777777777777778,
              "#fb9f3a"
             ],
             [
              0.8888888888888888,
              "#fdca26"
             ],
             [
              1,
              "#f0f921"
             ]
            ],
            "type": "histogram2d"
           }
          ],
          "histogram2dcontour": [
           {
            "colorbar": {
             "outlinewidth": 0,
             "ticks": ""
            },
            "colorscale": [
             [
              0,
              "#0d0887"
             ],
             [
              0.1111111111111111,
              "#46039f"
             ],
             [
              0.2222222222222222,
              "#7201a8"
             ],
             [
              0.3333333333333333,
              "#9c179e"
             ],
             [
              0.4444444444444444,
              "#bd3786"
             ],
             [
              0.5555555555555556,
              "#d8576b"
             ],
             [
              0.6666666666666666,
              "#ed7953"
             ],
             [
              0.7777777777777778,
              "#fb9f3a"
             ],
             [
              0.8888888888888888,
              "#fdca26"
             ],
             [
              1,
              "#f0f921"
             ]
            ],
            "type": "histogram2dcontour"
           }
          ],
          "mesh3d": [
           {
            "colorbar": {
             "outlinewidth": 0,
             "ticks": ""
            },
            "type": "mesh3d"
           }
          ],
          "parcoords": [
           {
            "line": {
             "colorbar": {
              "outlinewidth": 0,
              "ticks": ""
             }
            },
            "type": "parcoords"
           }
          ],
          "pie": [
           {
            "automargin": true,
            "type": "pie"
           }
          ],
          "scatter": [
           {
            "marker": {
             "colorbar": {
              "outlinewidth": 0,
              "ticks": ""
             }
            },
            "type": "scatter"
           }
          ],
          "scatter3d": [
           {
            "line": {
             "colorbar": {
              "outlinewidth": 0,
              "ticks": ""
             }
            },
            "marker": {
             "colorbar": {
              "outlinewidth": 0,
              "ticks": ""
             }
            },
            "type": "scatter3d"
           }
          ],
          "scattercarpet": [
           {
            "marker": {
             "colorbar": {
              "outlinewidth": 0,
              "ticks": ""
             }
            },
            "type": "scattercarpet"
           }
          ],
          "scattergeo": [
           {
            "marker": {
             "colorbar": {
              "outlinewidth": 0,
              "ticks": ""
             }
            },
            "type": "scattergeo"
           }
          ],
          "scattergl": [
           {
            "marker": {
             "colorbar": {
              "outlinewidth": 0,
              "ticks": ""
             }
            },
            "type": "scattergl"
           }
          ],
          "scattermapbox": [
           {
            "marker": {
             "colorbar": {
              "outlinewidth": 0,
              "ticks": ""
             }
            },
            "type": "scattermapbox"
           }
          ],
          "scatterpolar": [
           {
            "marker": {
             "colorbar": {
              "outlinewidth": 0,
              "ticks": ""
             }
            },
            "type": "scatterpolar"
           }
          ],
          "scatterpolargl": [
           {
            "marker": {
             "colorbar": {
              "outlinewidth": 0,
              "ticks": ""
             }
            },
            "type": "scatterpolargl"
           }
          ],
          "scatterternary": [
           {
            "marker": {
             "colorbar": {
              "outlinewidth": 0,
              "ticks": ""
             }
            },
            "type": "scatterternary"
           }
          ],
          "surface": [
           {
            "colorbar": {
             "outlinewidth": 0,
             "ticks": ""
            },
            "colorscale": [
             [
              0,
              "#0d0887"
             ],
             [
              0.1111111111111111,
              "#46039f"
             ],
             [
              0.2222222222222222,
              "#7201a8"
             ],
             [
              0.3333333333333333,
              "#9c179e"
             ],
             [
              0.4444444444444444,
              "#bd3786"
             ],
             [
              0.5555555555555556,
              "#d8576b"
             ],
             [
              0.6666666666666666,
              "#ed7953"
             ],
             [
              0.7777777777777778,
              "#fb9f3a"
             ],
             [
              0.8888888888888888,
              "#fdca26"
             ],
             [
              1,
              "#f0f921"
             ]
            ],
            "type": "surface"
           }
          ],
          "table": [
           {
            "cells": {
             "fill": {
              "color": "#EBF0F8"
             },
             "line": {
              "color": "white"
             }
            },
            "header": {
             "fill": {
              "color": "#C8D4E3"
             },
             "line": {
              "color": "white"
             }
            },
            "type": "table"
           }
          ]
         },
         "layout": {
          "annotationdefaults": {
           "arrowcolor": "#2a3f5f",
           "arrowhead": 0,
           "arrowwidth": 1
          },
          "autotypenumbers": "strict",
          "coloraxis": {
           "colorbar": {
            "outlinewidth": 0,
            "ticks": ""
           }
          },
          "colorscale": {
           "diverging": [
            [
             0,
             "#8e0152"
            ],
            [
             0.1,
             "#c51b7d"
            ],
            [
             0.2,
             "#de77ae"
            ],
            [
             0.3,
             "#f1b6da"
            ],
            [
             0.4,
             "#fde0ef"
            ],
            [
             0.5,
             "#f7f7f7"
            ],
            [
             0.6,
             "#e6f5d0"
            ],
            [
             0.7,
             "#b8e186"
            ],
            [
             0.8,
             "#7fbc41"
            ],
            [
             0.9,
             "#4d9221"
            ],
            [
             1,
             "#276419"
            ]
           ],
           "sequential": [
            [
             0,
             "#0d0887"
            ],
            [
             0.1111111111111111,
             "#46039f"
            ],
            [
             0.2222222222222222,
             "#7201a8"
            ],
            [
             0.3333333333333333,
             "#9c179e"
            ],
            [
             0.4444444444444444,
             "#bd3786"
            ],
            [
             0.5555555555555556,
             "#d8576b"
            ],
            [
             0.6666666666666666,
             "#ed7953"
            ],
            [
             0.7777777777777778,
             "#fb9f3a"
            ],
            [
             0.8888888888888888,
             "#fdca26"
            ],
            [
             1,
             "#f0f921"
            ]
           ],
           "sequentialminus": [
            [
             0,
             "#0d0887"
            ],
            [
             0.1111111111111111,
             "#46039f"
            ],
            [
             0.2222222222222222,
             "#7201a8"
            ],
            [
             0.3333333333333333,
             "#9c179e"
            ],
            [
             0.4444444444444444,
             "#bd3786"
            ],
            [
             0.5555555555555556,
             "#d8576b"
            ],
            [
             0.6666666666666666,
             "#ed7953"
            ],
            [
             0.7777777777777778,
             "#fb9f3a"
            ],
            [
             0.8888888888888888,
             "#fdca26"
            ],
            [
             1,
             "#f0f921"
            ]
           ]
          },
          "colorway": [
           "#636efa",
           "#EF553B",
           "#00cc96",
           "#ab63fa",
           "#FFA15A",
           "#19d3f3",
           "#FF6692",
           "#B6E880",
           "#FF97FF",
           "#FECB52"
          ],
          "font": {
           "color": "#2a3f5f"
          },
          "geo": {
           "bgcolor": "white",
           "lakecolor": "white",
           "landcolor": "#E5ECF6",
           "showlakes": true,
           "showland": true,
           "subunitcolor": "white"
          },
          "hoverlabel": {
           "align": "left"
          },
          "hovermode": "closest",
          "mapbox": {
           "style": "light"
          },
          "paper_bgcolor": "white",
          "plot_bgcolor": "#E5ECF6",
          "polar": {
           "angularaxis": {
            "gridcolor": "white",
            "linecolor": "white",
            "ticks": ""
           },
           "bgcolor": "#E5ECF6",
           "radialaxis": {
            "gridcolor": "white",
            "linecolor": "white",
            "ticks": ""
           }
          },
          "scene": {
           "xaxis": {
            "backgroundcolor": "#E5ECF6",
            "gridcolor": "white",
            "gridwidth": 2,
            "linecolor": "white",
            "showbackground": true,
            "ticks": "",
            "zerolinecolor": "white"
           },
           "yaxis": {
            "backgroundcolor": "#E5ECF6",
            "gridcolor": "white",
            "gridwidth": 2,
            "linecolor": "white",
            "showbackground": true,
            "ticks": "",
            "zerolinecolor": "white"
           },
           "zaxis": {
            "backgroundcolor": "#E5ECF6",
            "gridcolor": "white",
            "gridwidth": 2,
            "linecolor": "white",
            "showbackground": true,
            "ticks": "",
            "zerolinecolor": "white"
           }
          },
          "shapedefaults": {
           "line": {
            "color": "#2a3f5f"
           }
          },
          "ternary": {
           "aaxis": {
            "gridcolor": "white",
            "linecolor": "white",
            "ticks": ""
           },
           "baxis": {
            "gridcolor": "white",
            "linecolor": "white",
            "ticks": ""
           },
           "bgcolor": "#E5ECF6",
           "caxis": {
            "gridcolor": "white",
            "linecolor": "white",
            "ticks": ""
           }
          },
          "title": {
           "x": 0.05
          },
          "xaxis": {
           "automargin": true,
           "gridcolor": "white",
           "linecolor": "white",
           "ticks": "",
           "title": {
            "standoff": 15
           },
           "zerolinecolor": "white",
           "zerolinewidth": 2
          },
          "yaxis": {
           "automargin": true,
           "gridcolor": "white",
           "linecolor": "white",
           "ticks": "",
           "title": {
            "standoff": 15
           },
           "zerolinecolor": "white",
           "zerolinewidth": 2
          }
         }
        },
        "title": {
         "font": {
          "color": "#4D5663"
         }
        },
        "xaxis": {
         "gridcolor": "#E1E5ED",
         "rangeslider": {
          "visible": false
         },
         "showgrid": true,
         "tickfont": {
          "color": "#4D5663"
         },
         "title": {
          "font": {
           "color": "#4D5663"
          },
          "text": ""
         },
         "zerolinecolor": "#E1E5ED"
        },
        "yaxis": {
         "gridcolor": "#E1E5ED",
         "showgrid": true,
         "showticklabels": false,
         "tickfont": {
          "color": "#4D5663"
         },
         "title": {
          "font": {
           "color": "#4D5663"
          },
          "text": ""
         },
         "zerolinecolor": "#E1E5ED"
        },
        "yaxis2": {
         "gridcolor": "#E1E5ED",
         "showgrid": true,
         "tickfont": {
          "color": "#4D5663"
         },
         "title": {
          "font": {
           "color": "#4D5663"
          },
          "text": ""
         },
         "zerolinecolor": "#E1E5ED"
        }
       }
      },
      "text/html": [
       "<div>                            <div id=\"00b04358-d9d4-46bd-88d2-b9e196db4441\" class=\"plotly-graph-div\" style=\"height:525px; width:100%;\"></div>            <script type=\"text/javascript\">                require([\"plotly\"], function(Plotly) {                    window.PLOTLYENV=window.PLOTLYENV || {};\n",
       "                    window.PLOTLYENV.BASE_URL='https://plot.ly';                                    if (document.getElementById(\"00b04358-d9d4-46bd-88d2-b9e196db4441\")) {                    Plotly.newPlot(                        \"00b04358-d9d4-46bd-88d2-b9e196db4441\",                        [{\"close\": [15.949, 15.488, 15.018, 15.094, 15.403, 15.129, 14.859, 14.655, 14.291, 13.544, 13.701, 13.595, 13.729, 14.333, 14.014, 14.122, 13.925, 13.544, 13.746, 13.498, 13.775, 14.155, 14.069, 14.228, 14.692, 14.569, 14.628, 14.576, 14.851, 14.799, 14.816, 14.522, 14.442, 14.595, 14.434, 14.595, 14.692, 14.291, 14.087, 14.266, 14.291, 14.155, 14.299, 14.495, 14.45, 14.113, 14.328, 14.352, 14.382, 14.415, 14.382, 14.283, 13.95, 14.155, 14.05, 13.95, 13.773, 13.783, 13.681, 13.87, 13.754, 13.773, 13.889, 13.862, 13.818, 13.95, 14.04, 14.05, 14.121, 14.138, 13.978, 14.113, 13.906, 13.915, 13.853, 14.068, 14.021, 13.978, 13.906, 13.986, 14.283, 14.238, 14.399, 14.693, 14.611, 14.56, 14.515, 14.701, 14.738, 14.684, 14.719, 14.765, 14.611, 14.756, 14.989, 14.961, 14.952, 14.971, 14.747, 14.961, 14.899, 14.747, 14.794, 14.944, 15.177, 15.04, 15.407, 15.309, 15.517, 15.769, 15.679, 15.679, 15.663, 15.73, 15.57, 15.577, 15.393, 15.663, 15.84, 15.679, 15.57, 15.604, 15.14, 15.257, 15.434, 15.265, 15.185, 14.961, 14.569, 14.773, 14.971, 15.257, 15.355, 15.848, 16.09, 16.223, 16.242, 16.206, 16.538, 16.296, 16.046, 15.84, 16.029, 16.277, 16.252, 16.029, 15.929, 15.956, 16.02, 15.966, 15.91, 16.172, 15.948, 15.704, 15.797, 15.864, 15.929, 15.855, 15.653, 14.989, 14.433, 13.705, 13.679, 14.397, 14.737, 14.664, 14.645, 13.966, 14.257, 14.332, 14.075, 14.534, 14.298, 14.425, 14.425, 14.351, 14.666, 14.686, 14.265, 13.992, 14.119, 14.001, 14.136, 13.984, 14.29, 13.912, 13.806, 14.01, 13.984, 13.831, 14.112, 14.112, 14.162, 14.162, 14.01, 13.957, 13.957, 14.065, 14.561, 14.496, 14.516, 14.571, 14.298, 14.534, 14.856, 14.846, 14.749, 15.54, 15.369, 15.091, 15.343, 15.449, 15.297, 15.566, 16.142, 15.897, 16.052, 15.963, 15.619, 15.469, 15.676, 15.667, 16.044, 15.907, 15.87, 15.709, 15.709, 15.683, 15.719, 15.676, 16.017, 15.887, 15.6, 16.052, 15.82, 15.504, 15.419, 15.513, 15.088, 15.15, 15.708, 16.008, 15.6, 15.116, 15.304, 15.402, 15.638, 15.574, 15.447, 15.581, 15.377, 15.177], \"high\": [16.062, 15.865, 15.538, 15.305, 15.448, 15.488, 15.175, 15.047, 14.449, 14.041, 13.719, 13.925, 13.871, 14.425, 14.425, 14.193, 14.069, 14.014, 13.803, 13.785, 13.803, 14.193, 14.257, 14.333, 14.924, 14.7, 14.807, 14.655, 14.906, 14.959, 14.859, 14.754, 14.595, 14.637, 14.542, 14.745, 14.7, 14.645, 14.147, 14.283, 14.391, 14.283, 14.325, 14.853, 14.595, 14.415, 14.443, 14.487, 14.434, 14.495, 14.407, 14.391, 14.273, 14.238, 14.193, 14.121, 13.986, 13.889, 13.843, 13.95, 13.87, 13.818, 13.96, 13.941, 13.986, 14.068, 14.086, 14.113, 14.173, 14.257, 14.164, 14.248, 14.078, 14.021, 13.978, 14.147, 14.121, 14.078, 14.086, 14.04, 14.333, 14.343, 14.434, 14.701, 14.843, 14.738, 14.595, 14.711, 14.827, 14.729, 14.765, 14.827, 14.765, 14.784, 14.997, 15.058, 14.971, 15.013, 14.952, 14.971, 14.952, 14.899, 14.87, 14.979, 15.257, 15.22, 15.553, 15.535, 15.553, 15.797, 15.848, 15.76, 15.687, 15.74, 15.769, 15.595, 15.586, 15.713, 15.883, 15.855, 15.797, 15.704, 15.464, 15.355, 15.517, 15.426, 15.247, 15.177, 14.793, 14.989, 15.097, 15.283, 15.374, 16.002, 16.198, 16.277, 16.342, 16.287, 16.566, 16.522, 16.342, 15.938, 16.037, 16.314, 16.397, 16.189, 16.11, 16.071, 16.18, 16.119, 16.198, 16.18, 16.11, 15.823, 15.855, 15.864, 15.966, 16.046, 15.855, 15.417, 14.935, 14.324, 14.532, 14.397, 14.746, 14.737, 14.673, 14.389, 14.265, 14.561, 14.265, 14.534, 14.803, 14.487, 14.443, 14.45, 14.739, 14.739, 14.821, 14.128, 14.162, 14.01, 14.257, 14.047, 14.407, 14.227, 13.966, 14.028, 14.065, 13.831, 14.199, 14.227, 14.325, 14.191, 14.227, 14.047, 14.018, 14.315, 14.639, 14.647, 14.578, 14.647, 14.647, 14.571, 14.883, 14.883, 14.811, 15.566, 15.683, 15.449, 15.412, 15.522, 15.566, 15.619, 16.267, 16.259, 16.134, 16.178, 15.854, 15.566, 15.701, 15.828, 16.069, 16.052, 16.035, 15.945, 15.804, 15.804, 15.736, 15.812, 16.017, 16.134, 16.026, 16.079, 16.052, 15.745, 15.675, 15.7, 15.387, 15.231, 15.774, 16.035, 16.079, 15.566, 15.358, 15.428, 15.638, 15.675, 15.539, 15.648, 15.548, 15.394], \"low\": [15.752, 15.403, 14.95, 15.028, 15.234, 15.103, 14.842, 14.542, 14.051, 13.498, 13.336, 13.544, 13.498, 13.746, 14.014, 13.986, 13.793, 13.526, 13.544, 13.498, 13.471, 13.907, 14.032, 14.164, 14.449, 14.476, 14.569, 14.442, 14.585, 14.736, 14.585, 14.466, 14.325, 14.266, 14.343, 14.476, 14.542, 14.164, 13.916, 14.005, 14.219, 14.086, 14.078, 14.443, 14.407, 14.113, 14.183, 14.21, 14.248, 14.164, 14.266, 14.219, 13.95, 13.978, 14.05, 13.95, 13.763, 13.639, 13.648, 13.763, 13.744, 13.629, 13.791, 13.709, 13.81, 13.853, 13.88, 13.941, 14.068, 14.04, 13.934, 13.924, 13.853, 13.906, 13.791, 13.843, 14.013, 13.95, 13.906, 13.853, 13.915, 14.113, 14.228, 14.407, 14.595, 14.372, 14.382, 14.495, 14.684, 14.611, 14.619, 14.701, 14.57, 14.577, 14.818, 14.861, 14.801, 14.935, 14.684, 14.784, 14.818, 14.719, 14.719, 14.747, 15.003, 14.989, 15.211, 15.283, 15.238, 15.561, 15.633, 15.561, 15.464, 15.57, 15.509, 15.434, 15.346, 15.553, 15.74, 15.643, 15.553, 15.553, 15.115, 15.107, 15.319, 15.14, 14.979, 14.645, 14.542, 14.746, 14.935, 15.15, 15.115, 15.679, 16.011, 16.037, 16.206, 16.154, 16.163, 16.206, 15.992, 15.687, 15.779, 16.062, 16.18, 16.011, 15.815, 15.873, 15.956, 15.929, 15.779, 16.011, 15.883, 15.257, 15.633, 15.721, 15.74, 15.823, 15.633, 14.989, 14.433, 13.087, 13.671, 13.75, 14.423, 14.522, 14.504, 13.858, 14.001, 14.272, 13.938, 14.298, 14.237, 14.218, 14.298, 14.298, 14.399, 14.467, 14.191, 13.938, 14.001, 13.894, 14.01, 13.849, 14.218, 13.831, 13.713, 13.778, 13.814, 13.157, 13.885, 14.001, 14.001, 13.948, 13.938, 13.876, 13.849, 13.984, 14.136, 14.415, 14.371, 14.477, 14.298, 14.391, 14.612, 14.694, 14.657, 14.796, 15.261, 15.072, 15.173, 15.279, 15.252, 15.314, 15.972, 15.794, 15.794, 15.897, 15.601, 15.369, 15.297, 15.591, 15.676, 15.846, 15.821, 15.701, 15.514, 15.659, 15.582, 15.667, 15.719, 15.828, 15.557, 15.675, 15.726, 15.447, 15.212, 15.295, 15.004, 14.879, 15.322, 15.539, 15.6, 15.116, 15.124, 15.196, 15.419, 15.53, 15.312, 15.477, 15.367, 15.177], \"open\": [16.029, 15.85, 15.521, 15.271, 15.289, 15.488, 15.165, 14.987, 14.257, 13.89, 13.508, 13.89, 13.613, 13.855, 14.291, 14.005, 13.855, 14.005, 13.641, 13.569, 13.604, 13.907, 14.069, 14.238, 14.522, 14.569, 14.754, 14.551, 14.618, 14.897, 14.727, 14.745, 14.442, 14.382, 14.542, 14.495, 14.585, 14.628, 14.06, 14.069, 14.273, 14.266, 14.228, 14.665, 14.586, 14.333, 14.228, 14.343, 14.372, 14.399, 14.362, 14.308, 14.266, 14.021, 14.129, 14.059, 13.969, 13.754, 13.834, 13.783, 13.853, 13.783, 13.791, 13.754, 13.889, 13.87, 13.969, 14.021, 14.095, 14.193, 14.031, 13.978, 14.04, 13.96, 13.941, 13.897, 14.05, 14.04, 13.969, 13.924, 13.941, 14.299, 14.299, 14.425, 14.674, 14.619, 14.505, 14.586, 14.701, 14.711, 14.693, 14.774, 14.765, 14.577, 14.818, 14.997, 14.935, 14.944, 14.952, 14.801, 14.944, 14.89, 14.818, 14.765, 15.05, 15.124, 15.275, 15.474, 15.283, 15.586, 15.805, 15.643, 15.535, 15.653, 15.769, 15.553, 15.493, 15.561, 15.74, 15.713, 15.75, 15.67, 15.355, 15.309, 15.464, 15.384, 15.04, 15.15, 14.718, 14.818, 15.058, 15.22, 15.177, 15.713, 16.054, 16.1, 16.269, 16.233, 16.163, 16.484, 16.314, 15.83, 15.948, 16.09, 16.314, 16.163, 16.054, 15.948, 16.071, 16.054, 16.062, 16.02, 16.002, 15.797, 15.74, 15.75, 15.787, 15.883, 15.73, 15.407, 14.522, 13.463, 14.522, 14.171, 14.683, 14.7, 14.637, 14.297, 14.227, 14.361, 14.199, 14.351, 14.721, 14.272, 14.381, 14.361, 14.425, 14.703, 14.647, 14.102, 14.092, 13.931, 14.028, 13.975, 14.282, 14.199, 13.938, 13.984, 13.957, 13.561, 13.894, 14.102, 14.191, 14.136, 14.162, 14.028, 13.894, 14.181, 14.218, 14.639, 14.391, 14.534, 14.62, 14.391, 14.647, 14.856, 14.749, 14.796, 15.429, 15.449, 15.198, 15.297, 15.558, 15.314, 16.044, 16.212, 15.854, 16.178, 15.812, 15.403, 15.403, 15.736, 15.676, 15.989, 16.017, 15.846, 15.522, 15.746, 15.701, 15.719, 15.756, 16.125, 15.945, 15.726, 16.044, 15.683, 15.428, 15.467, 15.304, 15.116, 15.349, 15.917, 16.052, 15.504, 15.312, 15.377, 15.477, 15.618, 15.53, 15.557, 15.513, 15.341], \"showlegend\": false, \"type\": \"candlestick\", \"x\": [\"2015-01-02\", \"2015-01-05\", \"2015-01-06\", \"2015-01-07\", \"2015-01-08\", \"2015-01-09\", \"2015-01-12\", \"2015-01-13\", \"2015-01-14\", \"2015-01-15\", \"2015-01-16\", \"2015-01-20\", \"2015-01-21\", \"2015-01-22\", \"2015-01-23\", \"2015-01-26\", \"2015-01-27\", \"2015-01-28\", \"2015-01-29\", \"2015-01-30\", \"2015-02-02\", \"2015-02-03\", \"2015-02-04\", \"2015-02-05\", \"2015-02-06\", \"2015-02-09\", \"2015-02-10\", \"2015-02-11\", \"2015-02-12\", \"2015-02-13\", \"2015-02-17\", \"2015-02-18\", \"2015-02-19\", \"2015-02-20\", \"2015-02-23\", \"2015-02-24\", \"2015-02-25\", \"2015-02-26\", \"2015-02-27\", \"2015-03-02\", \"2015-03-03\", \"2015-03-04\", \"2015-03-05\", \"2015-03-06\", \"2015-03-09\", \"2015-03-10\", \"2015-03-11\", \"2015-03-12\", \"2015-03-13\", \"2015-03-16\", \"2015-03-17\", \"2015-03-18\", \"2015-03-19\", \"2015-03-20\", \"2015-03-23\", \"2015-03-24\", \"2015-03-25\", \"2015-03-26\", \"2015-03-27\", \"2015-03-30\", \"2015-03-31\", \"2015-04-01\", \"2015-04-02\", \"2015-04-06\", \"2015-04-07\", \"2015-04-08\", \"2015-04-09\", \"2015-04-10\", \"2015-04-13\", \"2015-04-14\", \"2015-04-15\", \"2015-04-16\", \"2015-04-17\", \"2015-04-20\", \"2015-04-21\", \"2015-04-22\", \"2015-04-23\", \"2015-04-24\", \"2015-04-27\", \"2015-04-28\", \"2015-04-29\", \"2015-04-30\", \"2015-05-01\", \"2015-05-04\", \"2015-05-05\", \"2015-05-06\", \"2015-05-07\", \"2015-05-08\", \"2015-05-11\", \"2015-05-12\", \"2015-05-13\", \"2015-05-14\", \"2015-05-15\", \"2015-05-18\", \"2015-05-19\", \"2015-05-20\", \"2015-05-21\", \"2015-05-22\", \"2015-05-26\", \"2015-05-27\", \"2015-05-28\", \"2015-05-29\", \"2015-06-01\", \"2015-06-02\", \"2015-06-03\", \"2015-06-04\", \"2015-06-05\", \"2015-06-08\", \"2015-06-09\", \"2015-06-10\", \"2015-06-11\", \"2015-06-12\", \"2015-06-15\", \"2015-06-16\", \"2015-06-17\", \"2015-06-18\", \"2015-06-19\", \"2015-06-22\", \"2015-06-23\", \"2015-06-24\", \"2015-06-25\", \"2015-06-26\", \"2015-06-29\", \"2015-06-30\", \"2015-07-01\", \"2015-07-02\", \"2015-07-06\", \"2015-07-07\", \"2015-07-08\", \"2015-07-09\", \"2015-07-10\", \"2015-07-13\", \"2015-07-14\", \"2015-07-15\", \"2015-07-16\", \"2015-07-17\", \"2015-07-20\", \"2015-07-21\", \"2015-07-22\", \"2015-07-23\", \"2015-07-24\", \"2015-07-27\", \"2015-07-28\", \"2015-07-29\", \"2015-07-30\", \"2015-07-31\", \"2015-08-03\", \"2015-08-04\", \"2015-08-05\", \"2015-08-06\", \"2015-08-07\", \"2015-08-10\", \"2015-08-11\", \"2015-08-12\", \"2015-08-13\", \"2015-08-14\", \"2015-08-17\", \"2015-08-18\", \"2015-08-19\", \"2015-08-20\", \"2015-08-21\", \"2015-08-24\", \"2015-08-25\", \"2015-08-26\", \"2015-08-27\", \"2015-08-28\", \"2015-08-31\", \"2015-09-01\", \"2015-09-02\", \"2015-09-03\", \"2015-09-04\", \"2015-09-08\", \"2015-09-09\", \"2015-09-10\", \"2015-09-11\", \"2015-09-14\", \"2015-09-15\", \"2015-09-16\", \"2015-09-17\", \"2015-09-18\", \"2015-09-21\", \"2015-09-22\", \"2015-09-23\", \"2015-09-24\", \"2015-09-25\", \"2015-09-28\", \"2015-09-29\", \"2015-09-30\", \"2015-10-01\", \"2015-10-02\", \"2015-10-05\", \"2015-10-06\", \"2015-10-07\", \"2015-10-08\", \"2015-10-09\", \"2015-10-12\", \"2015-10-13\", \"2015-10-14\", \"2015-10-15\", \"2015-10-16\", \"2015-10-19\", \"2015-10-20\", \"2015-10-21\", \"2015-10-22\", \"2015-10-23\", \"2015-10-26\", \"2015-10-27\", \"2015-10-28\", \"2015-10-29\", \"2015-10-30\", \"2015-11-02\", \"2015-11-03\", \"2015-11-04\", \"2015-11-05\", \"2015-11-06\", \"2015-11-09\", \"2015-11-10\", \"2015-11-11\", \"2015-11-12\", \"2015-11-13\", \"2015-11-16\", \"2015-11-17\", \"2015-11-18\", \"2015-11-19\", \"2015-11-20\", \"2015-11-23\", \"2015-11-24\", \"2015-11-25\", \"2015-11-27\", \"2015-11-30\", \"2015-12-01\", \"2015-12-02\", \"2015-12-03\", \"2015-12-04\", \"2015-12-07\", \"2015-12-08\", \"2015-12-09\", \"2015-12-10\", \"2015-12-11\", \"2015-12-14\", \"2015-12-15\", \"2015-12-16\", \"2015-12-17\", \"2015-12-18\", \"2015-12-21\", \"2015-12-22\", \"2015-12-23\", \"2015-12-24\", \"2015-12-28\", \"2015-12-29\", \"2015-12-30\", \"2015-12-31\"], \"yaxis\": \"y2\"}],                        {\"legend\": {\"bgcolor\": \"#F5F6F9\", \"font\": {\"color\": \"#4D5663\"}}, \"paper_bgcolor\": \"#F5F6F9\", \"plot_bgcolor\": \"#F5F6F9\", \"template\": {\"data\": {\"bar\": [{\"error_x\": {\"color\": \"#2a3f5f\"}, \"error_y\": {\"color\": \"#2a3f5f\"}, \"marker\": {\"line\": {\"color\": \"#E5ECF6\", \"width\": 0.5}}, \"type\": \"bar\"}], \"barpolar\": [{\"marker\": {\"line\": {\"color\": \"#E5ECF6\", \"width\": 0.5}}, \"type\": \"barpolar\"}], \"carpet\": [{\"aaxis\": {\"endlinecolor\": \"#2a3f5f\", \"gridcolor\": \"white\", \"linecolor\": \"white\", \"minorgridcolor\": \"white\", \"startlinecolor\": \"#2a3f5f\"}, \"baxis\": {\"endlinecolor\": \"#2a3f5f\", \"gridcolor\": \"white\", \"linecolor\": \"white\", \"minorgridcolor\": \"white\", \"startlinecolor\": \"#2a3f5f\"}, \"type\": \"carpet\"}], \"choropleth\": [{\"colorbar\": {\"outlinewidth\": 0, \"ticks\": \"\"}, \"type\": \"choropleth\"}], \"contour\": [{\"colorbar\": {\"outlinewidth\": 0, \"ticks\": \"\"}, \"colorscale\": [[0.0, \"#0d0887\"], [0.1111111111111111, \"#46039f\"], [0.2222222222222222, \"#7201a8\"], [0.3333333333333333, \"#9c179e\"], [0.4444444444444444, \"#bd3786\"], [0.5555555555555556, \"#d8576b\"], [0.6666666666666666, \"#ed7953\"], [0.7777777777777778, \"#fb9f3a\"], [0.8888888888888888, \"#fdca26\"], [1.0, \"#f0f921\"]], \"type\": \"contour\"}], \"contourcarpet\": [{\"colorbar\": {\"outlinewidth\": 0, \"ticks\": \"\"}, \"type\": \"contourcarpet\"}], \"heatmap\": [{\"colorbar\": {\"outlinewidth\": 0, \"ticks\": \"\"}, \"colorscale\": [[0.0, \"#0d0887\"], [0.1111111111111111, \"#46039f\"], [0.2222222222222222, \"#7201a8\"], [0.3333333333333333, \"#9c179e\"], [0.4444444444444444, \"#bd3786\"], [0.5555555555555556, \"#d8576b\"], [0.6666666666666666, \"#ed7953\"], [0.7777777777777778, \"#fb9f3a\"], [0.8888888888888888, \"#fdca26\"], [1.0, \"#f0f921\"]], \"type\": \"heatmap\"}], \"heatmapgl\": [{\"colorbar\": {\"outlinewidth\": 0, \"ticks\": \"\"}, \"colorscale\": [[0.0, \"#0d0887\"], [0.1111111111111111, \"#46039f\"], [0.2222222222222222, \"#7201a8\"], [0.3333333333333333, \"#9c179e\"], [0.4444444444444444, \"#bd3786\"], [0.5555555555555556, \"#d8576b\"], [0.6666666666666666, \"#ed7953\"], [0.7777777777777778, \"#fb9f3a\"], [0.8888888888888888, \"#fdca26\"], [1.0, \"#f0f921\"]], \"type\": \"heatmapgl\"}], \"histogram\": [{\"marker\": {\"colorbar\": {\"outlinewidth\": 0, \"ticks\": \"\"}}, \"type\": \"histogram\"}], \"histogram2d\": [{\"colorbar\": {\"outlinewidth\": 0, \"ticks\": \"\"}, \"colorscale\": [[0.0, \"#0d0887\"], [0.1111111111111111, \"#46039f\"], [0.2222222222222222, \"#7201a8\"], [0.3333333333333333, \"#9c179e\"], [0.4444444444444444, \"#bd3786\"], [0.5555555555555556, \"#d8576b\"], [0.6666666666666666, \"#ed7953\"], [0.7777777777777778, \"#fb9f3a\"], [0.8888888888888888, \"#fdca26\"], [1.0, \"#f0f921\"]], \"type\": \"histogram2d\"}], \"histogram2dcontour\": [{\"colorbar\": {\"outlinewidth\": 0, \"ticks\": \"\"}, \"colorscale\": [[0.0, \"#0d0887\"], [0.1111111111111111, \"#46039f\"], [0.2222222222222222, \"#7201a8\"], [0.3333333333333333, \"#9c179e\"], [0.4444444444444444, \"#bd3786\"], [0.5555555555555556, \"#d8576b\"], [0.6666666666666666, \"#ed7953\"], [0.7777777777777778, \"#fb9f3a\"], [0.8888888888888888, \"#fdca26\"], [1.0, \"#f0f921\"]], \"type\": \"histogram2dcontour\"}], \"mesh3d\": [{\"colorbar\": {\"outlinewidth\": 0, \"ticks\": \"\"}, \"type\": \"mesh3d\"}], \"parcoords\": [{\"line\": {\"colorbar\": {\"outlinewidth\": 0, \"ticks\": \"\"}}, \"type\": \"parcoords\"}], \"pie\": [{\"automargin\": true, \"type\": \"pie\"}], \"scatter\": [{\"marker\": {\"colorbar\": {\"outlinewidth\": 0, \"ticks\": \"\"}}, \"type\": \"scatter\"}], \"scatter3d\": [{\"line\": {\"colorbar\": {\"outlinewidth\": 0, \"ticks\": \"\"}}, \"marker\": {\"colorbar\": {\"outlinewidth\": 0, \"ticks\": \"\"}}, \"type\": \"scatter3d\"}], \"scattercarpet\": [{\"marker\": {\"colorbar\": {\"outlinewidth\": 0, \"ticks\": \"\"}}, \"type\": \"scattercarpet\"}], \"scattergeo\": [{\"marker\": {\"colorbar\": {\"outlinewidth\": 0, \"ticks\": \"\"}}, \"type\": \"scattergeo\"}], \"scattergl\": [{\"marker\": {\"colorbar\": {\"outlinewidth\": 0, \"ticks\": \"\"}}, \"type\": \"scattergl\"}], \"scattermapbox\": [{\"marker\": {\"colorbar\": {\"outlinewidth\": 0, \"ticks\": \"\"}}, \"type\": \"scattermapbox\"}], \"scatterpolar\": [{\"marker\": {\"colorbar\": {\"outlinewidth\": 0, \"ticks\": \"\"}}, \"type\": \"scatterpolar\"}], \"scatterpolargl\": [{\"marker\": {\"colorbar\": {\"outlinewidth\": 0, \"ticks\": \"\"}}, \"type\": \"scatterpolargl\"}], \"scatterternary\": [{\"marker\": {\"colorbar\": {\"outlinewidth\": 0, \"ticks\": \"\"}}, \"type\": \"scatterternary\"}], \"surface\": [{\"colorbar\": {\"outlinewidth\": 0, \"ticks\": \"\"}, \"colorscale\": [[0.0, \"#0d0887\"], [0.1111111111111111, \"#46039f\"], [0.2222222222222222, \"#7201a8\"], [0.3333333333333333, \"#9c179e\"], [0.4444444444444444, \"#bd3786\"], [0.5555555555555556, \"#d8576b\"], [0.6666666666666666, \"#ed7953\"], [0.7777777777777778, \"#fb9f3a\"], [0.8888888888888888, \"#fdca26\"], [1.0, \"#f0f921\"]], \"type\": \"surface\"}], \"table\": [{\"cells\": {\"fill\": {\"color\": \"#EBF0F8\"}, \"line\": {\"color\": \"white\"}}, \"header\": {\"fill\": {\"color\": \"#C8D4E3\"}, \"line\": {\"color\": \"white\"}}, \"type\": \"table\"}]}, \"layout\": {\"annotationdefaults\": {\"arrowcolor\": \"#2a3f5f\", \"arrowhead\": 0, \"arrowwidth\": 1}, \"autotypenumbers\": \"strict\", \"coloraxis\": {\"colorbar\": {\"outlinewidth\": 0, \"ticks\": \"\"}}, \"colorscale\": {\"diverging\": [[0, \"#8e0152\"], [0.1, \"#c51b7d\"], [0.2, \"#de77ae\"], [0.3, \"#f1b6da\"], [0.4, \"#fde0ef\"], [0.5, \"#f7f7f7\"], [0.6, \"#e6f5d0\"], [0.7, \"#b8e186\"], [0.8, \"#7fbc41\"], [0.9, \"#4d9221\"], [1, \"#276419\"]], \"sequential\": [[0.0, \"#0d0887\"], [0.1111111111111111, \"#46039f\"], [0.2222222222222222, \"#7201a8\"], [0.3333333333333333, \"#9c179e\"], [0.4444444444444444, \"#bd3786\"], [0.5555555555555556, \"#d8576b\"], [0.6666666666666666, \"#ed7953\"], [0.7777777777777778, \"#fb9f3a\"], [0.8888888888888888, \"#fdca26\"], [1.0, \"#f0f921\"]], \"sequentialminus\": [[0.0, \"#0d0887\"], [0.1111111111111111, \"#46039f\"], [0.2222222222222222, \"#7201a8\"], [0.3333333333333333, \"#9c179e\"], [0.4444444444444444, \"#bd3786\"], [0.5555555555555556, \"#d8576b\"], [0.6666666666666666, \"#ed7953\"], [0.7777777777777778, \"#fb9f3a\"], [0.8888888888888888, \"#fdca26\"], [1.0, \"#f0f921\"]]}, \"colorway\": [\"#636efa\", \"#EF553B\", \"#00cc96\", \"#ab63fa\", \"#FFA15A\", \"#19d3f3\", \"#FF6692\", \"#B6E880\", \"#FF97FF\", \"#FECB52\"], \"font\": {\"color\": \"#2a3f5f\"}, \"geo\": {\"bgcolor\": \"white\", \"lakecolor\": \"white\", \"landcolor\": \"#E5ECF6\", \"showlakes\": true, \"showland\": true, \"subunitcolor\": \"white\"}, \"hoverlabel\": {\"align\": \"left\"}, \"hovermode\": \"closest\", \"mapbox\": {\"style\": \"light\"}, \"paper_bgcolor\": \"white\", \"plot_bgcolor\": \"#E5ECF6\", \"polar\": {\"angularaxis\": {\"gridcolor\": \"white\", \"linecolor\": \"white\", \"ticks\": \"\"}, \"bgcolor\": \"#E5ECF6\", \"radialaxis\": {\"gridcolor\": \"white\", \"linecolor\": \"white\", \"ticks\": \"\"}}, \"scene\": {\"xaxis\": {\"backgroundcolor\": \"#E5ECF6\", \"gridcolor\": \"white\", \"gridwidth\": 2, \"linecolor\": \"white\", \"showbackground\": true, \"ticks\": \"\", \"zerolinecolor\": \"white\"}, \"yaxis\": {\"backgroundcolor\": \"#E5ECF6\", \"gridcolor\": \"white\", \"gridwidth\": 2, \"linecolor\": \"white\", \"showbackground\": true, \"ticks\": \"\", \"zerolinecolor\": \"white\"}, \"zaxis\": {\"backgroundcolor\": \"#E5ECF6\", \"gridcolor\": \"white\", \"gridwidth\": 2, \"linecolor\": \"white\", \"showbackground\": true, \"ticks\": \"\", \"zerolinecolor\": \"white\"}}, \"shapedefaults\": {\"line\": {\"color\": \"#2a3f5f\"}}, \"ternary\": {\"aaxis\": {\"gridcolor\": \"white\", \"linecolor\": \"white\", \"ticks\": \"\"}, \"baxis\": {\"gridcolor\": \"white\", \"linecolor\": \"white\", \"ticks\": \"\"}, \"bgcolor\": \"#E5ECF6\", \"caxis\": {\"gridcolor\": \"white\", \"linecolor\": \"white\", \"ticks\": \"\"}}, \"title\": {\"x\": 0.05}, \"xaxis\": {\"automargin\": true, \"gridcolor\": \"white\", \"linecolor\": \"white\", \"ticks\": \"\", \"title\": {\"standoff\": 15}, \"zerolinecolor\": \"white\", \"zerolinewidth\": 2}, \"yaxis\": {\"automargin\": true, \"gridcolor\": \"white\", \"linecolor\": \"white\", \"ticks\": \"\", \"title\": {\"standoff\": 15}, \"zerolinecolor\": \"white\", \"zerolinewidth\": 2}}}, \"title\": {\"font\": {\"color\": \"#4D5663\"}}, \"xaxis\": {\"gridcolor\": \"#E1E5ED\", \"rangeslider\": {\"visible\": false}, \"showgrid\": true, \"tickfont\": {\"color\": \"#4D5663\"}, \"title\": {\"font\": {\"color\": \"#4D5663\"}, \"text\": \"\"}, \"zerolinecolor\": \"#E1E5ED\"}, \"yaxis\": {\"gridcolor\": \"#E1E5ED\", \"showgrid\": true, \"showticklabels\": false, \"tickfont\": {\"color\": \"#4D5663\"}, \"title\": {\"font\": {\"color\": \"#4D5663\"}, \"text\": \"\"}, \"zerolinecolor\": \"#E1E5ED\"}, \"yaxis2\": {\"gridcolor\": \"#E1E5ED\", \"showgrid\": true, \"tickfont\": {\"color\": \"#4D5663\"}, \"title\": {\"font\": {\"color\": \"#4D5663\"}, \"text\": \"\"}, \"zerolinecolor\": \"#E1E5ED\"}},                        {\"showLink\": true, \"linkText\": \"Export to plot.ly\", \"plotlyServerURL\": \"https://plot.ly\", \"responsive\": true}                    ).then(function(){\n",
       "                            \n",
       "var gd = document.getElementById('00b04358-d9d4-46bd-88d2-b9e196db4441');\n",
       "var x = new MutationObserver(function (mutations, observer) {{\n",
       "        var display = window.getComputedStyle(gd).display;\n",
       "        if (!display || display === 'none') {{\n",
       "            console.log([gd, 'removed!']);\n",
       "            Plotly.purge(gd);\n",
       "            observer.disconnect();\n",
       "        }}\n",
       "}});\n",
       "\n",
       "// Listen for the removal of the full notebook cells\n",
       "var notebookContainer = gd.closest('#notebook-container');\n",
       "if (notebookContainer) {{\n",
       "    x.observe(notebookContainer, {childList: true});\n",
       "}}\n",
       "\n",
       "// Listen for the clearing of the current output cell\n",
       "var outputEl = gd.closest('.output');\n",
       "if (outputEl) {{\n",
       "    x.observe(outputEl, {childList: true});\n",
       "}}\n",
       "\n",
       "                        })                };                });            </script>        </div>"
      ]
     },
     "metadata": {},
     "output_type": "display_data"
    }
   ],
   "source": [
    "BAC[['Open', 'High', 'Low', 'Close']].loc['2015-01-01':'2016-01-01'].iplot(kind='candle')"
   ]
  },
  {
   "cell_type": "markdown",
   "metadata": {},
   "source": [
    "** Use .ta_plot(study='sma') to create a Simple Moving Averages plot of Morgan Stanley for the year 2015.**"
   ]
  },
  {
   "cell_type": "code",
   "execution_count": 72,
   "metadata": {},
   "outputs": [
    {
     "data": {
      "application/vnd.plotly.v1+json": {
       "config": {
        "linkText": "Export to plot.ly",
        "plotlyServerURL": "https://plot.ly",
        "showLink": true
       },
       "data": [
        {
         "line": {
          "color": "rgba(255, 153, 51, 1.0)",
          "dash": "solid",
          "shape": "linear",
          "width": 1.3
         },
         "mode": "lines",
         "name": "Close",
         "text": "",
         "type": "scatter",
         "x": [
          "2015-01-02",
          "2015-01-05",
          "2015-01-06",
          "2015-01-07",
          "2015-01-08",
          "2015-01-09",
          "2015-01-12",
          "2015-01-13",
          "2015-01-14",
          "2015-01-15",
          "2015-01-16",
          "2015-01-20",
          "2015-01-21",
          "2015-01-22",
          "2015-01-23",
          "2015-01-26",
          "2015-01-27",
          "2015-01-28",
          "2015-01-29",
          "2015-01-30",
          "2015-02-02",
          "2015-02-03",
          "2015-02-04",
          "2015-02-05",
          "2015-02-06",
          "2015-02-09",
          "2015-02-10",
          "2015-02-11",
          "2015-02-12",
          "2015-02-13",
          "2015-02-17",
          "2015-02-18",
          "2015-02-19",
          "2015-02-20",
          "2015-02-23",
          "2015-02-24",
          "2015-02-25",
          "2015-02-26",
          "2015-02-27",
          "2015-03-02",
          "2015-03-03",
          "2015-03-04",
          "2015-03-05",
          "2015-03-06",
          "2015-03-09",
          "2015-03-10",
          "2015-03-11",
          "2015-03-12",
          "2015-03-13",
          "2015-03-16",
          "2015-03-17",
          "2015-03-18",
          "2015-03-19",
          "2015-03-20",
          "2015-03-23",
          "2015-03-24",
          "2015-03-25",
          "2015-03-26",
          "2015-03-27",
          "2015-03-30",
          "2015-03-31",
          "2015-04-01",
          "2015-04-02",
          "2015-04-06",
          "2015-04-07",
          "2015-04-08",
          "2015-04-09",
          "2015-04-10",
          "2015-04-13",
          "2015-04-14",
          "2015-04-15",
          "2015-04-16",
          "2015-04-17",
          "2015-04-20",
          "2015-04-21",
          "2015-04-22",
          "2015-04-23",
          "2015-04-24",
          "2015-04-27",
          "2015-04-28",
          "2015-04-29",
          "2015-04-30",
          "2015-05-01",
          "2015-05-04",
          "2015-05-05",
          "2015-05-06",
          "2015-05-07",
          "2015-05-08",
          "2015-05-11",
          "2015-05-12",
          "2015-05-13",
          "2015-05-14",
          "2015-05-15",
          "2015-05-18",
          "2015-05-19",
          "2015-05-20",
          "2015-05-21",
          "2015-05-22",
          "2015-05-26",
          "2015-05-27",
          "2015-05-28",
          "2015-05-29",
          "2015-06-01",
          "2015-06-02",
          "2015-06-03",
          "2015-06-04",
          "2015-06-05",
          "2015-06-08",
          "2015-06-09",
          "2015-06-10",
          "2015-06-11",
          "2015-06-12",
          "2015-06-15",
          "2015-06-16",
          "2015-06-17",
          "2015-06-18",
          "2015-06-19",
          "2015-06-22",
          "2015-06-23",
          "2015-06-24",
          "2015-06-25",
          "2015-06-26",
          "2015-06-29",
          "2015-06-30",
          "2015-07-01",
          "2015-07-02",
          "2015-07-06",
          "2015-07-07",
          "2015-07-08",
          "2015-07-09",
          "2015-07-10",
          "2015-07-13",
          "2015-07-14",
          "2015-07-15",
          "2015-07-16",
          "2015-07-17",
          "2015-07-20",
          "2015-07-21",
          "2015-07-22",
          "2015-07-23",
          "2015-07-24",
          "2015-07-27",
          "2015-07-28",
          "2015-07-29",
          "2015-07-30",
          "2015-07-31",
          "2015-08-03",
          "2015-08-04",
          "2015-08-05",
          "2015-08-06",
          "2015-08-07",
          "2015-08-10",
          "2015-08-11",
          "2015-08-12",
          "2015-08-13",
          "2015-08-14",
          "2015-08-17",
          "2015-08-18",
          "2015-08-19",
          "2015-08-20",
          "2015-08-21",
          "2015-08-24",
          "2015-08-25",
          "2015-08-26",
          "2015-08-27",
          "2015-08-28",
          "2015-08-31",
          "2015-09-01",
          "2015-09-02",
          "2015-09-03",
          "2015-09-04",
          "2015-09-08",
          "2015-09-09",
          "2015-09-10",
          "2015-09-11",
          "2015-09-14",
          "2015-09-15",
          "2015-09-16",
          "2015-09-17",
          "2015-09-18",
          "2015-09-21",
          "2015-09-22",
          "2015-09-23",
          "2015-09-24",
          "2015-09-25",
          "2015-09-28",
          "2015-09-29",
          "2015-09-30",
          "2015-10-01",
          "2015-10-02",
          "2015-10-05",
          "2015-10-06",
          "2015-10-07",
          "2015-10-08",
          "2015-10-09",
          "2015-10-12",
          "2015-10-13",
          "2015-10-14",
          "2015-10-15",
          "2015-10-16",
          "2015-10-19",
          "2015-10-20",
          "2015-10-21",
          "2015-10-22",
          "2015-10-23",
          "2015-10-26",
          "2015-10-27",
          "2015-10-28",
          "2015-10-29",
          "2015-10-30",
          "2015-11-02",
          "2015-11-03",
          "2015-11-04",
          "2015-11-05",
          "2015-11-06",
          "2015-11-09",
          "2015-11-10",
          "2015-11-11",
          "2015-11-12",
          "2015-11-13",
          "2015-11-16",
          "2015-11-17",
          "2015-11-18",
          "2015-11-19",
          "2015-11-20",
          "2015-11-23",
          "2015-11-24",
          "2015-11-25",
          "2015-11-27",
          "2015-11-30",
          "2015-12-01",
          "2015-12-02",
          "2015-12-03",
          "2015-12-04",
          "2015-12-07",
          "2015-12-08",
          "2015-12-09",
          "2015-12-10",
          "2015-12-11",
          "2015-12-14",
          "2015-12-15",
          "2015-12-16",
          "2015-12-17",
          "2015-12-18",
          "2015-12-21",
          "2015-12-22",
          "2015-12-23",
          "2015-12-24",
          "2015-12-28",
          "2015-12-29",
          "2015-12-30",
          "2015-12-31"
         ],
         "y": [
          33.512,
          32.463,
          31.528,
          31.979,
          32.453,
          31.926,
          31.485,
          31.191,
          30.48,
          29.938,
          30.205,
          30.084,
          30.066,
          30.758,
          30.43,
          30.396,
          30.003,
          29.317,
          29.84,
          29.354,
          29.881,
          30.422,
          30.188,
          30.327,
          31.073,
          30.933,
          31.395,
          31.579,
          32.037,
          31.932,
          32.054,
          31.579,
          31.541,
          31.897,
          31.489,
          31.897,
          31.768,
          31.307,
          31.073,
          31.464,
          31.101,
          30.464,
          30.837,
          30.846,
          30.97,
          30.282,
          30.345,
          31.706,
          31.744,
          31.888,
          31.735,
          31.888,
          31.35,
          31.688,
          31.523,
          31.464,
          30.778,
          30.926,
          31.109,
          31.523,
          30.986,
          31.228,
          31.307,
          31.176,
          31.203,
          31.481,
          31.812,
          31.464,
          31.513,
          31.986,
          32.461,
          32.433,
          31.905,
          32.087,
          31.905,
          32.294,
          32.451,
          32.433,
          32.167,
          32.295,
          32.681,
          32.524,
          32.698,
          33.045,
          32.644,
          32.295,
          32.724,
          33.028,
          33.347,
          32.881,
          32.937,
          33.246,
          32.997,
          33.411,
          33.727,
          33.411,
          33.161,
          33.272,
          32.945,
          33.667,
          33.76,
          33.299,
          33.63,
          33.578,
          34.005,
          33.736,
          34.249,
          34.076,
          34.111,
          34.772,
          34.757,
          34.527,
          34.46,
          34.641,
          34.502,
          34.688,
          34.32,
          34.738,
          35.053,
          34.557,
          34.189,
          34.434,
          33.395,
          33.815,
          34.312,
          33.996,
          33.866,
          33.667,
          32.945,
          33.213,
          33.684,
          34.278,
          34.616,
          34.608,
          34.79,
          35.043,
          34.904,
          34.939,
          35.339,
          34.817,
          34.519,
          34.215,
          34.215,
          34.38,
          34.389,
          33.988,
          33.919,
          34.058,
          34.128,
          34.067,
          33.758,
          34.197,
          33.185,
          32.876,
          33.033,
          33.296,
          33.378,
          33.095,
          32.765,
          31.651,
          29.939,
          28.23,
          27.792,
          29.141,
          30.013,
          29.801,
          30.145,
          28.983,
          29.567,
          29.577,
          29.046,
          29.989,
          29.536,
          29.639,
          29.743,
          29.586,
          30.26,
          30.293,
          29.801,
          28.905,
          29.177,
          28.388,
          28.282,
          27.978,
          28.168,
          27.206,
          27.136,
          27.565,
          27.565,
          27.505,
          28.256,
          28.317,
          28.814,
          28.869,
          28.633,
          28.702,
          28.535,
          28.475,
          29.413,
          29.706,
          28.282,
          28.22,
          27.547,
          28.308,
          28.544,
          28.484,
          28.203,
          29.402,
          29.485,
          28.987,
          29.437,
          29.266,
          29.365,
          29.789,
          31.132,
          30.866,
          30.982,
          30.79,
          30.095,
          29.83,
          29.938,
          29.533,
          30.112,
          30.041,
          29.814,
          29.574,
          29.533,
          29.552,
          29.698,
          30.153,
          31.009,
          30.673,
          30.287,
          31.05,
          30.489,
          29.947,
          29.337,
          29.383,
          28.203,
          28.026,
          28.873,
          29.552,
          28.467,
          27.511,
          27.852,
          28.328,
          28.66,
          28.556,
          28.282,
          28.616,
          28.336,
          27.967
         ]
        },
        {
         "line": {
          "color": "rgba(55, 128, 191, 1.0)",
          "dash": "solid",
          "shape": "linear",
          "width": 1.3
         },
         "mode": "lines",
         "name": "SMA(14)",
         "text": "",
         "type": "scatter",
         "x": [
          "2015-01-02",
          "2015-01-05",
          "2015-01-06",
          "2015-01-07",
          "2015-01-08",
          "2015-01-09",
          "2015-01-12",
          "2015-01-13",
          "2015-01-14",
          "2015-01-15",
          "2015-01-16",
          "2015-01-20",
          "2015-01-21",
          "2015-01-22",
          "2015-01-23",
          "2015-01-26",
          "2015-01-27",
          "2015-01-28",
          "2015-01-29",
          "2015-01-30",
          "2015-02-02",
          "2015-02-03",
          "2015-02-04",
          "2015-02-05",
          "2015-02-06",
          "2015-02-09",
          "2015-02-10",
          "2015-02-11",
          "2015-02-12",
          "2015-02-13",
          "2015-02-17",
          "2015-02-18",
          "2015-02-19",
          "2015-02-20",
          "2015-02-23",
          "2015-02-24",
          "2015-02-25",
          "2015-02-26",
          "2015-02-27",
          "2015-03-02",
          "2015-03-03",
          "2015-03-04",
          "2015-03-05",
          "2015-03-06",
          "2015-03-09",
          "2015-03-10",
          "2015-03-11",
          "2015-03-12",
          "2015-03-13",
          "2015-03-16",
          "2015-03-17",
          "2015-03-18",
          "2015-03-19",
          "2015-03-20",
          "2015-03-23",
          "2015-03-24",
          "2015-03-25",
          "2015-03-26",
          "2015-03-27",
          "2015-03-30",
          "2015-03-31",
          "2015-04-01",
          "2015-04-02",
          "2015-04-06",
          "2015-04-07",
          "2015-04-08",
          "2015-04-09",
          "2015-04-10",
          "2015-04-13",
          "2015-04-14",
          "2015-04-15",
          "2015-04-16",
          "2015-04-17",
          "2015-04-20",
          "2015-04-21",
          "2015-04-22",
          "2015-04-23",
          "2015-04-24",
          "2015-04-27",
          "2015-04-28",
          "2015-04-29",
          "2015-04-30",
          "2015-05-01",
          "2015-05-04",
          "2015-05-05",
          "2015-05-06",
          "2015-05-07",
          "2015-05-08",
          "2015-05-11",
          "2015-05-12",
          "2015-05-13",
          "2015-05-14",
          "2015-05-15",
          "2015-05-18",
          "2015-05-19",
          "2015-05-20",
          "2015-05-21",
          "2015-05-22",
          "2015-05-26",
          "2015-05-27",
          "2015-05-28",
          "2015-05-29",
          "2015-06-01",
          "2015-06-02",
          "2015-06-03",
          "2015-06-04",
          "2015-06-05",
          "2015-06-08",
          "2015-06-09",
          "2015-06-10",
          "2015-06-11",
          "2015-06-12",
          "2015-06-15",
          "2015-06-16",
          "2015-06-17",
          "2015-06-18",
          "2015-06-19",
          "2015-06-22",
          "2015-06-23",
          "2015-06-24",
          "2015-06-25",
          "2015-06-26",
          "2015-06-29",
          "2015-06-30",
          "2015-07-01",
          "2015-07-02",
          "2015-07-06",
          "2015-07-07",
          "2015-07-08",
          "2015-07-09",
          "2015-07-10",
          "2015-07-13",
          "2015-07-14",
          "2015-07-15",
          "2015-07-16",
          "2015-07-17",
          "2015-07-20",
          "2015-07-21",
          "2015-07-22",
          "2015-07-23",
          "2015-07-24",
          "2015-07-27",
          "2015-07-28",
          "2015-07-29",
          "2015-07-30",
          "2015-07-31",
          "2015-08-03",
          "2015-08-04",
          "2015-08-05",
          "2015-08-06",
          "2015-08-07",
          "2015-08-10",
          "2015-08-11",
          "2015-08-12",
          "2015-08-13",
          "2015-08-14",
          "2015-08-17",
          "2015-08-18",
          "2015-08-19",
          "2015-08-20",
          "2015-08-21",
          "2015-08-24",
          "2015-08-25",
          "2015-08-26",
          "2015-08-27",
          "2015-08-28",
          "2015-08-31",
          "2015-09-01",
          "2015-09-02",
          "2015-09-03",
          "2015-09-04",
          "2015-09-08",
          "2015-09-09",
          "2015-09-10",
          "2015-09-11",
          "2015-09-14",
          "2015-09-15",
          "2015-09-16",
          "2015-09-17",
          "2015-09-18",
          "2015-09-21",
          "2015-09-22",
          "2015-09-23",
          "2015-09-24",
          "2015-09-25",
          "2015-09-28",
          "2015-09-29",
          "2015-09-30",
          "2015-10-01",
          "2015-10-02",
          "2015-10-05",
          "2015-10-06",
          "2015-10-07",
          "2015-10-08",
          "2015-10-09",
          "2015-10-12",
          "2015-10-13",
          "2015-10-14",
          "2015-10-15",
          "2015-10-16",
          "2015-10-19",
          "2015-10-20",
          "2015-10-21",
          "2015-10-22",
          "2015-10-23",
          "2015-10-26",
          "2015-10-27",
          "2015-10-28",
          "2015-10-29",
          "2015-10-30",
          "2015-11-02",
          "2015-11-03",
          "2015-11-04",
          "2015-11-05",
          "2015-11-06",
          "2015-11-09",
          "2015-11-10",
          "2015-11-11",
          "2015-11-12",
          "2015-11-13",
          "2015-11-16",
          "2015-11-17",
          "2015-11-18",
          "2015-11-19",
          "2015-11-20",
          "2015-11-23",
          "2015-11-24",
          "2015-11-25",
          "2015-11-27",
          "2015-11-30",
          "2015-12-01",
          "2015-12-02",
          "2015-12-03",
          "2015-12-04",
          "2015-12-07",
          "2015-12-08",
          "2015-12-09",
          "2015-12-10",
          "2015-12-11",
          "2015-12-14",
          "2015-12-15",
          "2015-12-16",
          "2015-12-17",
          "2015-12-18",
          "2015-12-21",
          "2015-12-22",
          "2015-12-23",
          "2015-12-24",
          "2015-12-28",
          "2015-12-29",
          "2015-12-30",
          "2015-12-31"
         ],
         "y": [
          "",
          "",
          "",
          "",
          "",
          "",
          "",
          "",
          "",
          "",
          "",
          "",
          "",
          31.29057142857143,
          31.07042857142857,
          30.922785714285713,
          30.81385714285714,
          30.623714285714282,
          30.437071428571425,
          30.253357142857144,
          30.138785714285714,
          30.083857142857145,
          30.063,
          30.090785714285715,
          30.152785714285717,
          30.213428571428572,
          30.308357142857144,
          30.367,
          30.481785714285714,
          30.5915,
          30.738,
          30.899571428571427,
          31.021071428571428,
          31.202714285714283,
          31.31757142857143,
          31.42292857142857,
          31.535785714285712,
          31.605785714285712,
          31.605785714285712,
          31.643714285714285,
          31.622714285714284,
          31.543071428571427,
          31.457357142857145,
          31.379785714285713,
          31.302357142857144,
          31.209714285714284,
          31.124285714285715,
          31.11064285714286,
          31.12885714285714,
          31.128214285714282,
          31.125857142857143,
          31.167357142857146,
          31.187142857142856,
          31.20314285714286,
          31.233285714285717,
          31.304714285714287,
          31.3005,
          31.306214285714283,
          31.316142857142857,
          31.404785714285715,
          31.45057142857143,
          31.416428571428572,
          31.385214285714287,
          31.33435714285714,
          31.296357142857143,
          31.267285714285713,
          31.300285714285714,
          31.284285714285712,
          31.28357142857143,
          31.320857142857143,
          31.441071428571426,
          31.548714285714286,
          31.60557142857143,
          31.645857142857142,
          31.7115,
          31.787642857142856,
          31.869357142857144,
          31.959142857142858,
          32.028,
          32.08614285714286,
          32.14821428571428,
          32.22392857142857,
          32.308571428571426,
          32.384214285714286,
          32.39728571428571,
          32.38742857142857,
          32.445928571428574,
          32.51314285714286,
          32.616142857142854,
          32.65807142857143,
          32.69278571428571,
          32.75085714285714,
          32.81014285714286,
          32.889857142857146,
          32.96457142857143,
          33.027928571428575,
          33.061,
          33.077214285714284,
          33.09871428571429,
          33.196714285714286,
          33.270714285714284,
          33.29007142857143,
          33.31028571428571,
          33.36007142857143,
          33.43635714285715,
          33.471357142857144,
          33.560785714285714,
          33.608285714285714,
          33.635714285714286,
          33.73292857142857,
          33.84692857142857,
          33.93657142857143,
          34.044785714285716,
          34.114357142857145,
          34.16735714285714,
          34.26657142857143,
          34.31585714285715,
          34.398714285714284,
          34.473571428571425,
          34.53221428571429,
          34.52792857142857,
          34.5535,
          34.50235714285714,
          34.434,
          34.40221428571429,
          34.364285714285714,
          34.32185714285715,
          34.25228571428571,
          34.14107142857143,
          34.035714285714285,
          33.99028571428571,
          33.95742857142857,
          33.92621428571429,
          33.92985714285714,
          33.97278571428571,
          34.016285714285715,
          34.12407142857143,
          34.20435714285714,
          34.27771428571428,
          34.336357142857146,
          34.382999999999996,
          34.42214285714286,
          34.51285714285714,
          34.59621428571428,
          34.64657142857143,
          34.62585714285714,
          34.57607142857143,
          34.53678571428571,
          34.4895,
          34.419785714285716,
          34.33792857142857,
          34.28492857142857,
          34.13107142857143,
          33.99242857142857,
          33.88628571428571,
          33.82064285714286,
          33.76085714285715,
          33.66907142857143,
          33.55307142857143,
          33.38614285714286,
          33.10185714285715,
          32.68557142857143,
          32.233,
          31.88114285714286,
          31.613642857142857,
          31.299642857142857,
          31.0825,
          30.80442857142857,
          30.556857142857144,
          30.291214285714286,
          29.98178571428571,
          29.75992857142857,
          29.529285714285717,
          29.38557142857143,
          29.37157142857143,
          29.46842857142857,
          29.644714285714286,
          29.727,
          29.711857142857145,
          29.64785714285714,
          29.578714285714288,
          29.536214285714287,
          29.444428571428574,
          29.330214285714288,
          29.267500000000002,
          29.068714285714286,
          28.897285714285715,
          28.749142857142857,
          28.59357142857143,
          28.444928571428573,
          28.30178571428571,
          28.160642857142854,
          28.090142857142858,
          28.08757142857143,
          28.048714285714286,
          28.07114285714286,
          28.089214285714284,
          28.124714285714283,
          28.21364285714286,
          28.392214285714285,
          28.474071428571428,
          28.520857142857142,
          28.519571428571428,
          28.57692857142857,
          28.5975,
          28.609428571428573,
          28.565785714285713,
          28.603857142857144,
          28.664714285714286,
          28.68507142857143,
          28.7495,
          28.806,
          28.80257142857143,
          28.808500000000002,
          29.012071428571428,
          29.201071428571428,
          29.446428571428573,
          29.623714285714282,
          29.7345,
          29.830642857142855,
          29.954571428571427,
          29.96392857142857,
          30.008714285714287,
          30.084,
          30.11092857142857,
          30.13292857142857,
          30.144928571428572,
          30.128000000000004,
          30.02557142857143,
          29.974642857142857,
          29.976571428571425,
          29.968214285714286,
          29.981928571428572,
          30.069071428571426,
          30.108428571428572,
          30.138,
          30.082642857142854,
          30.035642857142854,
          29.92057142857143,
          29.810000000000002,
          29.762857142857143,
          29.762857142857143,
          29.674928571428573,
          29.486214285714286,
          29.26071428571429,
          29.093214285714286,
          28.977,
          28.798857142857145,
          28.641214285714284,
          28.546142857142854,
          28.474642857142857,
          28.3735
         ]
        }
       ],
       "layout": {
        "legend": {
         "bgcolor": "#F5F6F9",
         "font": {
          "color": "#4D5663"
         }
        },
        "paper_bgcolor": "#F5F6F9",
        "plot_bgcolor": "#F5F6F9",
        "template": {
         "data": {
          "bar": [
           {
            "error_x": {
             "color": "#2a3f5f"
            },
            "error_y": {
             "color": "#2a3f5f"
            },
            "marker": {
             "line": {
              "color": "#E5ECF6",
              "width": 0.5
             }
            },
            "type": "bar"
           }
          ],
          "barpolar": [
           {
            "marker": {
             "line": {
              "color": "#E5ECF6",
              "width": 0.5
             }
            },
            "type": "barpolar"
           }
          ],
          "carpet": [
           {
            "aaxis": {
             "endlinecolor": "#2a3f5f",
             "gridcolor": "white",
             "linecolor": "white",
             "minorgridcolor": "white",
             "startlinecolor": "#2a3f5f"
            },
            "baxis": {
             "endlinecolor": "#2a3f5f",
             "gridcolor": "white",
             "linecolor": "white",
             "minorgridcolor": "white",
             "startlinecolor": "#2a3f5f"
            },
            "type": "carpet"
           }
          ],
          "choropleth": [
           {
            "colorbar": {
             "outlinewidth": 0,
             "ticks": ""
            },
            "type": "choropleth"
           }
          ],
          "contour": [
           {
            "colorbar": {
             "outlinewidth": 0,
             "ticks": ""
            },
            "colorscale": [
             [
              0,
              "#0d0887"
             ],
             [
              0.1111111111111111,
              "#46039f"
             ],
             [
              0.2222222222222222,
              "#7201a8"
             ],
             [
              0.3333333333333333,
              "#9c179e"
             ],
             [
              0.4444444444444444,
              "#bd3786"
             ],
             [
              0.5555555555555556,
              "#d8576b"
             ],
             [
              0.6666666666666666,
              "#ed7953"
             ],
             [
              0.7777777777777778,
              "#fb9f3a"
             ],
             [
              0.8888888888888888,
              "#fdca26"
             ],
             [
              1,
              "#f0f921"
             ]
            ],
            "type": "contour"
           }
          ],
          "contourcarpet": [
           {
            "colorbar": {
             "outlinewidth": 0,
             "ticks": ""
            },
            "type": "contourcarpet"
           }
          ],
          "heatmap": [
           {
            "colorbar": {
             "outlinewidth": 0,
             "ticks": ""
            },
            "colorscale": [
             [
              0,
              "#0d0887"
             ],
             [
              0.1111111111111111,
              "#46039f"
             ],
             [
              0.2222222222222222,
              "#7201a8"
             ],
             [
              0.3333333333333333,
              "#9c179e"
             ],
             [
              0.4444444444444444,
              "#bd3786"
             ],
             [
              0.5555555555555556,
              "#d8576b"
             ],
             [
              0.6666666666666666,
              "#ed7953"
             ],
             [
              0.7777777777777778,
              "#fb9f3a"
             ],
             [
              0.8888888888888888,
              "#fdca26"
             ],
             [
              1,
              "#f0f921"
             ]
            ],
            "type": "heatmap"
           }
          ],
          "heatmapgl": [
           {
            "colorbar": {
             "outlinewidth": 0,
             "ticks": ""
            },
            "colorscale": [
             [
              0,
              "#0d0887"
             ],
             [
              0.1111111111111111,
              "#46039f"
             ],
             [
              0.2222222222222222,
              "#7201a8"
             ],
             [
              0.3333333333333333,
              "#9c179e"
             ],
             [
              0.4444444444444444,
              "#bd3786"
             ],
             [
              0.5555555555555556,
              "#d8576b"
             ],
             [
              0.6666666666666666,
              "#ed7953"
             ],
             [
              0.7777777777777778,
              "#fb9f3a"
             ],
             [
              0.8888888888888888,
              "#fdca26"
             ],
             [
              1,
              "#f0f921"
             ]
            ],
            "type": "heatmapgl"
           }
          ],
          "histogram": [
           {
            "marker": {
             "colorbar": {
              "outlinewidth": 0,
              "ticks": ""
             }
            },
            "type": "histogram"
           }
          ],
          "histogram2d": [
           {
            "colorbar": {
             "outlinewidth": 0,
             "ticks": ""
            },
            "colorscale": [
             [
              0,
              "#0d0887"
             ],
             [
              0.1111111111111111,
              "#46039f"
             ],
             [
              0.2222222222222222,
              "#7201a8"
             ],
             [
              0.3333333333333333,
              "#9c179e"
             ],
             [
              0.4444444444444444,
              "#bd3786"
             ],
             [
              0.5555555555555556,
              "#d8576b"
             ],
             [
              0.6666666666666666,
              "#ed7953"
             ],
             [
              0.7777777777777778,
              "#fb9f3a"
             ],
             [
              0.8888888888888888,
              "#fdca26"
             ],
             [
              1,
              "#f0f921"
             ]
            ],
            "type": "histogram2d"
           }
          ],
          "histogram2dcontour": [
           {
            "colorbar": {
             "outlinewidth": 0,
             "ticks": ""
            },
            "colorscale": [
             [
              0,
              "#0d0887"
             ],
             [
              0.1111111111111111,
              "#46039f"
             ],
             [
              0.2222222222222222,
              "#7201a8"
             ],
             [
              0.3333333333333333,
              "#9c179e"
             ],
             [
              0.4444444444444444,
              "#bd3786"
             ],
             [
              0.5555555555555556,
              "#d8576b"
             ],
             [
              0.6666666666666666,
              "#ed7953"
             ],
             [
              0.7777777777777778,
              "#fb9f3a"
             ],
             [
              0.8888888888888888,
              "#fdca26"
             ],
             [
              1,
              "#f0f921"
             ]
            ],
            "type": "histogram2dcontour"
           }
          ],
          "mesh3d": [
           {
            "colorbar": {
             "outlinewidth": 0,
             "ticks": ""
            },
            "type": "mesh3d"
           }
          ],
          "parcoords": [
           {
            "line": {
             "colorbar": {
              "outlinewidth": 0,
              "ticks": ""
             }
            },
            "type": "parcoords"
           }
          ],
          "pie": [
           {
            "automargin": true,
            "type": "pie"
           }
          ],
          "scatter": [
           {
            "marker": {
             "colorbar": {
              "outlinewidth": 0,
              "ticks": ""
             }
            },
            "type": "scatter"
           }
          ],
          "scatter3d": [
           {
            "line": {
             "colorbar": {
              "outlinewidth": 0,
              "ticks": ""
             }
            },
            "marker": {
             "colorbar": {
              "outlinewidth": 0,
              "ticks": ""
             }
            },
            "type": "scatter3d"
           }
          ],
          "scattercarpet": [
           {
            "marker": {
             "colorbar": {
              "outlinewidth": 0,
              "ticks": ""
             }
            },
            "type": "scattercarpet"
           }
          ],
          "scattergeo": [
           {
            "marker": {
             "colorbar": {
              "outlinewidth": 0,
              "ticks": ""
             }
            },
            "type": "scattergeo"
           }
          ],
          "scattergl": [
           {
            "marker": {
             "colorbar": {
              "outlinewidth": 0,
              "ticks": ""
             }
            },
            "type": "scattergl"
           }
          ],
          "scattermapbox": [
           {
            "marker": {
             "colorbar": {
              "outlinewidth": 0,
              "ticks": ""
             }
            },
            "type": "scattermapbox"
           }
          ],
          "scatterpolar": [
           {
            "marker": {
             "colorbar": {
              "outlinewidth": 0,
              "ticks": ""
             }
            },
            "type": "scatterpolar"
           }
          ],
          "scatterpolargl": [
           {
            "marker": {
             "colorbar": {
              "outlinewidth": 0,
              "ticks": ""
             }
            },
            "type": "scatterpolargl"
           }
          ],
          "scatterternary": [
           {
            "marker": {
             "colorbar": {
              "outlinewidth": 0,
              "ticks": ""
             }
            },
            "type": "scatterternary"
           }
          ],
          "surface": [
           {
            "colorbar": {
             "outlinewidth": 0,
             "ticks": ""
            },
            "colorscale": [
             [
              0,
              "#0d0887"
             ],
             [
              0.1111111111111111,
              "#46039f"
             ],
             [
              0.2222222222222222,
              "#7201a8"
             ],
             [
              0.3333333333333333,
              "#9c179e"
             ],
             [
              0.4444444444444444,
              "#bd3786"
             ],
             [
              0.5555555555555556,
              "#d8576b"
             ],
             [
              0.6666666666666666,
              "#ed7953"
             ],
             [
              0.7777777777777778,
              "#fb9f3a"
             ],
             [
              0.8888888888888888,
              "#fdca26"
             ],
             [
              1,
              "#f0f921"
             ]
            ],
            "type": "surface"
           }
          ],
          "table": [
           {
            "cells": {
             "fill": {
              "color": "#EBF0F8"
             },
             "line": {
              "color": "white"
             }
            },
            "header": {
             "fill": {
              "color": "#C8D4E3"
             },
             "line": {
              "color": "white"
             }
            },
            "type": "table"
           }
          ]
         },
         "layout": {
          "annotationdefaults": {
           "arrowcolor": "#2a3f5f",
           "arrowhead": 0,
           "arrowwidth": 1
          },
          "autotypenumbers": "strict",
          "coloraxis": {
           "colorbar": {
            "outlinewidth": 0,
            "ticks": ""
           }
          },
          "colorscale": {
           "diverging": [
            [
             0,
             "#8e0152"
            ],
            [
             0.1,
             "#c51b7d"
            ],
            [
             0.2,
             "#de77ae"
            ],
            [
             0.3,
             "#f1b6da"
            ],
            [
             0.4,
             "#fde0ef"
            ],
            [
             0.5,
             "#f7f7f7"
            ],
            [
             0.6,
             "#e6f5d0"
            ],
            [
             0.7,
             "#b8e186"
            ],
            [
             0.8,
             "#7fbc41"
            ],
            [
             0.9,
             "#4d9221"
            ],
            [
             1,
             "#276419"
            ]
           ],
           "sequential": [
            [
             0,
             "#0d0887"
            ],
            [
             0.1111111111111111,
             "#46039f"
            ],
            [
             0.2222222222222222,
             "#7201a8"
            ],
            [
             0.3333333333333333,
             "#9c179e"
            ],
            [
             0.4444444444444444,
             "#bd3786"
            ],
            [
             0.5555555555555556,
             "#d8576b"
            ],
            [
             0.6666666666666666,
             "#ed7953"
            ],
            [
             0.7777777777777778,
             "#fb9f3a"
            ],
            [
             0.8888888888888888,
             "#fdca26"
            ],
            [
             1,
             "#f0f921"
            ]
           ],
           "sequentialminus": [
            [
             0,
             "#0d0887"
            ],
            [
             0.1111111111111111,
             "#46039f"
            ],
            [
             0.2222222222222222,
             "#7201a8"
            ],
            [
             0.3333333333333333,
             "#9c179e"
            ],
            [
             0.4444444444444444,
             "#bd3786"
            ],
            [
             0.5555555555555556,
             "#d8576b"
            ],
            [
             0.6666666666666666,
             "#ed7953"
            ],
            [
             0.7777777777777778,
             "#fb9f3a"
            ],
            [
             0.8888888888888888,
             "#fdca26"
            ],
            [
             1,
             "#f0f921"
            ]
           ]
          },
          "colorway": [
           "#636efa",
           "#EF553B",
           "#00cc96",
           "#ab63fa",
           "#FFA15A",
           "#19d3f3",
           "#FF6692",
           "#B6E880",
           "#FF97FF",
           "#FECB52"
          ],
          "font": {
           "color": "#2a3f5f"
          },
          "geo": {
           "bgcolor": "white",
           "lakecolor": "white",
           "landcolor": "#E5ECF6",
           "showlakes": true,
           "showland": true,
           "subunitcolor": "white"
          },
          "hoverlabel": {
           "align": "left"
          },
          "hovermode": "closest",
          "mapbox": {
           "style": "light"
          },
          "paper_bgcolor": "white",
          "plot_bgcolor": "#E5ECF6",
          "polar": {
           "angularaxis": {
            "gridcolor": "white",
            "linecolor": "white",
            "ticks": ""
           },
           "bgcolor": "#E5ECF6",
           "radialaxis": {
            "gridcolor": "white",
            "linecolor": "white",
            "ticks": ""
           }
          },
          "scene": {
           "xaxis": {
            "backgroundcolor": "#E5ECF6",
            "gridcolor": "white",
            "gridwidth": 2,
            "linecolor": "white",
            "showbackground": true,
            "ticks": "",
            "zerolinecolor": "white"
           },
           "yaxis": {
            "backgroundcolor": "#E5ECF6",
            "gridcolor": "white",
            "gridwidth": 2,
            "linecolor": "white",
            "showbackground": true,
            "ticks": "",
            "zerolinecolor": "white"
           },
           "zaxis": {
            "backgroundcolor": "#E5ECF6",
            "gridcolor": "white",
            "gridwidth": 2,
            "linecolor": "white",
            "showbackground": true,
            "ticks": "",
            "zerolinecolor": "white"
           }
          },
          "shapedefaults": {
           "line": {
            "color": "#2a3f5f"
           }
          },
          "ternary": {
           "aaxis": {
            "gridcolor": "white",
            "linecolor": "white",
            "ticks": ""
           },
           "baxis": {
            "gridcolor": "white",
            "linecolor": "white",
            "ticks": ""
           },
           "bgcolor": "#E5ECF6",
           "caxis": {
            "gridcolor": "white",
            "linecolor": "white",
            "ticks": ""
           }
          },
          "title": {
           "x": 0.05
          },
          "xaxis": {
           "automargin": true,
           "gridcolor": "white",
           "linecolor": "white",
           "ticks": "",
           "title": {
            "standoff": 15
           },
           "zerolinecolor": "white",
           "zerolinewidth": 2
          },
          "yaxis": {
           "automargin": true,
           "gridcolor": "white",
           "linecolor": "white",
           "ticks": "",
           "title": {
            "standoff": 15
           },
           "zerolinecolor": "white",
           "zerolinewidth": 2
          }
         }
        },
        "title": {
         "font": {
          "color": "#4D5663"
         }
        },
        "xaxis": {
         "gridcolor": "#E1E5ED",
         "showgrid": true,
         "tickfont": {
          "color": "#4D5663"
         },
         "title": {
          "font": {
           "color": "#4D5663"
          },
          "text": ""
         },
         "zerolinecolor": "#E1E5ED"
        },
        "yaxis": {
         "gridcolor": "#E1E5ED",
         "showgrid": true,
         "tickfont": {
          "color": "#4D5663"
         },
         "title": {
          "font": {
           "color": "#4D5663"
          },
          "text": ""
         },
         "zerolinecolor": "#E1E5ED"
        }
       }
      },
      "text/html": [
       "<div>                            <div id=\"89c4f27e-68df-45ed-a19c-3ae2dabcfbd8\" class=\"plotly-graph-div\" style=\"height:525px; width:100%;\"></div>            <script type=\"text/javascript\">                require([\"plotly\"], function(Plotly) {                    window.PLOTLYENV=window.PLOTLYENV || {};\n",
       "                    window.PLOTLYENV.BASE_URL='https://plot.ly';                                    if (document.getElementById(\"89c4f27e-68df-45ed-a19c-3ae2dabcfbd8\")) {                    Plotly.newPlot(                        \"89c4f27e-68df-45ed-a19c-3ae2dabcfbd8\",                        [{\"line\": {\"color\": \"rgba(255, 153, 51, 1.0)\", \"dash\": \"solid\", \"shape\": \"linear\", \"width\": 1.3}, \"mode\": \"lines\", \"name\": \"Close\", \"text\": \"\", \"type\": \"scatter\", \"x\": [\"2015-01-02\", \"2015-01-05\", \"2015-01-06\", \"2015-01-07\", \"2015-01-08\", \"2015-01-09\", \"2015-01-12\", \"2015-01-13\", \"2015-01-14\", \"2015-01-15\", \"2015-01-16\", \"2015-01-20\", \"2015-01-21\", \"2015-01-22\", \"2015-01-23\", \"2015-01-26\", \"2015-01-27\", \"2015-01-28\", \"2015-01-29\", \"2015-01-30\", \"2015-02-02\", \"2015-02-03\", \"2015-02-04\", \"2015-02-05\", \"2015-02-06\", \"2015-02-09\", \"2015-02-10\", \"2015-02-11\", \"2015-02-12\", \"2015-02-13\", \"2015-02-17\", \"2015-02-18\", \"2015-02-19\", \"2015-02-20\", \"2015-02-23\", \"2015-02-24\", \"2015-02-25\", \"2015-02-26\", \"2015-02-27\", \"2015-03-02\", \"2015-03-03\", \"2015-03-04\", \"2015-03-05\", \"2015-03-06\", \"2015-03-09\", \"2015-03-10\", \"2015-03-11\", \"2015-03-12\", \"2015-03-13\", \"2015-03-16\", \"2015-03-17\", \"2015-03-18\", \"2015-03-19\", \"2015-03-20\", \"2015-03-23\", \"2015-03-24\", \"2015-03-25\", \"2015-03-26\", \"2015-03-27\", \"2015-03-30\", \"2015-03-31\", \"2015-04-01\", \"2015-04-02\", \"2015-04-06\", \"2015-04-07\", \"2015-04-08\", \"2015-04-09\", \"2015-04-10\", \"2015-04-13\", \"2015-04-14\", \"2015-04-15\", \"2015-04-16\", \"2015-04-17\", \"2015-04-20\", \"2015-04-21\", \"2015-04-22\", \"2015-04-23\", \"2015-04-24\", \"2015-04-27\", \"2015-04-28\", \"2015-04-29\", \"2015-04-30\", \"2015-05-01\", \"2015-05-04\", \"2015-05-05\", \"2015-05-06\", \"2015-05-07\", \"2015-05-08\", \"2015-05-11\", \"2015-05-12\", \"2015-05-13\", \"2015-05-14\", \"2015-05-15\", \"2015-05-18\", \"2015-05-19\", \"2015-05-20\", \"2015-05-21\", \"2015-05-22\", \"2015-05-26\", \"2015-05-27\", \"2015-05-28\", \"2015-05-29\", \"2015-06-01\", \"2015-06-02\", \"2015-06-03\", \"2015-06-04\", \"2015-06-05\", \"2015-06-08\", \"2015-06-09\", \"2015-06-10\", \"2015-06-11\", \"2015-06-12\", \"2015-06-15\", \"2015-06-16\", \"2015-06-17\", \"2015-06-18\", \"2015-06-19\", \"2015-06-22\", \"2015-06-23\", \"2015-06-24\", \"2015-06-25\", \"2015-06-26\", \"2015-06-29\", \"2015-06-30\", \"2015-07-01\", \"2015-07-02\", \"2015-07-06\", \"2015-07-07\", \"2015-07-08\", \"2015-07-09\", \"2015-07-10\", \"2015-07-13\", \"2015-07-14\", \"2015-07-15\", \"2015-07-16\", \"2015-07-17\", \"2015-07-20\", \"2015-07-21\", \"2015-07-22\", \"2015-07-23\", \"2015-07-24\", \"2015-07-27\", \"2015-07-28\", \"2015-07-29\", \"2015-07-30\", \"2015-07-31\", \"2015-08-03\", \"2015-08-04\", \"2015-08-05\", \"2015-08-06\", \"2015-08-07\", \"2015-08-10\", \"2015-08-11\", \"2015-08-12\", \"2015-08-13\", \"2015-08-14\", \"2015-08-17\", \"2015-08-18\", \"2015-08-19\", \"2015-08-20\", \"2015-08-21\", \"2015-08-24\", \"2015-08-25\", \"2015-08-26\", \"2015-08-27\", \"2015-08-28\", \"2015-08-31\", \"2015-09-01\", \"2015-09-02\", \"2015-09-03\", \"2015-09-04\", \"2015-09-08\", \"2015-09-09\", \"2015-09-10\", \"2015-09-11\", \"2015-09-14\", \"2015-09-15\", \"2015-09-16\", \"2015-09-17\", \"2015-09-18\", \"2015-09-21\", \"2015-09-22\", \"2015-09-23\", \"2015-09-24\", \"2015-09-25\", \"2015-09-28\", \"2015-09-29\", \"2015-09-30\", \"2015-10-01\", \"2015-10-02\", \"2015-10-05\", \"2015-10-06\", \"2015-10-07\", \"2015-10-08\", \"2015-10-09\", \"2015-10-12\", \"2015-10-13\", \"2015-10-14\", \"2015-10-15\", \"2015-10-16\", \"2015-10-19\", \"2015-10-20\", \"2015-10-21\", \"2015-10-22\", \"2015-10-23\", \"2015-10-26\", \"2015-10-27\", \"2015-10-28\", \"2015-10-29\", \"2015-10-30\", \"2015-11-02\", \"2015-11-03\", \"2015-11-04\", \"2015-11-05\", \"2015-11-06\", \"2015-11-09\", \"2015-11-10\", \"2015-11-11\", \"2015-11-12\", \"2015-11-13\", \"2015-11-16\", \"2015-11-17\", \"2015-11-18\", \"2015-11-19\", \"2015-11-20\", \"2015-11-23\", \"2015-11-24\", \"2015-11-25\", \"2015-11-27\", \"2015-11-30\", \"2015-12-01\", \"2015-12-02\", \"2015-12-03\", \"2015-12-04\", \"2015-12-07\", \"2015-12-08\", \"2015-12-09\", \"2015-12-10\", \"2015-12-11\", \"2015-12-14\", \"2015-12-15\", \"2015-12-16\", \"2015-12-17\", \"2015-12-18\", \"2015-12-21\", \"2015-12-22\", \"2015-12-23\", \"2015-12-24\", \"2015-12-28\", \"2015-12-29\", \"2015-12-30\", \"2015-12-31\"], \"y\": [33.512, 32.463, 31.528, 31.979, 32.453, 31.926, 31.485, 31.191, 30.48, 29.938, 30.205, 30.084, 30.066, 30.758, 30.43, 30.396, 30.003, 29.317, 29.84, 29.354, 29.881, 30.422, 30.188, 30.327, 31.073, 30.933, 31.395, 31.579, 32.037, 31.932, 32.054, 31.579, 31.541, 31.897, 31.489, 31.897, 31.768, 31.307, 31.073, 31.464, 31.101, 30.464, 30.837, 30.846, 30.97, 30.282, 30.345, 31.706, 31.744, 31.888, 31.735, 31.888, 31.35, 31.688, 31.523, 31.464, 30.778, 30.926, 31.109, 31.523, 30.986, 31.228, 31.307, 31.176, 31.203, 31.481, 31.812, 31.464, 31.513, 31.986, 32.461, 32.433, 31.905, 32.087, 31.905, 32.294, 32.451, 32.433, 32.167, 32.295, 32.681, 32.524, 32.698, 33.045, 32.644, 32.295, 32.724, 33.028, 33.347, 32.881, 32.937, 33.246, 32.997, 33.411, 33.727, 33.411, 33.161, 33.272, 32.945, 33.667, 33.76, 33.299, 33.63, 33.578, 34.005, 33.736, 34.249, 34.076, 34.111, 34.772, 34.757, 34.527, 34.46, 34.641, 34.502, 34.688, 34.32, 34.738, 35.053, 34.557, 34.189, 34.434, 33.395, 33.815, 34.312, 33.996, 33.866, 33.667, 32.945, 33.213, 33.684, 34.278, 34.616, 34.608, 34.79, 35.043, 34.904, 34.939, 35.339, 34.817, 34.519, 34.215, 34.215, 34.38, 34.389, 33.988, 33.919, 34.058, 34.128, 34.067, 33.758, 34.197, 33.185, 32.876, 33.033, 33.296, 33.378, 33.095, 32.765, 31.651, 29.939, 28.23, 27.792, 29.141, 30.013, 29.801, 30.145, 28.983, 29.567, 29.577, 29.046, 29.989, 29.536, 29.639, 29.743, 29.586, 30.26, 30.293, 29.801, 28.905, 29.177, 28.388, 28.282, 27.978, 28.168, 27.206, 27.136, 27.565, 27.565, 27.505, 28.256, 28.317, 28.814, 28.869, 28.633, 28.702, 28.535, 28.475, 29.413, 29.706, 28.282, 28.22, 27.547, 28.308, 28.544, 28.484, 28.203, 29.402, 29.485, 28.987, 29.437, 29.266, 29.365, 29.789, 31.132, 30.866, 30.982, 30.79, 30.095, 29.83, 29.938, 29.533, 30.112, 30.041, 29.814, 29.574, 29.533, 29.552, 29.698, 30.153, 31.009, 30.673, 30.287, 31.05, 30.489, 29.947, 29.337, 29.383, 28.203, 28.026, 28.873, 29.552, 28.467, 27.511, 27.852, 28.328, 28.66, 28.556, 28.282, 28.616, 28.336, 27.967]}, {\"line\": {\"color\": \"rgba(55, 128, 191, 1.0)\", \"dash\": \"solid\", \"shape\": \"linear\", \"width\": 1.3}, \"mode\": \"lines\", \"name\": \"SMA(14)\", \"text\": \"\", \"type\": \"scatter\", \"x\": [\"2015-01-02\", \"2015-01-05\", \"2015-01-06\", \"2015-01-07\", \"2015-01-08\", \"2015-01-09\", \"2015-01-12\", \"2015-01-13\", \"2015-01-14\", \"2015-01-15\", \"2015-01-16\", \"2015-01-20\", \"2015-01-21\", \"2015-01-22\", \"2015-01-23\", \"2015-01-26\", \"2015-01-27\", \"2015-01-28\", \"2015-01-29\", \"2015-01-30\", \"2015-02-02\", \"2015-02-03\", \"2015-02-04\", \"2015-02-05\", \"2015-02-06\", \"2015-02-09\", \"2015-02-10\", \"2015-02-11\", \"2015-02-12\", \"2015-02-13\", \"2015-02-17\", \"2015-02-18\", \"2015-02-19\", \"2015-02-20\", \"2015-02-23\", \"2015-02-24\", \"2015-02-25\", \"2015-02-26\", \"2015-02-27\", \"2015-03-02\", \"2015-03-03\", \"2015-03-04\", \"2015-03-05\", \"2015-03-06\", \"2015-03-09\", \"2015-03-10\", \"2015-03-11\", \"2015-03-12\", \"2015-03-13\", \"2015-03-16\", \"2015-03-17\", \"2015-03-18\", \"2015-03-19\", \"2015-03-20\", \"2015-03-23\", \"2015-03-24\", \"2015-03-25\", \"2015-03-26\", \"2015-03-27\", \"2015-03-30\", \"2015-03-31\", \"2015-04-01\", \"2015-04-02\", \"2015-04-06\", \"2015-04-07\", \"2015-04-08\", \"2015-04-09\", \"2015-04-10\", \"2015-04-13\", \"2015-04-14\", \"2015-04-15\", \"2015-04-16\", \"2015-04-17\", \"2015-04-20\", \"2015-04-21\", \"2015-04-22\", \"2015-04-23\", \"2015-04-24\", \"2015-04-27\", \"2015-04-28\", \"2015-04-29\", \"2015-04-30\", \"2015-05-01\", \"2015-05-04\", \"2015-05-05\", \"2015-05-06\", \"2015-05-07\", \"2015-05-08\", \"2015-05-11\", \"2015-05-12\", \"2015-05-13\", \"2015-05-14\", \"2015-05-15\", \"2015-05-18\", \"2015-05-19\", \"2015-05-20\", \"2015-05-21\", \"2015-05-22\", \"2015-05-26\", \"2015-05-27\", \"2015-05-28\", \"2015-05-29\", \"2015-06-01\", \"2015-06-02\", \"2015-06-03\", \"2015-06-04\", \"2015-06-05\", \"2015-06-08\", \"2015-06-09\", \"2015-06-10\", \"2015-06-11\", \"2015-06-12\", \"2015-06-15\", \"2015-06-16\", \"2015-06-17\", \"2015-06-18\", \"2015-06-19\", \"2015-06-22\", \"2015-06-23\", \"2015-06-24\", \"2015-06-25\", \"2015-06-26\", \"2015-06-29\", \"2015-06-30\", \"2015-07-01\", \"2015-07-02\", \"2015-07-06\", \"2015-07-07\", \"2015-07-08\", \"2015-07-09\", \"2015-07-10\", \"2015-07-13\", \"2015-07-14\", \"2015-07-15\", \"2015-07-16\", \"2015-07-17\", \"2015-07-20\", \"2015-07-21\", \"2015-07-22\", \"2015-07-23\", \"2015-07-24\", \"2015-07-27\", \"2015-07-28\", \"2015-07-29\", \"2015-07-30\", \"2015-07-31\", \"2015-08-03\", \"2015-08-04\", \"2015-08-05\", \"2015-08-06\", \"2015-08-07\", \"2015-08-10\", \"2015-08-11\", \"2015-08-12\", \"2015-08-13\", \"2015-08-14\", \"2015-08-17\", \"2015-08-18\", \"2015-08-19\", \"2015-08-20\", \"2015-08-21\", \"2015-08-24\", \"2015-08-25\", \"2015-08-26\", \"2015-08-27\", \"2015-08-28\", \"2015-08-31\", \"2015-09-01\", \"2015-09-02\", \"2015-09-03\", \"2015-09-04\", \"2015-09-08\", \"2015-09-09\", \"2015-09-10\", \"2015-09-11\", \"2015-09-14\", \"2015-09-15\", \"2015-09-16\", \"2015-09-17\", \"2015-09-18\", \"2015-09-21\", \"2015-09-22\", \"2015-09-23\", \"2015-09-24\", \"2015-09-25\", \"2015-09-28\", \"2015-09-29\", \"2015-09-30\", \"2015-10-01\", \"2015-10-02\", \"2015-10-05\", \"2015-10-06\", \"2015-10-07\", \"2015-10-08\", \"2015-10-09\", \"2015-10-12\", \"2015-10-13\", \"2015-10-14\", \"2015-10-15\", \"2015-10-16\", \"2015-10-19\", \"2015-10-20\", \"2015-10-21\", \"2015-10-22\", \"2015-10-23\", \"2015-10-26\", \"2015-10-27\", \"2015-10-28\", \"2015-10-29\", \"2015-10-30\", \"2015-11-02\", \"2015-11-03\", \"2015-11-04\", \"2015-11-05\", \"2015-11-06\", \"2015-11-09\", \"2015-11-10\", \"2015-11-11\", \"2015-11-12\", \"2015-11-13\", \"2015-11-16\", \"2015-11-17\", \"2015-11-18\", \"2015-11-19\", \"2015-11-20\", \"2015-11-23\", \"2015-11-24\", \"2015-11-25\", \"2015-11-27\", \"2015-11-30\", \"2015-12-01\", \"2015-12-02\", \"2015-12-03\", \"2015-12-04\", \"2015-12-07\", \"2015-12-08\", \"2015-12-09\", \"2015-12-10\", \"2015-12-11\", \"2015-12-14\", \"2015-12-15\", \"2015-12-16\", \"2015-12-17\", \"2015-12-18\", \"2015-12-21\", \"2015-12-22\", \"2015-12-23\", \"2015-12-24\", \"2015-12-28\", \"2015-12-29\", \"2015-12-30\", \"2015-12-31\"], \"y\": [\"\", \"\", \"\", \"\", \"\", \"\", \"\", \"\", \"\", \"\", \"\", \"\", \"\", 31.29057142857143, 31.07042857142857, 30.922785714285713, 30.81385714285714, 30.623714285714282, 30.437071428571425, 30.253357142857144, 30.138785714285714, 30.083857142857145, 30.063, 30.090785714285715, 30.152785714285717, 30.213428571428572, 30.308357142857144, 30.367, 30.481785714285714, 30.5915, 30.738, 30.899571428571427, 31.021071428571428, 31.202714285714283, 31.31757142857143, 31.42292857142857, 31.535785714285712, 31.605785714285712, 31.605785714285712, 31.643714285714285, 31.622714285714284, 31.543071428571427, 31.457357142857145, 31.379785714285713, 31.302357142857144, 31.209714285714284, 31.124285714285715, 31.11064285714286, 31.12885714285714, 31.128214285714282, 31.125857142857143, 31.167357142857146, 31.187142857142856, 31.20314285714286, 31.233285714285717, 31.304714285714287, 31.3005, 31.306214285714283, 31.316142857142857, 31.404785714285715, 31.45057142857143, 31.416428571428572, 31.385214285714287, 31.33435714285714, 31.296357142857143, 31.267285714285713, 31.300285714285714, 31.284285714285712, 31.28357142857143, 31.320857142857143, 31.441071428571426, 31.548714285714286, 31.60557142857143, 31.645857142857142, 31.7115, 31.787642857142856, 31.869357142857144, 31.959142857142858, 32.028, 32.08614285714286, 32.14821428571428, 32.22392857142857, 32.308571428571426, 32.384214285714286, 32.39728571428571, 32.38742857142857, 32.445928571428574, 32.51314285714286, 32.616142857142854, 32.65807142857143, 32.69278571428571, 32.75085714285714, 32.81014285714286, 32.889857142857146, 32.96457142857143, 33.027928571428575, 33.061, 33.077214285714284, 33.09871428571429, 33.196714285714286, 33.270714285714284, 33.29007142857143, 33.31028571428571, 33.36007142857143, 33.43635714285715, 33.471357142857144, 33.560785714285714, 33.608285714285714, 33.635714285714286, 33.73292857142857, 33.84692857142857, 33.93657142857143, 34.044785714285716, 34.114357142857145, 34.16735714285714, 34.26657142857143, 34.31585714285715, 34.398714285714284, 34.473571428571425, 34.53221428571429, 34.52792857142857, 34.5535, 34.50235714285714, 34.434, 34.40221428571429, 34.364285714285714, 34.32185714285715, 34.25228571428571, 34.14107142857143, 34.035714285714285, 33.99028571428571, 33.95742857142857, 33.92621428571429, 33.92985714285714, 33.97278571428571, 34.016285714285715, 34.12407142857143, 34.20435714285714, 34.27771428571428, 34.336357142857146, 34.382999999999996, 34.42214285714286, 34.51285714285714, 34.59621428571428, 34.64657142857143, 34.62585714285714, 34.57607142857143, 34.53678571428571, 34.4895, 34.419785714285716, 34.33792857142857, 34.28492857142857, 34.13107142857143, 33.99242857142857, 33.88628571428571, 33.82064285714286, 33.76085714285715, 33.66907142857143, 33.55307142857143, 33.38614285714286, 33.10185714285715, 32.68557142857143, 32.233, 31.88114285714286, 31.613642857142857, 31.299642857142857, 31.0825, 30.80442857142857, 30.556857142857144, 30.291214285714286, 29.98178571428571, 29.75992857142857, 29.529285714285717, 29.38557142857143, 29.37157142857143, 29.46842857142857, 29.644714285714286, 29.727, 29.711857142857145, 29.64785714285714, 29.578714285714288, 29.536214285714287, 29.444428571428574, 29.330214285714288, 29.267500000000002, 29.068714285714286, 28.897285714285715, 28.749142857142857, 28.59357142857143, 28.444928571428573, 28.30178571428571, 28.160642857142854, 28.090142857142858, 28.08757142857143, 28.048714285714286, 28.07114285714286, 28.089214285714284, 28.124714285714283, 28.21364285714286, 28.392214285714285, 28.474071428571428, 28.520857142857142, 28.519571428571428, 28.57692857142857, 28.5975, 28.609428571428573, 28.565785714285713, 28.603857142857144, 28.664714285714286, 28.68507142857143, 28.7495, 28.806, 28.80257142857143, 28.808500000000002, 29.012071428571428, 29.201071428571428, 29.446428571428573, 29.623714285714282, 29.7345, 29.830642857142855, 29.954571428571427, 29.96392857142857, 30.008714285714287, 30.084, 30.11092857142857, 30.13292857142857, 30.144928571428572, 30.128000000000004, 30.02557142857143, 29.974642857142857, 29.976571428571425, 29.968214285714286, 29.981928571428572, 30.069071428571426, 30.108428571428572, 30.138, 30.082642857142854, 30.035642857142854, 29.92057142857143, 29.810000000000002, 29.762857142857143, 29.762857142857143, 29.674928571428573, 29.486214285714286, 29.26071428571429, 29.093214285714286, 28.977, 28.798857142857145, 28.641214285714284, 28.546142857142854, 28.474642857142857, 28.3735]}],                        {\"legend\": {\"bgcolor\": \"#F5F6F9\", \"font\": {\"color\": \"#4D5663\"}}, \"paper_bgcolor\": \"#F5F6F9\", \"plot_bgcolor\": \"#F5F6F9\", \"template\": {\"data\": {\"bar\": [{\"error_x\": {\"color\": \"#2a3f5f\"}, \"error_y\": {\"color\": \"#2a3f5f\"}, \"marker\": {\"line\": {\"color\": \"#E5ECF6\", \"width\": 0.5}}, \"type\": \"bar\"}], \"barpolar\": [{\"marker\": {\"line\": {\"color\": \"#E5ECF6\", \"width\": 0.5}}, \"type\": \"barpolar\"}], \"carpet\": [{\"aaxis\": {\"endlinecolor\": \"#2a3f5f\", \"gridcolor\": \"white\", \"linecolor\": \"white\", \"minorgridcolor\": \"white\", \"startlinecolor\": \"#2a3f5f\"}, \"baxis\": {\"endlinecolor\": \"#2a3f5f\", \"gridcolor\": \"white\", \"linecolor\": \"white\", \"minorgridcolor\": \"white\", \"startlinecolor\": \"#2a3f5f\"}, \"type\": \"carpet\"}], \"choropleth\": [{\"colorbar\": {\"outlinewidth\": 0, \"ticks\": \"\"}, \"type\": \"choropleth\"}], \"contour\": [{\"colorbar\": {\"outlinewidth\": 0, \"ticks\": \"\"}, \"colorscale\": [[0.0, \"#0d0887\"], [0.1111111111111111, \"#46039f\"], [0.2222222222222222, \"#7201a8\"], [0.3333333333333333, \"#9c179e\"], [0.4444444444444444, \"#bd3786\"], [0.5555555555555556, \"#d8576b\"], [0.6666666666666666, \"#ed7953\"], [0.7777777777777778, \"#fb9f3a\"], [0.8888888888888888, \"#fdca26\"], [1.0, \"#f0f921\"]], \"type\": \"contour\"}], \"contourcarpet\": [{\"colorbar\": {\"outlinewidth\": 0, \"ticks\": \"\"}, \"type\": \"contourcarpet\"}], \"heatmap\": [{\"colorbar\": {\"outlinewidth\": 0, \"ticks\": \"\"}, \"colorscale\": [[0.0, \"#0d0887\"], [0.1111111111111111, \"#46039f\"], [0.2222222222222222, \"#7201a8\"], [0.3333333333333333, \"#9c179e\"], [0.4444444444444444, \"#bd3786\"], [0.5555555555555556, \"#d8576b\"], [0.6666666666666666, \"#ed7953\"], [0.7777777777777778, \"#fb9f3a\"], [0.8888888888888888, \"#fdca26\"], [1.0, \"#f0f921\"]], \"type\": \"heatmap\"}], \"heatmapgl\": [{\"colorbar\": {\"outlinewidth\": 0, \"ticks\": \"\"}, \"colorscale\": [[0.0, \"#0d0887\"], [0.1111111111111111, \"#46039f\"], [0.2222222222222222, \"#7201a8\"], [0.3333333333333333, \"#9c179e\"], [0.4444444444444444, \"#bd3786\"], [0.5555555555555556, \"#d8576b\"], [0.6666666666666666, \"#ed7953\"], [0.7777777777777778, \"#fb9f3a\"], [0.8888888888888888, \"#fdca26\"], [1.0, \"#f0f921\"]], \"type\": \"heatmapgl\"}], \"histogram\": [{\"marker\": {\"colorbar\": {\"outlinewidth\": 0, \"ticks\": \"\"}}, \"type\": \"histogram\"}], \"histogram2d\": [{\"colorbar\": {\"outlinewidth\": 0, \"ticks\": \"\"}, \"colorscale\": [[0.0, \"#0d0887\"], [0.1111111111111111, \"#46039f\"], [0.2222222222222222, \"#7201a8\"], [0.3333333333333333, \"#9c179e\"], [0.4444444444444444, \"#bd3786\"], [0.5555555555555556, \"#d8576b\"], [0.6666666666666666, \"#ed7953\"], [0.7777777777777778, \"#fb9f3a\"], [0.8888888888888888, \"#fdca26\"], [1.0, \"#f0f921\"]], \"type\": \"histogram2d\"}], \"histogram2dcontour\": [{\"colorbar\": {\"outlinewidth\": 0, \"ticks\": \"\"}, \"colorscale\": [[0.0, \"#0d0887\"], [0.1111111111111111, \"#46039f\"], [0.2222222222222222, \"#7201a8\"], [0.3333333333333333, \"#9c179e\"], [0.4444444444444444, \"#bd3786\"], [0.5555555555555556, \"#d8576b\"], [0.6666666666666666, \"#ed7953\"], [0.7777777777777778, \"#fb9f3a\"], [0.8888888888888888, \"#fdca26\"], [1.0, \"#f0f921\"]], \"type\": \"histogram2dcontour\"}], \"mesh3d\": [{\"colorbar\": {\"outlinewidth\": 0, \"ticks\": \"\"}, \"type\": \"mesh3d\"}], \"parcoords\": [{\"line\": {\"colorbar\": {\"outlinewidth\": 0, \"ticks\": \"\"}}, \"type\": \"parcoords\"}], \"pie\": [{\"automargin\": true, \"type\": \"pie\"}], \"scatter\": [{\"marker\": {\"colorbar\": {\"outlinewidth\": 0, \"ticks\": \"\"}}, \"type\": \"scatter\"}], \"scatter3d\": [{\"line\": {\"colorbar\": {\"outlinewidth\": 0, \"ticks\": \"\"}}, \"marker\": {\"colorbar\": {\"outlinewidth\": 0, \"ticks\": \"\"}}, \"type\": \"scatter3d\"}], \"scattercarpet\": [{\"marker\": {\"colorbar\": {\"outlinewidth\": 0, \"ticks\": \"\"}}, \"type\": \"scattercarpet\"}], \"scattergeo\": [{\"marker\": {\"colorbar\": {\"outlinewidth\": 0, \"ticks\": \"\"}}, \"type\": \"scattergeo\"}], \"scattergl\": [{\"marker\": {\"colorbar\": {\"outlinewidth\": 0, \"ticks\": \"\"}}, \"type\": \"scattergl\"}], \"scattermapbox\": [{\"marker\": {\"colorbar\": {\"outlinewidth\": 0, \"ticks\": \"\"}}, \"type\": \"scattermapbox\"}], \"scatterpolar\": [{\"marker\": {\"colorbar\": {\"outlinewidth\": 0, \"ticks\": \"\"}}, \"type\": \"scatterpolar\"}], \"scatterpolargl\": [{\"marker\": {\"colorbar\": {\"outlinewidth\": 0, \"ticks\": \"\"}}, \"type\": \"scatterpolargl\"}], \"scatterternary\": [{\"marker\": {\"colorbar\": {\"outlinewidth\": 0, \"ticks\": \"\"}}, \"type\": \"scatterternary\"}], \"surface\": [{\"colorbar\": {\"outlinewidth\": 0, \"ticks\": \"\"}, \"colorscale\": [[0.0, \"#0d0887\"], [0.1111111111111111, \"#46039f\"], [0.2222222222222222, \"#7201a8\"], [0.3333333333333333, \"#9c179e\"], [0.4444444444444444, \"#bd3786\"], [0.5555555555555556, \"#d8576b\"], [0.6666666666666666, \"#ed7953\"], [0.7777777777777778, \"#fb9f3a\"], [0.8888888888888888, \"#fdca26\"], [1.0, \"#f0f921\"]], \"type\": \"surface\"}], \"table\": [{\"cells\": {\"fill\": {\"color\": \"#EBF0F8\"}, \"line\": {\"color\": \"white\"}}, \"header\": {\"fill\": {\"color\": \"#C8D4E3\"}, \"line\": {\"color\": \"white\"}}, \"type\": \"table\"}]}, \"layout\": {\"annotationdefaults\": {\"arrowcolor\": \"#2a3f5f\", \"arrowhead\": 0, \"arrowwidth\": 1}, \"autotypenumbers\": \"strict\", \"coloraxis\": {\"colorbar\": {\"outlinewidth\": 0, \"ticks\": \"\"}}, \"colorscale\": {\"diverging\": [[0, \"#8e0152\"], [0.1, \"#c51b7d\"], [0.2, \"#de77ae\"], [0.3, \"#f1b6da\"], [0.4, \"#fde0ef\"], [0.5, \"#f7f7f7\"], [0.6, \"#e6f5d0\"], [0.7, \"#b8e186\"], [0.8, \"#7fbc41\"], [0.9, \"#4d9221\"], [1, \"#276419\"]], \"sequential\": [[0.0, \"#0d0887\"], [0.1111111111111111, \"#46039f\"], [0.2222222222222222, \"#7201a8\"], [0.3333333333333333, \"#9c179e\"], [0.4444444444444444, \"#bd3786\"], [0.5555555555555556, \"#d8576b\"], [0.6666666666666666, \"#ed7953\"], [0.7777777777777778, \"#fb9f3a\"], [0.8888888888888888, \"#fdca26\"], [1.0, \"#f0f921\"]], \"sequentialminus\": [[0.0, \"#0d0887\"], [0.1111111111111111, \"#46039f\"], [0.2222222222222222, \"#7201a8\"], [0.3333333333333333, \"#9c179e\"], [0.4444444444444444, \"#bd3786\"], [0.5555555555555556, \"#d8576b\"], [0.6666666666666666, \"#ed7953\"], [0.7777777777777778, \"#fb9f3a\"], [0.8888888888888888, \"#fdca26\"], [1.0, \"#f0f921\"]]}, \"colorway\": [\"#636efa\", \"#EF553B\", \"#00cc96\", \"#ab63fa\", \"#FFA15A\", \"#19d3f3\", \"#FF6692\", \"#B6E880\", \"#FF97FF\", \"#FECB52\"], \"font\": {\"color\": \"#2a3f5f\"}, \"geo\": {\"bgcolor\": \"white\", \"lakecolor\": \"white\", \"landcolor\": \"#E5ECF6\", \"showlakes\": true, \"showland\": true, \"subunitcolor\": \"white\"}, \"hoverlabel\": {\"align\": \"left\"}, \"hovermode\": \"closest\", \"mapbox\": {\"style\": \"light\"}, \"paper_bgcolor\": \"white\", \"plot_bgcolor\": \"#E5ECF6\", \"polar\": {\"angularaxis\": {\"gridcolor\": \"white\", \"linecolor\": \"white\", \"ticks\": \"\"}, \"bgcolor\": \"#E5ECF6\", \"radialaxis\": {\"gridcolor\": \"white\", \"linecolor\": \"white\", \"ticks\": \"\"}}, \"scene\": {\"xaxis\": {\"backgroundcolor\": \"#E5ECF6\", \"gridcolor\": \"white\", \"gridwidth\": 2, \"linecolor\": \"white\", \"showbackground\": true, \"ticks\": \"\", \"zerolinecolor\": \"white\"}, \"yaxis\": {\"backgroundcolor\": \"#E5ECF6\", \"gridcolor\": \"white\", \"gridwidth\": 2, \"linecolor\": \"white\", \"showbackground\": true, \"ticks\": \"\", \"zerolinecolor\": \"white\"}, \"zaxis\": {\"backgroundcolor\": \"#E5ECF6\", \"gridcolor\": \"white\", \"gridwidth\": 2, \"linecolor\": \"white\", \"showbackground\": true, \"ticks\": \"\", \"zerolinecolor\": \"white\"}}, \"shapedefaults\": {\"line\": {\"color\": \"#2a3f5f\"}}, \"ternary\": {\"aaxis\": {\"gridcolor\": \"white\", \"linecolor\": \"white\", \"ticks\": \"\"}, \"baxis\": {\"gridcolor\": \"white\", \"linecolor\": \"white\", \"ticks\": \"\"}, \"bgcolor\": \"#E5ECF6\", \"caxis\": {\"gridcolor\": \"white\", \"linecolor\": \"white\", \"ticks\": \"\"}}, \"title\": {\"x\": 0.05}, \"xaxis\": {\"automargin\": true, \"gridcolor\": \"white\", \"linecolor\": \"white\", \"ticks\": \"\", \"title\": {\"standoff\": 15}, \"zerolinecolor\": \"white\", \"zerolinewidth\": 2}, \"yaxis\": {\"automargin\": true, \"gridcolor\": \"white\", \"linecolor\": \"white\", \"ticks\": \"\", \"title\": {\"standoff\": 15}, \"zerolinecolor\": \"white\", \"zerolinewidth\": 2}}}, \"title\": {\"font\": {\"color\": \"#4D5663\"}}, \"xaxis\": {\"gridcolor\": \"#E1E5ED\", \"showgrid\": true, \"tickfont\": {\"color\": \"#4D5663\"}, \"title\": {\"font\": {\"color\": \"#4D5663\"}, \"text\": \"\"}, \"zerolinecolor\": \"#E1E5ED\"}, \"yaxis\": {\"gridcolor\": \"#E1E5ED\", \"showgrid\": true, \"tickfont\": {\"color\": \"#4D5663\"}, \"title\": {\"font\": {\"color\": \"#4D5663\"}, \"text\": \"\"}, \"zerolinecolor\": \"#E1E5ED\"}},                        {\"showLink\": true, \"linkText\": \"Export to plot.ly\", \"plotlyServerURL\": \"https://plot.ly\", \"responsive\": true}                    ).then(function(){\n",
       "                            \n",
       "var gd = document.getElementById('89c4f27e-68df-45ed-a19c-3ae2dabcfbd8');\n",
       "var x = new MutationObserver(function (mutations, observer) {{\n",
       "        var display = window.getComputedStyle(gd).display;\n",
       "        if (!display || display === 'none') {{\n",
       "            console.log([gd, 'removed!']);\n",
       "            Plotly.purge(gd);\n",
       "            observer.disconnect();\n",
       "        }}\n",
       "}});\n",
       "\n",
       "// Listen for the removal of the full notebook cells\n",
       "var notebookContainer = gd.closest('#notebook-container');\n",
       "if (notebookContainer) {{\n",
       "    x.observe(notebookContainer, {childList: true});\n",
       "}}\n",
       "\n",
       "// Listen for the clearing of the current output cell\n",
       "var outputEl = gd.closest('.output');\n",
       "if (outputEl) {{\n",
       "    x.observe(outputEl, {childList: true});\n",
       "}}\n",
       "\n",
       "                        })                };                });            </script>        </div>"
      ]
     },
     "metadata": {},
     "output_type": "display_data"
    }
   ],
   "source": [
    "MS['Close'].loc['2015-01-01':'2016-01-01'].ta_plot(study='sma')"
   ]
  },
  {
   "cell_type": "markdown",
   "metadata": {},
   "source": [
    "**Use .ta_plot(study='boll') to create a Bollinger Band Plot for Bank of America for the year 2015.**"
   ]
  },
  {
   "cell_type": "code",
   "execution_count": 73,
   "metadata": {},
   "outputs": [
    {
     "data": {
      "application/vnd.plotly.v1+json": {
       "config": {
        "linkText": "Export to plot.ly",
        "plotlyServerURL": "https://plot.ly",
        "showLink": true
       },
       "data": [
        {
         "line": {
          "color": "rgba(255, 153, 51, 1.0)",
          "dash": "solid",
          "shape": "linear",
          "width": 1.3
         },
         "mode": "lines",
         "name": "Close",
         "text": "",
         "type": "scatter",
         "x": [
          "2015-01-02",
          "2015-01-05",
          "2015-01-06",
          "2015-01-07",
          "2015-01-08",
          "2015-01-09",
          "2015-01-12",
          "2015-01-13",
          "2015-01-14",
          "2015-01-15",
          "2015-01-16",
          "2015-01-20",
          "2015-01-21",
          "2015-01-22",
          "2015-01-23",
          "2015-01-26",
          "2015-01-27",
          "2015-01-28",
          "2015-01-29",
          "2015-01-30",
          "2015-02-02",
          "2015-02-03",
          "2015-02-04",
          "2015-02-05",
          "2015-02-06",
          "2015-02-09",
          "2015-02-10",
          "2015-02-11",
          "2015-02-12",
          "2015-02-13",
          "2015-02-17",
          "2015-02-18",
          "2015-02-19",
          "2015-02-20",
          "2015-02-23",
          "2015-02-24",
          "2015-02-25",
          "2015-02-26",
          "2015-02-27",
          "2015-03-02",
          "2015-03-03",
          "2015-03-04",
          "2015-03-05",
          "2015-03-06",
          "2015-03-09",
          "2015-03-10",
          "2015-03-11",
          "2015-03-12",
          "2015-03-13",
          "2015-03-16",
          "2015-03-17",
          "2015-03-18",
          "2015-03-19",
          "2015-03-20",
          "2015-03-23",
          "2015-03-24",
          "2015-03-25",
          "2015-03-26",
          "2015-03-27",
          "2015-03-30",
          "2015-03-31",
          "2015-04-01",
          "2015-04-02",
          "2015-04-06",
          "2015-04-07",
          "2015-04-08",
          "2015-04-09",
          "2015-04-10",
          "2015-04-13",
          "2015-04-14",
          "2015-04-15",
          "2015-04-16",
          "2015-04-17",
          "2015-04-20",
          "2015-04-21",
          "2015-04-22",
          "2015-04-23",
          "2015-04-24",
          "2015-04-27",
          "2015-04-28",
          "2015-04-29",
          "2015-04-30",
          "2015-05-01",
          "2015-05-04",
          "2015-05-05",
          "2015-05-06",
          "2015-05-07",
          "2015-05-08",
          "2015-05-11",
          "2015-05-12",
          "2015-05-13",
          "2015-05-14",
          "2015-05-15",
          "2015-05-18",
          "2015-05-19",
          "2015-05-20",
          "2015-05-21",
          "2015-05-22",
          "2015-05-26",
          "2015-05-27",
          "2015-05-28",
          "2015-05-29",
          "2015-06-01",
          "2015-06-02",
          "2015-06-03",
          "2015-06-04",
          "2015-06-05",
          "2015-06-08",
          "2015-06-09",
          "2015-06-10",
          "2015-06-11",
          "2015-06-12",
          "2015-06-15",
          "2015-06-16",
          "2015-06-17",
          "2015-06-18",
          "2015-06-19",
          "2015-06-22",
          "2015-06-23",
          "2015-06-24",
          "2015-06-25",
          "2015-06-26",
          "2015-06-29",
          "2015-06-30",
          "2015-07-01",
          "2015-07-02",
          "2015-07-06",
          "2015-07-07",
          "2015-07-08",
          "2015-07-09",
          "2015-07-10",
          "2015-07-13",
          "2015-07-14",
          "2015-07-15",
          "2015-07-16",
          "2015-07-17",
          "2015-07-20",
          "2015-07-21",
          "2015-07-22",
          "2015-07-23",
          "2015-07-24",
          "2015-07-27",
          "2015-07-28",
          "2015-07-29",
          "2015-07-30",
          "2015-07-31",
          "2015-08-03",
          "2015-08-04",
          "2015-08-05",
          "2015-08-06",
          "2015-08-07",
          "2015-08-10",
          "2015-08-11",
          "2015-08-12",
          "2015-08-13",
          "2015-08-14",
          "2015-08-17",
          "2015-08-18",
          "2015-08-19",
          "2015-08-20",
          "2015-08-21",
          "2015-08-24",
          "2015-08-25",
          "2015-08-26",
          "2015-08-27",
          "2015-08-28",
          "2015-08-31",
          "2015-09-01",
          "2015-09-02",
          "2015-09-03",
          "2015-09-04",
          "2015-09-08",
          "2015-09-09",
          "2015-09-10",
          "2015-09-11",
          "2015-09-14",
          "2015-09-15",
          "2015-09-16",
          "2015-09-17",
          "2015-09-18",
          "2015-09-21",
          "2015-09-22",
          "2015-09-23",
          "2015-09-24",
          "2015-09-25",
          "2015-09-28",
          "2015-09-29",
          "2015-09-30",
          "2015-10-01",
          "2015-10-02",
          "2015-10-05",
          "2015-10-06",
          "2015-10-07",
          "2015-10-08",
          "2015-10-09",
          "2015-10-12",
          "2015-10-13",
          "2015-10-14",
          "2015-10-15",
          "2015-10-16",
          "2015-10-19",
          "2015-10-20",
          "2015-10-21",
          "2015-10-22",
          "2015-10-23",
          "2015-10-26",
          "2015-10-27",
          "2015-10-28",
          "2015-10-29",
          "2015-10-30",
          "2015-11-02",
          "2015-11-03",
          "2015-11-04",
          "2015-11-05",
          "2015-11-06",
          "2015-11-09",
          "2015-11-10",
          "2015-11-11",
          "2015-11-12",
          "2015-11-13",
          "2015-11-16",
          "2015-11-17",
          "2015-11-18",
          "2015-11-19",
          "2015-11-20",
          "2015-11-23",
          "2015-11-24",
          "2015-11-25",
          "2015-11-27",
          "2015-11-30",
          "2015-12-01",
          "2015-12-02",
          "2015-12-03",
          "2015-12-04",
          "2015-12-07",
          "2015-12-08",
          "2015-12-09",
          "2015-12-10",
          "2015-12-11",
          "2015-12-14",
          "2015-12-15",
          "2015-12-16",
          "2015-12-17",
          "2015-12-18",
          "2015-12-21",
          "2015-12-22",
          "2015-12-23",
          "2015-12-24",
          "2015-12-28",
          "2015-12-29",
          "2015-12-30",
          "2015-12-31"
         ],
         "y": [
          15.949,
          15.488,
          15.018,
          15.094,
          15.403,
          15.129,
          14.859,
          14.655,
          14.291,
          13.544,
          13.701,
          13.595,
          13.729,
          14.333,
          14.014,
          14.122,
          13.925,
          13.544,
          13.746,
          13.498,
          13.775,
          14.155,
          14.069,
          14.228,
          14.692,
          14.569,
          14.628,
          14.576,
          14.851,
          14.799,
          14.816,
          14.522,
          14.442,
          14.595,
          14.434,
          14.595,
          14.692,
          14.291,
          14.087,
          14.266,
          14.291,
          14.155,
          14.299,
          14.495,
          14.45,
          14.113,
          14.328,
          14.352,
          14.382,
          14.415,
          14.382,
          14.283,
          13.95,
          14.155,
          14.05,
          13.95,
          13.773,
          13.783,
          13.681,
          13.87,
          13.754,
          13.773,
          13.889,
          13.862,
          13.818,
          13.95,
          14.04,
          14.05,
          14.121,
          14.138,
          13.978,
          14.113,
          13.906,
          13.915,
          13.853,
          14.068,
          14.021,
          13.978,
          13.906,
          13.986,
          14.283,
          14.238,
          14.399,
          14.693,
          14.611,
          14.56,
          14.515,
          14.701,
          14.738,
          14.684,
          14.719,
          14.765,
          14.611,
          14.756,
          14.989,
          14.961,
          14.952,
          14.971,
          14.747,
          14.961,
          14.899,
          14.747,
          14.794,
          14.944,
          15.177,
          15.04,
          15.407,
          15.309,
          15.517,
          15.769,
          15.679,
          15.679,
          15.663,
          15.73,
          15.57,
          15.577,
          15.393,
          15.663,
          15.84,
          15.679,
          15.57,
          15.604,
          15.14,
          15.257,
          15.434,
          15.265,
          15.185,
          14.961,
          14.569,
          14.773,
          14.971,
          15.257,
          15.355,
          15.848,
          16.09,
          16.223,
          16.242,
          16.206,
          16.538,
          16.296,
          16.046,
          15.84,
          16.029,
          16.277,
          16.252,
          16.029,
          15.929,
          15.956,
          16.02,
          15.966,
          15.91,
          16.172,
          15.948,
          15.704,
          15.797,
          15.864,
          15.929,
          15.855,
          15.653,
          14.989,
          14.433,
          13.705,
          13.679,
          14.397,
          14.737,
          14.664,
          14.645,
          13.966,
          14.257,
          14.332,
          14.075,
          14.534,
          14.298,
          14.425,
          14.425,
          14.351,
          14.666,
          14.686,
          14.265,
          13.992,
          14.119,
          14.001,
          14.136,
          13.984,
          14.29,
          13.912,
          13.806,
          14.01,
          13.984,
          13.831,
          14.112,
          14.112,
          14.162,
          14.162,
          14.01,
          13.957,
          13.957,
          14.065,
          14.561,
          14.496,
          14.516,
          14.571,
          14.298,
          14.534,
          14.856,
          14.846,
          14.749,
          15.54,
          15.369,
          15.091,
          15.343,
          15.449,
          15.297,
          15.566,
          16.142,
          15.897,
          16.052,
          15.963,
          15.619,
          15.469,
          15.676,
          15.667,
          16.044,
          15.907,
          15.87,
          15.709,
          15.709,
          15.683,
          15.719,
          15.676,
          16.017,
          15.887,
          15.6,
          16.052,
          15.82,
          15.504,
          15.419,
          15.513,
          15.088,
          15.15,
          15.708,
          16.008,
          15.6,
          15.116,
          15.304,
          15.402,
          15.638,
          15.574,
          15.447,
          15.581,
          15.377,
          15.177
         ]
        },
        {
         "line": {
          "color": "rgba(55, 128, 191, 1.0)",
          "dash": "solid",
          "shape": "linear",
          "width": 1.3
         },
         "mode": "lines",
         "name": "SMA(14)",
         "text": "",
         "type": "scatter",
         "x": [
          "2015-01-02",
          "2015-01-05",
          "2015-01-06",
          "2015-01-07",
          "2015-01-08",
          "2015-01-09",
          "2015-01-12",
          "2015-01-13",
          "2015-01-14",
          "2015-01-15",
          "2015-01-16",
          "2015-01-20",
          "2015-01-21",
          "2015-01-22",
          "2015-01-23",
          "2015-01-26",
          "2015-01-27",
          "2015-01-28",
          "2015-01-29",
          "2015-01-30",
          "2015-02-02",
          "2015-02-03",
          "2015-02-04",
          "2015-02-05",
          "2015-02-06",
          "2015-02-09",
          "2015-02-10",
          "2015-02-11",
          "2015-02-12",
          "2015-02-13",
          "2015-02-17",
          "2015-02-18",
          "2015-02-19",
          "2015-02-20",
          "2015-02-23",
          "2015-02-24",
          "2015-02-25",
          "2015-02-26",
          "2015-02-27",
          "2015-03-02",
          "2015-03-03",
          "2015-03-04",
          "2015-03-05",
          "2015-03-06",
          "2015-03-09",
          "2015-03-10",
          "2015-03-11",
          "2015-03-12",
          "2015-03-13",
          "2015-03-16",
          "2015-03-17",
          "2015-03-18",
          "2015-03-19",
          "2015-03-20",
          "2015-03-23",
          "2015-03-24",
          "2015-03-25",
          "2015-03-26",
          "2015-03-27",
          "2015-03-30",
          "2015-03-31",
          "2015-04-01",
          "2015-04-02",
          "2015-04-06",
          "2015-04-07",
          "2015-04-08",
          "2015-04-09",
          "2015-04-10",
          "2015-04-13",
          "2015-04-14",
          "2015-04-15",
          "2015-04-16",
          "2015-04-17",
          "2015-04-20",
          "2015-04-21",
          "2015-04-22",
          "2015-04-23",
          "2015-04-24",
          "2015-04-27",
          "2015-04-28",
          "2015-04-29",
          "2015-04-30",
          "2015-05-01",
          "2015-05-04",
          "2015-05-05",
          "2015-05-06",
          "2015-05-07",
          "2015-05-08",
          "2015-05-11",
          "2015-05-12",
          "2015-05-13",
          "2015-05-14",
          "2015-05-15",
          "2015-05-18",
          "2015-05-19",
          "2015-05-20",
          "2015-05-21",
          "2015-05-22",
          "2015-05-26",
          "2015-05-27",
          "2015-05-28",
          "2015-05-29",
          "2015-06-01",
          "2015-06-02",
          "2015-06-03",
          "2015-06-04",
          "2015-06-05",
          "2015-06-08",
          "2015-06-09",
          "2015-06-10",
          "2015-06-11",
          "2015-06-12",
          "2015-06-15",
          "2015-06-16",
          "2015-06-17",
          "2015-06-18",
          "2015-06-19",
          "2015-06-22",
          "2015-06-23",
          "2015-06-24",
          "2015-06-25",
          "2015-06-26",
          "2015-06-29",
          "2015-06-30",
          "2015-07-01",
          "2015-07-02",
          "2015-07-06",
          "2015-07-07",
          "2015-07-08",
          "2015-07-09",
          "2015-07-10",
          "2015-07-13",
          "2015-07-14",
          "2015-07-15",
          "2015-07-16",
          "2015-07-17",
          "2015-07-20",
          "2015-07-21",
          "2015-07-22",
          "2015-07-23",
          "2015-07-24",
          "2015-07-27",
          "2015-07-28",
          "2015-07-29",
          "2015-07-30",
          "2015-07-31",
          "2015-08-03",
          "2015-08-04",
          "2015-08-05",
          "2015-08-06",
          "2015-08-07",
          "2015-08-10",
          "2015-08-11",
          "2015-08-12",
          "2015-08-13",
          "2015-08-14",
          "2015-08-17",
          "2015-08-18",
          "2015-08-19",
          "2015-08-20",
          "2015-08-21",
          "2015-08-24",
          "2015-08-25",
          "2015-08-26",
          "2015-08-27",
          "2015-08-28",
          "2015-08-31",
          "2015-09-01",
          "2015-09-02",
          "2015-09-03",
          "2015-09-04",
          "2015-09-08",
          "2015-09-09",
          "2015-09-10",
          "2015-09-11",
          "2015-09-14",
          "2015-09-15",
          "2015-09-16",
          "2015-09-17",
          "2015-09-18",
          "2015-09-21",
          "2015-09-22",
          "2015-09-23",
          "2015-09-24",
          "2015-09-25",
          "2015-09-28",
          "2015-09-29",
          "2015-09-30",
          "2015-10-01",
          "2015-10-02",
          "2015-10-05",
          "2015-10-06",
          "2015-10-07",
          "2015-10-08",
          "2015-10-09",
          "2015-10-12",
          "2015-10-13",
          "2015-10-14",
          "2015-10-15",
          "2015-10-16",
          "2015-10-19",
          "2015-10-20",
          "2015-10-21",
          "2015-10-22",
          "2015-10-23",
          "2015-10-26",
          "2015-10-27",
          "2015-10-28",
          "2015-10-29",
          "2015-10-30",
          "2015-11-02",
          "2015-11-03",
          "2015-11-04",
          "2015-11-05",
          "2015-11-06",
          "2015-11-09",
          "2015-11-10",
          "2015-11-11",
          "2015-11-12",
          "2015-11-13",
          "2015-11-16",
          "2015-11-17",
          "2015-11-18",
          "2015-11-19",
          "2015-11-20",
          "2015-11-23",
          "2015-11-24",
          "2015-11-25",
          "2015-11-27",
          "2015-11-30",
          "2015-12-01",
          "2015-12-02",
          "2015-12-03",
          "2015-12-04",
          "2015-12-07",
          "2015-12-08",
          "2015-12-09",
          "2015-12-10",
          "2015-12-11",
          "2015-12-14",
          "2015-12-15",
          "2015-12-16",
          "2015-12-17",
          "2015-12-18",
          "2015-12-21",
          "2015-12-22",
          "2015-12-23",
          "2015-12-24",
          "2015-12-28",
          "2015-12-29",
          "2015-12-30",
          "2015-12-31"
         ],
         "y": [
          "",
          "",
          "",
          "",
          "",
          "",
          "",
          "",
          "",
          "",
          "",
          "",
          "",
          14.627714285714287,
          14.489499999999998,
          14.39192857142857,
          14.313857142857142,
          14.203142857142856,
          14.084785714285715,
          13.968285714285715,
          13.890857142857143,
          13.855142857142857,
          13.839285714285714,
          13.888142857142856,
          13.958928571428572,
          14.0285,
          14.092714285714285,
          14.110071428571429,
          14.169857142857143,
          14.218214285714286,
          14.281857142857145,
          14.351714285714285,
          14.401428571428571,
          14.479785714285715,
          14.526857142857143,
          14.558285714285715,
          14.602785714285716,
          14.607285714285714,
          14.564071428571427,
          14.542428571428571,
          14.518357142857143,
          14.488285714285713,
          14.448857142857142,
          14.427142857142856,
          14.400999999999998,
          14.371785714285712,
          14.363642857142855,
          14.346285714285713,
          14.342571428571429,
          14.329714285714285,
          14.307571428571427,
          14.306999999999999,
          14.297214285714286,
          14.289285714285715,
          14.272071428571428,
          14.257428571428573,
          14.219857142857142,
          14.168999999999999,
          14.11407142857143,
          14.096714285714286,
          14.055714285714286,
          14.014357142857142,
          13.979142857142858,
          13.939642857142857,
          13.899357142857143,
          13.87557142857143,
          13.882,
          13.8745,
          13.879571428571428,
          13.892999999999999,
          13.907642857142857,
          13.931214285714287,
          13.947285714285714,
          13.9505,
          13.957571428571429,
          13.978642857142857,
          13.988071428571429,
          13.996357142857141,
          14.002642857142856,
          14.005214285714287,
          14.022571428571428,
          14.036,
          14.055857142857144,
          14.095500000000001,
          14.140714285714285,
          14.172642857142858,
          14.216142857142856,
          14.272285714285715,
          14.3355,
          14.379500000000002,
          14.429357142857143,
          14.48557142857143,
          14.535928571428572,
          14.590928571428572,
          14.641357142857144,
          14.693,
          14.7325,
          14.752357142857141,
          14.76207142857143,
          14.790714285714285,
          14.818142857142858,
          14.821428571428571,
          14.82542857142857,
          14.844,
          14.876714285714286,
          14.896357142857143,
          14.953214285714285,
          14.992714285714285,
          15.03042857142857,
          15.088142857142858,
          15.14007142857143,
          15.190642857142858,
          15.256071428571428,
          15.311000000000002,
          15.358928571428573,
          15.418214285714285,
          15.461,
          15.512357142857143,
          15.559714285714287,
          15.605357142857143,
          15.617,
          15.638071428571427,
          15.611142857142857,
          15.574571428571428,
          15.55707142857143,
          15.5275,
          15.493357142857144,
          15.438428571428572,
          15.366928571428572,
          15.3095,
          15.279357142857142,
          15.250357142857142,
          15.215714285714286,
          15.227785714285716,
          15.264928571428571,
          15.309142857142858,
          15.387857142857143,
          15.455642857142857,
          15.5345,
          15.608142857142857,
          15.669642857142858,
          15.73242857142857,
          15.836714285714285,
          15.94414285714286,
          16.035642857142857,
          16.090785714285712,
          16.131785714285716,
          16.1395,
          16.1345,
          16.116142857142858,
          16.092428571428574,
          16.09,
          16.047857142857143,
          16.00557142857143,
          15.987785714285716,
          15.989500000000001,
          15.982357142857143,
          15.952214285714286,
          15.909428571428572,
          15.835142857142857,
          15.728285714285716,
          15.567499999999999,
          15.400285714285715,
          15.288214285714286,
          15.204428571428574,
          15.096714285714286,
          15.003642857142859,
          14.879499999999998,
          14.769499999999999,
          14.660071428571428,
          14.527642857142856,
          14.433285714285715,
          14.336500000000001,
          14.296214285714287,
          14.295642857142855,
          14.341785714285715,
          14.412285714285714,
          14.432928571428572,
          14.399214285714288,
          14.351214285714287,
          14.313642857142856,
          14.316142857142859,
          14.307500000000001,
          14.282642857142859,
          14.298,
          14.25357142857143,
          14.218428571428571,
          14.188785714285714,
          14.157285714285715,
          14.120142857142858,
          14.08057142857143,
          14.03957142857143,
          14.032214285714286,
          14.044357142857143,
          14.03657142857143,
          14.033428571428571,
          14.020642857142857,
          14.026428571428571,
          14.045785714285714,
          14.0875,
          14.138214285714286,
          14.178285714285712,
          14.200714285714286,
          14.250928571428572,
          14.30407142857143,
          14.3565,
          14.398428571428571,
          14.496857142857142,
          14.593928571428572,
          14.674928571428572,
          14.773928571428572,
          14.872785714285714,
          14.925357142857143,
          15.001785714285715,
          15.117928571428573,
          15.212642857142857,
          15.337928571428572,
          15.44,
          15.4945,
          15.539,
          15.605214285714284,
          15.614285714285714,
          15.6625,
          15.720785714285714,
          15.75842857142857,
          15.777,
          15.80642857142857,
          15.814785714285714,
          15.784571428571427,
          15.768785714285714,
          15.766285714285715,
          15.760857142857143,
          15.7595,
          15.801142857142858,
          15.811428571428573,
          15.799785714285715,
          15.755142857142857,
          15.727,
          15.671142857142858,
          15.631214285714284,
          15.631142857142859,
          15.654357142857142,
          15.645857142857142,
          15.605857142857143,
          15.554928571428572,
          15.520285714285714,
          15.523,
          15.488857142857142,
          15.462214285714285,
          15.467714285714285,
          15.464714285714285,
          15.440714285714284
         ]
        },
        {
         "line": {
          "color": "rgba(55, 128, 191, 0.8999999999999999)",
          "dash": "solid",
          "shape": "linear",
          "width": 1.3
         },
         "mode": "lines",
         "name": "UPPER(14)",
         "text": "",
         "type": "scatter",
         "x": [
          "2015-01-02",
          "2015-01-05",
          "2015-01-06",
          "2015-01-07",
          "2015-01-08",
          "2015-01-09",
          "2015-01-12",
          "2015-01-13",
          "2015-01-14",
          "2015-01-15",
          "2015-01-16",
          "2015-01-20",
          "2015-01-21",
          "2015-01-22",
          "2015-01-23",
          "2015-01-26",
          "2015-01-27",
          "2015-01-28",
          "2015-01-29",
          "2015-01-30",
          "2015-02-02",
          "2015-02-03",
          "2015-02-04",
          "2015-02-05",
          "2015-02-06",
          "2015-02-09",
          "2015-02-10",
          "2015-02-11",
          "2015-02-12",
          "2015-02-13",
          "2015-02-17",
          "2015-02-18",
          "2015-02-19",
          "2015-02-20",
          "2015-02-23",
          "2015-02-24",
          "2015-02-25",
          "2015-02-26",
          "2015-02-27",
          "2015-03-02",
          "2015-03-03",
          "2015-03-04",
          "2015-03-05",
          "2015-03-06",
          "2015-03-09",
          "2015-03-10",
          "2015-03-11",
          "2015-03-12",
          "2015-03-13",
          "2015-03-16",
          "2015-03-17",
          "2015-03-18",
          "2015-03-19",
          "2015-03-20",
          "2015-03-23",
          "2015-03-24",
          "2015-03-25",
          "2015-03-26",
          "2015-03-27",
          "2015-03-30",
          "2015-03-31",
          "2015-04-01",
          "2015-04-02",
          "2015-04-06",
          "2015-04-07",
          "2015-04-08",
          "2015-04-09",
          "2015-04-10",
          "2015-04-13",
          "2015-04-14",
          "2015-04-15",
          "2015-04-16",
          "2015-04-17",
          "2015-04-20",
          "2015-04-21",
          "2015-04-22",
          "2015-04-23",
          "2015-04-24",
          "2015-04-27",
          "2015-04-28",
          "2015-04-29",
          "2015-04-30",
          "2015-05-01",
          "2015-05-04",
          "2015-05-05",
          "2015-05-06",
          "2015-05-07",
          "2015-05-08",
          "2015-05-11",
          "2015-05-12",
          "2015-05-13",
          "2015-05-14",
          "2015-05-15",
          "2015-05-18",
          "2015-05-19",
          "2015-05-20",
          "2015-05-21",
          "2015-05-22",
          "2015-05-26",
          "2015-05-27",
          "2015-05-28",
          "2015-05-29",
          "2015-06-01",
          "2015-06-02",
          "2015-06-03",
          "2015-06-04",
          "2015-06-05",
          "2015-06-08",
          "2015-06-09",
          "2015-06-10",
          "2015-06-11",
          "2015-06-12",
          "2015-06-15",
          "2015-06-16",
          "2015-06-17",
          "2015-06-18",
          "2015-06-19",
          "2015-06-22",
          "2015-06-23",
          "2015-06-24",
          "2015-06-25",
          "2015-06-26",
          "2015-06-29",
          "2015-06-30",
          "2015-07-01",
          "2015-07-02",
          "2015-07-06",
          "2015-07-07",
          "2015-07-08",
          "2015-07-09",
          "2015-07-10",
          "2015-07-13",
          "2015-07-14",
          "2015-07-15",
          "2015-07-16",
          "2015-07-17",
          "2015-07-20",
          "2015-07-21",
          "2015-07-22",
          "2015-07-23",
          "2015-07-24",
          "2015-07-27",
          "2015-07-28",
          "2015-07-29",
          "2015-07-30",
          "2015-07-31",
          "2015-08-03",
          "2015-08-04",
          "2015-08-05",
          "2015-08-06",
          "2015-08-07",
          "2015-08-10",
          "2015-08-11",
          "2015-08-12",
          "2015-08-13",
          "2015-08-14",
          "2015-08-17",
          "2015-08-18",
          "2015-08-19",
          "2015-08-20",
          "2015-08-21",
          "2015-08-24",
          "2015-08-25",
          "2015-08-26",
          "2015-08-27",
          "2015-08-28",
          "2015-08-31",
          "2015-09-01",
          "2015-09-02",
          "2015-09-03",
          "2015-09-04",
          "2015-09-08",
          "2015-09-09",
          "2015-09-10",
          "2015-09-11",
          "2015-09-14",
          "2015-09-15",
          "2015-09-16",
          "2015-09-17",
          "2015-09-18",
          "2015-09-21",
          "2015-09-22",
          "2015-09-23",
          "2015-09-24",
          "2015-09-25",
          "2015-09-28",
          "2015-09-29",
          "2015-09-30",
          "2015-10-01",
          "2015-10-02",
          "2015-10-05",
          "2015-10-06",
          "2015-10-07",
          "2015-10-08",
          "2015-10-09",
          "2015-10-12",
          "2015-10-13",
          "2015-10-14",
          "2015-10-15",
          "2015-10-16",
          "2015-10-19",
          "2015-10-20",
          "2015-10-21",
          "2015-10-22",
          "2015-10-23",
          "2015-10-26",
          "2015-10-27",
          "2015-10-28",
          "2015-10-29",
          "2015-10-30",
          "2015-11-02",
          "2015-11-03",
          "2015-11-04",
          "2015-11-05",
          "2015-11-06",
          "2015-11-09",
          "2015-11-10",
          "2015-11-11",
          "2015-11-12",
          "2015-11-13",
          "2015-11-16",
          "2015-11-17",
          "2015-11-18",
          "2015-11-19",
          "2015-11-20",
          "2015-11-23",
          "2015-11-24",
          "2015-11-25",
          "2015-11-27",
          "2015-11-30",
          "2015-12-01",
          "2015-12-02",
          "2015-12-03",
          "2015-12-04",
          "2015-12-07",
          "2015-12-08",
          "2015-12-09",
          "2015-12-10",
          "2015-12-11",
          "2015-12-14",
          "2015-12-15",
          "2015-12-16",
          "2015-12-17",
          "2015-12-18",
          "2015-12-21",
          "2015-12-22",
          "2015-12-23",
          "2015-12-24",
          "2015-12-28",
          "2015-12-29",
          "2015-12-30",
          "2015-12-31"
         ],
         "y": [
          "",
          "",
          "",
          "",
          "",
          "",
          "",
          "",
          "",
          "",
          "",
          "",
          "",
          16.183831826968095,
          15.874394941863816,
          15.661459911796271,
          15.551569886253128,
          15.417319591748294,
          15.102238999116604,
          14.83268570309837,
          14.589958481232816,
          14.425274748573557,
          14.368045324387221,
          14.425699641774278,
          14.633786716881003,
          14.741487107446266,
          14.850060026725979,
          14.901510415688977,
          15.051363845006394,
          15.16058745320855,
          15.25864713119582,
          15.236769843664932,
          15.215244167356676,
          15.109264218138849,
          15.01111508883403,
          14.993179461571838,
          14.93810937292607,
          14.922001144790478,
          14.978902229509098,
          14.986722108690529,
          14.97889903581025,
          14.986086062631495,
          14.908913899986318,
          14.842538021844057,
          14.752060809985514,
          14.746730369542309,
          14.736966892218055,
          14.695062414787884,
          14.688419518198788,
          14.647372475085689,
          14.55098650842248,
          14.550620133057105,
          14.585764165227388,
          14.587469373303923,
          14.596499886287171,
          14.620787867473094,
          14.664406253853782,
          14.640073406006053,
          14.621902693271215,
          14.621046199719094,
          14.591776525827047,
          14.541212900167407,
          14.464408118238639,
          14.357411734831008,
          14.233846979099486,
          14.13042186952205,
          14.149180146659905,
          14.113027211800265,
          14.13648292400029,
          14.183258240458086,
          14.19245600198085,
          14.226037495917803,
          14.205626489317334,
          14.205800426345688,
          14.194229850756635,
          14.196277140560394,
          14.200347684406115,
          14.196122554728678,
          14.182809629701092,
          14.183158405847813,
          14.254383971254176,
          14.294860223643187,
          14.377775295037607,
          14.564214608920368,
          14.677747978151897,
          14.753908641520283,
          14.802578167834808,
          14.88446136960617,
          14.943930894881376,
          14.993666978046752,
          15.03136435321154,
          15.051945436170225,
          14.995647859881679,
          14.937570008239428,
          15.000226827491359,
          15.007126872947389,
          15.025756254441818,
          15.070669623235855,
          15.06993000178146,
          15.092135972006178,
          15.078588460077382,
          15.076615639205242,
          15.076708022712154,
          15.088595741833526,
          15.167452792143854,
          15.191705289071987,
          15.311658941733299,
          15.37838646900866,
          15.507071778925294,
          15.703934458825856,
          15.825125705718415,
          15.924709970881475,
          15.983056123907419,
          16.05788028079885,
          16.077500858584255,
          16.051160110870303,
          15.983532295652635,
          15.950524379734272,
          15.984868323733409,
          15.910400501331734,
          15.901158135822033,
          15.860998066087657,
          15.955225903596979,
          15.953457012507124,
          15.93780712473043,
          15.931066980428673,
          15.92728064348325,
          15.933669127917256,
          16.038122439689616,
          16.038372152976525,
          16.027990197530436,
          15.965686268673908,
          15.850471866853109,
          15.905472357811474,
          16.068685313919058,
          16.249706307631776,
          16.444704954371794,
          16.594862457002034,
          16.811743365762617,
          16.936324461301854,
          16.99315022706633,
          16.993025673973648,
          16.91041713203527,
          16.846705655177203,
          16.75420364399083,
          16.65354276178087,
          16.520281969942463,
          16.50746885319691,
          16.50723768875089,
          16.49536299385488,
          16.479193229972854,
          16.474110561006718,
          16.338269960059794,
          16.312282732855767,
          16.312734163282585,
          16.311328191144533,
          16.30484707795859,
          16.232150738471685,
          16.174708353238913,
          16.385484768848844,
          16.653435990169054,
          16.977528641280294,
          17.10383990453646,
          17.03728211279712,
          16.937497297357012,
          16.756640035410793,
          16.602968216285152,
          16.514071456423324,
          16.34427495339689,
          16.115624078420808,
          15.813323187585828,
          15.46891006809256,
          15.09810508644071,
          14.962892009065863,
          14.961829066797572,
          14.914702772893682,
          14.86395164159278,
          14.907424880426639,
          14.84696227704011,
          14.82025925883865,
          14.765259172950143,
          14.759786412709325,
          14.760718066039592,
          14.767164259158335,
          14.76756936081418,
          14.744183425844414,
          14.76286375611976,
          14.729952646342458,
          14.69050492368724,
          14.667492194132826,
          14.52910937090669,
          14.324994422940055,
          14.297183576906288,
          14.316861886237698,
          14.30610174858508,
          14.305757235176932,
          14.289006109405351,
          14.29488136262093,
          14.415928454794987,
          14.519205562053303,
          14.593631037253447,
          14.681337587170855,
          14.694363447068335,
          14.72521538130424,
          14.869308731649763,
          14.978324981560219,
          15.042521118188171,
          15.366858330174793,
          15.530635557642528,
          15.56955576986146,
          15.632343376765728,
          15.697625159202213,
          15.758373019386214,
          15.861038047089425,
          16.121732862585517,
          16.24399823337743,
          16.31539829215914,
          16.35209918488998,
          16.345410372212317,
          16.304713744464326,
          16.222608401741915,
          16.231284120253733,
          16.302013637311777,
          16.279571308820316,
          16.277151686712358,
          16.265752887066085,
          16.213465681273924,
          16.205015767594716,
          16.128411028282862,
          16.110677445750525,
          16.099662312210654,
          16.08271124945533,
          16.084079491271236,
          16.114576306973248,
          16.116511374096255,
          16.139129133323138,
          16.119604827000586,
          16.10165471283063,
          16.167400145959196,
          16.199130410925363,
          16.199017088691697,
          16.256877800475774,
          16.24780672272521,
          16.2703536472841,
          16.192429202757744,
          16.1322527463648,
          16.136824329667977,
          16.024071180354383,
          15.962409434444478,
          15.971568616660461,
          15.970315179440053,
          15.967880543868478
         ]
        },
        {
         "line": {
          "color": "rgba(55, 128, 191, 0.7999999999999998)",
          "dash": "solid",
          "shape": "linear",
          "width": 1.3
         },
         "mode": "lines",
         "name": "LOWER(14)",
         "text": "",
         "type": "scatter",
         "x": [
          "2015-01-02",
          "2015-01-05",
          "2015-01-06",
          "2015-01-07",
          "2015-01-08",
          "2015-01-09",
          "2015-01-12",
          "2015-01-13",
          "2015-01-14",
          "2015-01-15",
          "2015-01-16",
          "2015-01-20",
          "2015-01-21",
          "2015-01-22",
          "2015-01-23",
          "2015-01-26",
          "2015-01-27",
          "2015-01-28",
          "2015-01-29",
          "2015-01-30",
          "2015-02-02",
          "2015-02-03",
          "2015-02-04",
          "2015-02-05",
          "2015-02-06",
          "2015-02-09",
          "2015-02-10",
          "2015-02-11",
          "2015-02-12",
          "2015-02-13",
          "2015-02-17",
          "2015-02-18",
          "2015-02-19",
          "2015-02-20",
          "2015-02-23",
          "2015-02-24",
          "2015-02-25",
          "2015-02-26",
          "2015-02-27",
          "2015-03-02",
          "2015-03-03",
          "2015-03-04",
          "2015-03-05",
          "2015-03-06",
          "2015-03-09",
          "2015-03-10",
          "2015-03-11",
          "2015-03-12",
          "2015-03-13",
          "2015-03-16",
          "2015-03-17",
          "2015-03-18",
          "2015-03-19",
          "2015-03-20",
          "2015-03-23",
          "2015-03-24",
          "2015-03-25",
          "2015-03-26",
          "2015-03-27",
          "2015-03-30",
          "2015-03-31",
          "2015-04-01",
          "2015-04-02",
          "2015-04-06",
          "2015-04-07",
          "2015-04-08",
          "2015-04-09",
          "2015-04-10",
          "2015-04-13",
          "2015-04-14",
          "2015-04-15",
          "2015-04-16",
          "2015-04-17",
          "2015-04-20",
          "2015-04-21",
          "2015-04-22",
          "2015-04-23",
          "2015-04-24",
          "2015-04-27",
          "2015-04-28",
          "2015-04-29",
          "2015-04-30",
          "2015-05-01",
          "2015-05-04",
          "2015-05-05",
          "2015-05-06",
          "2015-05-07",
          "2015-05-08",
          "2015-05-11",
          "2015-05-12",
          "2015-05-13",
          "2015-05-14",
          "2015-05-15",
          "2015-05-18",
          "2015-05-19",
          "2015-05-20",
          "2015-05-21",
          "2015-05-22",
          "2015-05-26",
          "2015-05-27",
          "2015-05-28",
          "2015-05-29",
          "2015-06-01",
          "2015-06-02",
          "2015-06-03",
          "2015-06-04",
          "2015-06-05",
          "2015-06-08",
          "2015-06-09",
          "2015-06-10",
          "2015-06-11",
          "2015-06-12",
          "2015-06-15",
          "2015-06-16",
          "2015-06-17",
          "2015-06-18",
          "2015-06-19",
          "2015-06-22",
          "2015-06-23",
          "2015-06-24",
          "2015-06-25",
          "2015-06-26",
          "2015-06-29",
          "2015-06-30",
          "2015-07-01",
          "2015-07-02",
          "2015-07-06",
          "2015-07-07",
          "2015-07-08",
          "2015-07-09",
          "2015-07-10",
          "2015-07-13",
          "2015-07-14",
          "2015-07-15",
          "2015-07-16",
          "2015-07-17",
          "2015-07-20",
          "2015-07-21",
          "2015-07-22",
          "2015-07-23",
          "2015-07-24",
          "2015-07-27",
          "2015-07-28",
          "2015-07-29",
          "2015-07-30",
          "2015-07-31",
          "2015-08-03",
          "2015-08-04",
          "2015-08-05",
          "2015-08-06",
          "2015-08-07",
          "2015-08-10",
          "2015-08-11",
          "2015-08-12",
          "2015-08-13",
          "2015-08-14",
          "2015-08-17",
          "2015-08-18",
          "2015-08-19",
          "2015-08-20",
          "2015-08-21",
          "2015-08-24",
          "2015-08-25",
          "2015-08-26",
          "2015-08-27",
          "2015-08-28",
          "2015-08-31",
          "2015-09-01",
          "2015-09-02",
          "2015-09-03",
          "2015-09-04",
          "2015-09-08",
          "2015-09-09",
          "2015-09-10",
          "2015-09-11",
          "2015-09-14",
          "2015-09-15",
          "2015-09-16",
          "2015-09-17",
          "2015-09-18",
          "2015-09-21",
          "2015-09-22",
          "2015-09-23",
          "2015-09-24",
          "2015-09-25",
          "2015-09-28",
          "2015-09-29",
          "2015-09-30",
          "2015-10-01",
          "2015-10-02",
          "2015-10-05",
          "2015-10-06",
          "2015-10-07",
          "2015-10-08",
          "2015-10-09",
          "2015-10-12",
          "2015-10-13",
          "2015-10-14",
          "2015-10-15",
          "2015-10-16",
          "2015-10-19",
          "2015-10-20",
          "2015-10-21",
          "2015-10-22",
          "2015-10-23",
          "2015-10-26",
          "2015-10-27",
          "2015-10-28",
          "2015-10-29",
          "2015-10-30",
          "2015-11-02",
          "2015-11-03",
          "2015-11-04",
          "2015-11-05",
          "2015-11-06",
          "2015-11-09",
          "2015-11-10",
          "2015-11-11",
          "2015-11-12",
          "2015-11-13",
          "2015-11-16",
          "2015-11-17",
          "2015-11-18",
          "2015-11-19",
          "2015-11-20",
          "2015-11-23",
          "2015-11-24",
          "2015-11-25",
          "2015-11-27",
          "2015-11-30",
          "2015-12-01",
          "2015-12-02",
          "2015-12-03",
          "2015-12-04",
          "2015-12-07",
          "2015-12-08",
          "2015-12-09",
          "2015-12-10",
          "2015-12-11",
          "2015-12-14",
          "2015-12-15",
          "2015-12-16",
          "2015-12-17",
          "2015-12-18",
          "2015-12-21",
          "2015-12-22",
          "2015-12-23",
          "2015-12-24",
          "2015-12-28",
          "2015-12-29",
          "2015-12-30",
          "2015-12-31"
         ],
         "y": [
          "",
          "",
          "",
          "",
          "",
          "",
          "",
          "",
          "",
          "",
          "",
          "",
          "",
          13.07159674446048,
          13.10460505813618,
          13.12239723106087,
          13.076144399461155,
          12.988966122537418,
          13.067332429454826,
          13.10388572547306,
          13.19175580448147,
          13.285010965712157,
          13.310526104184206,
          13.350586072511435,
          13.284070425976141,
          13.315512892553732,
          13.335368544702591,
          13.31863244145388,
          13.288350440707893,
          13.275841118220022,
          13.30506715451847,
          13.466658727763638,
          13.587612975500466,
          13.85030721043258,
          14.042599196880255,
          14.123391966999591,
          14.267462055645362,
          14.29257028378095,
          14.149240627633757,
          14.098135034166614,
          14.057815249904037,
          13.99048536593993,
          13.988800385727965,
          14.011747692441656,
          14.049939190014483,
          13.996841059029116,
          13.990318822067655,
          13.997509013783542,
          13.996723338944069,
          14.012056096342882,
          14.064156348720374,
          14.063379866942892,
          14.008664406201184,
          13.991102055267506,
          13.947642970855684,
          13.894069275384052,
          13.775308031860503,
          13.697926593993945,
          13.606240163871645,
          13.572382371709478,
          13.519652045601525,
          13.487501385546876,
          13.493877596047076,
          13.521873979454707,
          13.5648673066148,
          13.62072098762081,
          13.614819853340094,
          13.635972788199734,
          13.622659933142565,
          13.602741759541912,
          13.622829712304865,
          13.63639107551077,
          13.688944939254094,
          13.695199573654312,
          13.720913006386223,
          13.76100857372532,
          13.775795172736743,
          13.796591730985604,
          13.82247608458462,
          13.82727016558076,
          13.79075888588868,
          13.777139776356812,
          13.733938990676682,
          13.626785391079634,
          13.603680593276673,
          13.591377072765432,
          13.629707546450904,
          13.66011005896526,
          13.727069105118623,
          13.765333021953252,
          13.827349932502745,
          13.919197420972633,
          14.076209282975466,
          14.244287134617716,
          14.28248745822293,
          14.37887312705261,
          14.439243745558182,
          14.434044662478428,
          14.4542128553614,
          14.489292599422393,
          14.557697254208334,
          14.5662415036519,
          14.574149120144988,
          14.599404258166473,
          14.585975779284718,
          14.6010089966423,
          14.594769629695271,
          14.60704210241991,
          14.553785363931848,
          14.47235125545986,
          14.455017151424444,
          14.456575743404242,
          14.529086733235436,
          14.564119719201152,
          14.640356284272892,
          14.78526846055827,
          14.938467704347365,
          15.074189905980013,
          15.134560247695166,
          15.300313784382551,
          15.332841864177968,
          15.415144791055198,
          15.267059810688735,
          15.195685844635731,
          15.17633573241243,
          15.123933019571327,
          15.059433642231038,
          14.943188014939889,
          14.695734703167528,
          14.580627847023477,
          14.530724088183847,
          14.535028017040377,
          14.580956704575463,
          14.550099070759957,
          14.461171828938085,
          14.36857940665394,
          14.331009331342493,
          14.316423257283681,
          14.257256634237383,
          14.279961252983858,
          14.346135487219383,
          14.471831468883494,
          14.7630114393933,
          15.041580059108515,
          15.317082070294884,
          15.528028666790554,
          15.743289458628968,
          15.771531146803092,
          15.761762311249107,
          15.736922720430835,
          15.705663912884292,
          15.70588943899328,
          15.757444325654495,
          15.69886012428709,
          15.662837265288847,
          15.66767180885547,
          15.659867207755697,
          15.672277832956887,
          15.644148789618232,
          15.28480094543687,
          14.803135438402377,
          14.157471358719702,
          13.69673152403497,
          13.539146458631452,
          13.471359845500137,
          13.436788536017781,
          13.404317498000568,
          13.244928543576673,
          13.194725046603107,
          13.204518778722049,
          13.241962526699885,
          13.39766136047887,
          13.574894913559293,
          13.629536562362711,
          13.629456647488139,
          13.768868655677748,
          13.960619786978647,
          13.958432262430506,
          13.951466294388467,
          13.882169312589923,
          13.862026541335569,
          13.872499301576394,
          13.85428193396041,
          13.798121455127383,
          13.82843063918582,
          13.762959431298446,
          13.673993386737383,
          13.647618782228971,
          13.62406650488419,
          13.572793520152889,
          13.63203348623617,
          13.754148434202804,
          13.767244994522283,
          13.771852399476588,
          13.767041108557779,
          13.76109990768021,
          13.752279604880362,
          13.757975780236212,
          13.67564297377644,
          13.655794437946698,
          13.682797534175124,
          13.67523384140057,
          13.707065124360236,
          13.776641761552904,
          13.738834125493096,
          13.734675018439782,
          13.754336024668971,
          13.62685595553949,
          13.657221585214616,
          13.780301372995684,
          13.915513766091415,
          14.047946269369215,
          14.092341266328072,
          14.142533381482005,
          14.114124280271627,
          14.181287480908285,
          14.360458850698002,
          14.527900815110021,
          14.643589627787684,
          14.773286255535673,
          14.987820169686655,
          14.997287308317695,
          15.022986362688224,
          15.162000119751113,
          15.239705456144781,
          15.288247112933913,
          15.399391461583216,
          15.424555660976713,
          15.44073182885999,
          15.426893982820904,
          15.432909116360777,
          15.439003036258958,
          15.43492050872876,
          15.48770940731247,
          15.506345768760891,
          15.460442295248294,
          15.390680887285129,
          15.35234528716937,
          15.17488556832652,
          15.063298160503203,
          15.063268625594018,
          15.051836485238512,
          15.043907562989077,
          14.941360638430186,
          14.917427940099401,
          14.90831868220663,
          14.90917567033202,
          14.9536431053599,
          14.962019136984093,
          14.96385995476811,
          14.959113391988517,
          14.91354802756009
         ]
        }
       ],
       "layout": {
        "legend": {
         "bgcolor": "#F5F6F9",
         "font": {
          "color": "#4D5663"
         }
        },
        "paper_bgcolor": "#F5F6F9",
        "plot_bgcolor": "#F5F6F9",
        "template": {
         "data": {
          "bar": [
           {
            "error_x": {
             "color": "#2a3f5f"
            },
            "error_y": {
             "color": "#2a3f5f"
            },
            "marker": {
             "line": {
              "color": "#E5ECF6",
              "width": 0.5
             }
            },
            "type": "bar"
           }
          ],
          "barpolar": [
           {
            "marker": {
             "line": {
              "color": "#E5ECF6",
              "width": 0.5
             }
            },
            "type": "barpolar"
           }
          ],
          "carpet": [
           {
            "aaxis": {
             "endlinecolor": "#2a3f5f",
             "gridcolor": "white",
             "linecolor": "white",
             "minorgridcolor": "white",
             "startlinecolor": "#2a3f5f"
            },
            "baxis": {
             "endlinecolor": "#2a3f5f",
             "gridcolor": "white",
             "linecolor": "white",
             "minorgridcolor": "white",
             "startlinecolor": "#2a3f5f"
            },
            "type": "carpet"
           }
          ],
          "choropleth": [
           {
            "colorbar": {
             "outlinewidth": 0,
             "ticks": ""
            },
            "type": "choropleth"
           }
          ],
          "contour": [
           {
            "colorbar": {
             "outlinewidth": 0,
             "ticks": ""
            },
            "colorscale": [
             [
              0,
              "#0d0887"
             ],
             [
              0.1111111111111111,
              "#46039f"
             ],
             [
              0.2222222222222222,
              "#7201a8"
             ],
             [
              0.3333333333333333,
              "#9c179e"
             ],
             [
              0.4444444444444444,
              "#bd3786"
             ],
             [
              0.5555555555555556,
              "#d8576b"
             ],
             [
              0.6666666666666666,
              "#ed7953"
             ],
             [
              0.7777777777777778,
              "#fb9f3a"
             ],
             [
              0.8888888888888888,
              "#fdca26"
             ],
             [
              1,
              "#f0f921"
             ]
            ],
            "type": "contour"
           }
          ],
          "contourcarpet": [
           {
            "colorbar": {
             "outlinewidth": 0,
             "ticks": ""
            },
            "type": "contourcarpet"
           }
          ],
          "heatmap": [
           {
            "colorbar": {
             "outlinewidth": 0,
             "ticks": ""
            },
            "colorscale": [
             [
              0,
              "#0d0887"
             ],
             [
              0.1111111111111111,
              "#46039f"
             ],
             [
              0.2222222222222222,
              "#7201a8"
             ],
             [
              0.3333333333333333,
              "#9c179e"
             ],
             [
              0.4444444444444444,
              "#bd3786"
             ],
             [
              0.5555555555555556,
              "#d8576b"
             ],
             [
              0.6666666666666666,
              "#ed7953"
             ],
             [
              0.7777777777777778,
              "#fb9f3a"
             ],
             [
              0.8888888888888888,
              "#fdca26"
             ],
             [
              1,
              "#f0f921"
             ]
            ],
            "type": "heatmap"
           }
          ],
          "heatmapgl": [
           {
            "colorbar": {
             "outlinewidth": 0,
             "ticks": ""
            },
            "colorscale": [
             [
              0,
              "#0d0887"
             ],
             [
              0.1111111111111111,
              "#46039f"
             ],
             [
              0.2222222222222222,
              "#7201a8"
             ],
             [
              0.3333333333333333,
              "#9c179e"
             ],
             [
              0.4444444444444444,
              "#bd3786"
             ],
             [
              0.5555555555555556,
              "#d8576b"
             ],
             [
              0.6666666666666666,
              "#ed7953"
             ],
             [
              0.7777777777777778,
              "#fb9f3a"
             ],
             [
              0.8888888888888888,
              "#fdca26"
             ],
             [
              1,
              "#f0f921"
             ]
            ],
            "type": "heatmapgl"
           }
          ],
          "histogram": [
           {
            "marker": {
             "colorbar": {
              "outlinewidth": 0,
              "ticks": ""
             }
            },
            "type": "histogram"
           }
          ],
          "histogram2d": [
           {
            "colorbar": {
             "outlinewidth": 0,
             "ticks": ""
            },
            "colorscale": [
             [
              0,
              "#0d0887"
             ],
             [
              0.1111111111111111,
              "#46039f"
             ],
             [
              0.2222222222222222,
              "#7201a8"
             ],
             [
              0.3333333333333333,
              "#9c179e"
             ],
             [
              0.4444444444444444,
              "#bd3786"
             ],
             [
              0.5555555555555556,
              "#d8576b"
             ],
             [
              0.6666666666666666,
              "#ed7953"
             ],
             [
              0.7777777777777778,
              "#fb9f3a"
             ],
             [
              0.8888888888888888,
              "#fdca26"
             ],
             [
              1,
              "#f0f921"
             ]
            ],
            "type": "histogram2d"
           }
          ],
          "histogram2dcontour": [
           {
            "colorbar": {
             "outlinewidth": 0,
             "ticks": ""
            },
            "colorscale": [
             [
              0,
              "#0d0887"
             ],
             [
              0.1111111111111111,
              "#46039f"
             ],
             [
              0.2222222222222222,
              "#7201a8"
             ],
             [
              0.3333333333333333,
              "#9c179e"
             ],
             [
              0.4444444444444444,
              "#bd3786"
             ],
             [
              0.5555555555555556,
              "#d8576b"
             ],
             [
              0.6666666666666666,
              "#ed7953"
             ],
             [
              0.7777777777777778,
              "#fb9f3a"
             ],
             [
              0.8888888888888888,
              "#fdca26"
             ],
             [
              1,
              "#f0f921"
             ]
            ],
            "type": "histogram2dcontour"
           }
          ],
          "mesh3d": [
           {
            "colorbar": {
             "outlinewidth": 0,
             "ticks": ""
            },
            "type": "mesh3d"
           }
          ],
          "parcoords": [
           {
            "line": {
             "colorbar": {
              "outlinewidth": 0,
              "ticks": ""
             }
            },
            "type": "parcoords"
           }
          ],
          "pie": [
           {
            "automargin": true,
            "type": "pie"
           }
          ],
          "scatter": [
           {
            "marker": {
             "colorbar": {
              "outlinewidth": 0,
              "ticks": ""
             }
            },
            "type": "scatter"
           }
          ],
          "scatter3d": [
           {
            "line": {
             "colorbar": {
              "outlinewidth": 0,
              "ticks": ""
             }
            },
            "marker": {
             "colorbar": {
              "outlinewidth": 0,
              "ticks": ""
             }
            },
            "type": "scatter3d"
           }
          ],
          "scattercarpet": [
           {
            "marker": {
             "colorbar": {
              "outlinewidth": 0,
              "ticks": ""
             }
            },
            "type": "scattercarpet"
           }
          ],
          "scattergeo": [
           {
            "marker": {
             "colorbar": {
              "outlinewidth": 0,
              "ticks": ""
             }
            },
            "type": "scattergeo"
           }
          ],
          "scattergl": [
           {
            "marker": {
             "colorbar": {
              "outlinewidth": 0,
              "ticks": ""
             }
            },
            "type": "scattergl"
           }
          ],
          "scattermapbox": [
           {
            "marker": {
             "colorbar": {
              "outlinewidth": 0,
              "ticks": ""
             }
            },
            "type": "scattermapbox"
           }
          ],
          "scatterpolar": [
           {
            "marker": {
             "colorbar": {
              "outlinewidth": 0,
              "ticks": ""
             }
            },
            "type": "scatterpolar"
           }
          ],
          "scatterpolargl": [
           {
            "marker": {
             "colorbar": {
              "outlinewidth": 0,
              "ticks": ""
             }
            },
            "type": "scatterpolargl"
           }
          ],
          "scatterternary": [
           {
            "marker": {
             "colorbar": {
              "outlinewidth": 0,
              "ticks": ""
             }
            },
            "type": "scatterternary"
           }
          ],
          "surface": [
           {
            "colorbar": {
             "outlinewidth": 0,
             "ticks": ""
            },
            "colorscale": [
             [
              0,
              "#0d0887"
             ],
             [
              0.1111111111111111,
              "#46039f"
             ],
             [
              0.2222222222222222,
              "#7201a8"
             ],
             [
              0.3333333333333333,
              "#9c179e"
             ],
             [
              0.4444444444444444,
              "#bd3786"
             ],
             [
              0.5555555555555556,
              "#d8576b"
             ],
             [
              0.6666666666666666,
              "#ed7953"
             ],
             [
              0.7777777777777778,
              "#fb9f3a"
             ],
             [
              0.8888888888888888,
              "#fdca26"
             ],
             [
              1,
              "#f0f921"
             ]
            ],
            "type": "surface"
           }
          ],
          "table": [
           {
            "cells": {
             "fill": {
              "color": "#EBF0F8"
             },
             "line": {
              "color": "white"
             }
            },
            "header": {
             "fill": {
              "color": "#C8D4E3"
             },
             "line": {
              "color": "white"
             }
            },
            "type": "table"
           }
          ]
         },
         "layout": {
          "annotationdefaults": {
           "arrowcolor": "#2a3f5f",
           "arrowhead": 0,
           "arrowwidth": 1
          },
          "autotypenumbers": "strict",
          "coloraxis": {
           "colorbar": {
            "outlinewidth": 0,
            "ticks": ""
           }
          },
          "colorscale": {
           "diverging": [
            [
             0,
             "#8e0152"
            ],
            [
             0.1,
             "#c51b7d"
            ],
            [
             0.2,
             "#de77ae"
            ],
            [
             0.3,
             "#f1b6da"
            ],
            [
             0.4,
             "#fde0ef"
            ],
            [
             0.5,
             "#f7f7f7"
            ],
            [
             0.6,
             "#e6f5d0"
            ],
            [
             0.7,
             "#b8e186"
            ],
            [
             0.8,
             "#7fbc41"
            ],
            [
             0.9,
             "#4d9221"
            ],
            [
             1,
             "#276419"
            ]
           ],
           "sequential": [
            [
             0,
             "#0d0887"
            ],
            [
             0.1111111111111111,
             "#46039f"
            ],
            [
             0.2222222222222222,
             "#7201a8"
            ],
            [
             0.3333333333333333,
             "#9c179e"
            ],
            [
             0.4444444444444444,
             "#bd3786"
            ],
            [
             0.5555555555555556,
             "#d8576b"
            ],
            [
             0.6666666666666666,
             "#ed7953"
            ],
            [
             0.7777777777777778,
             "#fb9f3a"
            ],
            [
             0.8888888888888888,
             "#fdca26"
            ],
            [
             1,
             "#f0f921"
            ]
           ],
           "sequentialminus": [
            [
             0,
             "#0d0887"
            ],
            [
             0.1111111111111111,
             "#46039f"
            ],
            [
             0.2222222222222222,
             "#7201a8"
            ],
            [
             0.3333333333333333,
             "#9c179e"
            ],
            [
             0.4444444444444444,
             "#bd3786"
            ],
            [
             0.5555555555555556,
             "#d8576b"
            ],
            [
             0.6666666666666666,
             "#ed7953"
            ],
            [
             0.7777777777777778,
             "#fb9f3a"
            ],
            [
             0.8888888888888888,
             "#fdca26"
            ],
            [
             1,
             "#f0f921"
            ]
           ]
          },
          "colorway": [
           "#636efa",
           "#EF553B",
           "#00cc96",
           "#ab63fa",
           "#FFA15A",
           "#19d3f3",
           "#FF6692",
           "#B6E880",
           "#FF97FF",
           "#FECB52"
          ],
          "font": {
           "color": "#2a3f5f"
          },
          "geo": {
           "bgcolor": "white",
           "lakecolor": "white",
           "landcolor": "#E5ECF6",
           "showlakes": true,
           "showland": true,
           "subunitcolor": "white"
          },
          "hoverlabel": {
           "align": "left"
          },
          "hovermode": "closest",
          "mapbox": {
           "style": "light"
          },
          "paper_bgcolor": "white",
          "plot_bgcolor": "#E5ECF6",
          "polar": {
           "angularaxis": {
            "gridcolor": "white",
            "linecolor": "white",
            "ticks": ""
           },
           "bgcolor": "#E5ECF6",
           "radialaxis": {
            "gridcolor": "white",
            "linecolor": "white",
            "ticks": ""
           }
          },
          "scene": {
           "xaxis": {
            "backgroundcolor": "#E5ECF6",
            "gridcolor": "white",
            "gridwidth": 2,
            "linecolor": "white",
            "showbackground": true,
            "ticks": "",
            "zerolinecolor": "white"
           },
           "yaxis": {
            "backgroundcolor": "#E5ECF6",
            "gridcolor": "white",
            "gridwidth": 2,
            "linecolor": "white",
            "showbackground": true,
            "ticks": "",
            "zerolinecolor": "white"
           },
           "zaxis": {
            "backgroundcolor": "#E5ECF6",
            "gridcolor": "white",
            "gridwidth": 2,
            "linecolor": "white",
            "showbackground": true,
            "ticks": "",
            "zerolinecolor": "white"
           }
          },
          "shapedefaults": {
           "line": {
            "color": "#2a3f5f"
           }
          },
          "ternary": {
           "aaxis": {
            "gridcolor": "white",
            "linecolor": "white",
            "ticks": ""
           },
           "baxis": {
            "gridcolor": "white",
            "linecolor": "white",
            "ticks": ""
           },
           "bgcolor": "#E5ECF6",
           "caxis": {
            "gridcolor": "white",
            "linecolor": "white",
            "ticks": ""
           }
          },
          "title": {
           "x": 0.05
          },
          "xaxis": {
           "automargin": true,
           "gridcolor": "white",
           "linecolor": "white",
           "ticks": "",
           "title": {
            "standoff": 15
           },
           "zerolinecolor": "white",
           "zerolinewidth": 2
          },
          "yaxis": {
           "automargin": true,
           "gridcolor": "white",
           "linecolor": "white",
           "ticks": "",
           "title": {
            "standoff": 15
           },
           "zerolinecolor": "white",
           "zerolinewidth": 2
          }
         }
        },
        "title": {
         "font": {
          "color": "#4D5663"
         }
        },
        "xaxis": {
         "gridcolor": "#E1E5ED",
         "showgrid": true,
         "tickfont": {
          "color": "#4D5663"
         },
         "title": {
          "font": {
           "color": "#4D5663"
          },
          "text": ""
         },
         "zerolinecolor": "#E1E5ED"
        },
        "yaxis": {
         "gridcolor": "#E1E5ED",
         "showgrid": true,
         "tickfont": {
          "color": "#4D5663"
         },
         "title": {
          "font": {
           "color": "#4D5663"
          },
          "text": ""
         },
         "zerolinecolor": "#E1E5ED"
        }
       }
      },
      "text/html": [
       "<div>                            <div id=\"fb3380c7-d91a-4572-bfb3-e12ebd7976be\" class=\"plotly-graph-div\" style=\"height:525px; width:100%;\"></div>            <script type=\"text/javascript\">                require([\"plotly\"], function(Plotly) {                    window.PLOTLYENV=window.PLOTLYENV || {};\n",
       "                    window.PLOTLYENV.BASE_URL='https://plot.ly';                                    if (document.getElementById(\"fb3380c7-d91a-4572-bfb3-e12ebd7976be\")) {                    Plotly.newPlot(                        \"fb3380c7-d91a-4572-bfb3-e12ebd7976be\",                        [{\"line\": {\"color\": \"rgba(255, 153, 51, 1.0)\", \"dash\": \"solid\", \"shape\": \"linear\", \"width\": 1.3}, \"mode\": \"lines\", \"name\": \"Close\", \"text\": \"\", \"type\": \"scatter\", \"x\": [\"2015-01-02\", \"2015-01-05\", \"2015-01-06\", \"2015-01-07\", \"2015-01-08\", \"2015-01-09\", \"2015-01-12\", \"2015-01-13\", \"2015-01-14\", \"2015-01-15\", \"2015-01-16\", \"2015-01-20\", \"2015-01-21\", \"2015-01-22\", \"2015-01-23\", \"2015-01-26\", \"2015-01-27\", \"2015-01-28\", \"2015-01-29\", \"2015-01-30\", \"2015-02-02\", \"2015-02-03\", \"2015-02-04\", \"2015-02-05\", \"2015-02-06\", \"2015-02-09\", \"2015-02-10\", \"2015-02-11\", \"2015-02-12\", \"2015-02-13\", \"2015-02-17\", \"2015-02-18\", \"2015-02-19\", \"2015-02-20\", \"2015-02-23\", \"2015-02-24\", \"2015-02-25\", \"2015-02-26\", \"2015-02-27\", \"2015-03-02\", \"2015-03-03\", \"2015-03-04\", \"2015-03-05\", \"2015-03-06\", \"2015-03-09\", \"2015-03-10\", \"2015-03-11\", \"2015-03-12\", \"2015-03-13\", \"2015-03-16\", \"2015-03-17\", \"2015-03-18\", \"2015-03-19\", \"2015-03-20\", \"2015-03-23\", \"2015-03-24\", \"2015-03-25\", \"2015-03-26\", \"2015-03-27\", \"2015-03-30\", \"2015-03-31\", \"2015-04-01\", \"2015-04-02\", \"2015-04-06\", \"2015-04-07\", \"2015-04-08\", \"2015-04-09\", \"2015-04-10\", \"2015-04-13\", \"2015-04-14\", \"2015-04-15\", \"2015-04-16\", \"2015-04-17\", \"2015-04-20\", \"2015-04-21\", \"2015-04-22\", \"2015-04-23\", \"2015-04-24\", \"2015-04-27\", \"2015-04-28\", \"2015-04-29\", \"2015-04-30\", \"2015-05-01\", \"2015-05-04\", \"2015-05-05\", \"2015-05-06\", \"2015-05-07\", \"2015-05-08\", \"2015-05-11\", \"2015-05-12\", \"2015-05-13\", \"2015-05-14\", \"2015-05-15\", \"2015-05-18\", \"2015-05-19\", \"2015-05-20\", \"2015-05-21\", \"2015-05-22\", \"2015-05-26\", \"2015-05-27\", \"2015-05-28\", \"2015-05-29\", \"2015-06-01\", \"2015-06-02\", \"2015-06-03\", \"2015-06-04\", \"2015-06-05\", \"2015-06-08\", \"2015-06-09\", \"2015-06-10\", \"2015-06-11\", \"2015-06-12\", \"2015-06-15\", \"2015-06-16\", \"2015-06-17\", \"2015-06-18\", \"2015-06-19\", \"2015-06-22\", \"2015-06-23\", \"2015-06-24\", \"2015-06-25\", \"2015-06-26\", \"2015-06-29\", \"2015-06-30\", \"2015-07-01\", \"2015-07-02\", \"2015-07-06\", \"2015-07-07\", \"2015-07-08\", \"2015-07-09\", \"2015-07-10\", \"2015-07-13\", \"2015-07-14\", \"2015-07-15\", \"2015-07-16\", \"2015-07-17\", \"2015-07-20\", \"2015-07-21\", \"2015-07-22\", \"2015-07-23\", \"2015-07-24\", \"2015-07-27\", \"2015-07-28\", \"2015-07-29\", \"2015-07-30\", \"2015-07-31\", \"2015-08-03\", \"2015-08-04\", \"2015-08-05\", \"2015-08-06\", \"2015-08-07\", \"2015-08-10\", \"2015-08-11\", \"2015-08-12\", \"2015-08-13\", \"2015-08-14\", \"2015-08-17\", \"2015-08-18\", \"2015-08-19\", \"2015-08-20\", \"2015-08-21\", \"2015-08-24\", \"2015-08-25\", \"2015-08-26\", \"2015-08-27\", \"2015-08-28\", \"2015-08-31\", \"2015-09-01\", \"2015-09-02\", \"2015-09-03\", \"2015-09-04\", \"2015-09-08\", \"2015-09-09\", \"2015-09-10\", \"2015-09-11\", \"2015-09-14\", \"2015-09-15\", \"2015-09-16\", \"2015-09-17\", \"2015-09-18\", \"2015-09-21\", \"2015-09-22\", \"2015-09-23\", \"2015-09-24\", \"2015-09-25\", \"2015-09-28\", \"2015-09-29\", \"2015-09-30\", \"2015-10-01\", \"2015-10-02\", \"2015-10-05\", \"2015-10-06\", \"2015-10-07\", \"2015-10-08\", \"2015-10-09\", \"2015-10-12\", \"2015-10-13\", \"2015-10-14\", \"2015-10-15\", \"2015-10-16\", \"2015-10-19\", \"2015-10-20\", \"2015-10-21\", \"2015-10-22\", \"2015-10-23\", \"2015-10-26\", \"2015-10-27\", \"2015-10-28\", \"2015-10-29\", \"2015-10-30\", \"2015-11-02\", \"2015-11-03\", \"2015-11-04\", \"2015-11-05\", \"2015-11-06\", \"2015-11-09\", \"2015-11-10\", \"2015-11-11\", \"2015-11-12\", \"2015-11-13\", \"2015-11-16\", \"2015-11-17\", \"2015-11-18\", \"2015-11-19\", \"2015-11-20\", \"2015-11-23\", \"2015-11-24\", \"2015-11-25\", \"2015-11-27\", \"2015-11-30\", \"2015-12-01\", \"2015-12-02\", \"2015-12-03\", \"2015-12-04\", \"2015-12-07\", \"2015-12-08\", \"2015-12-09\", \"2015-12-10\", \"2015-12-11\", \"2015-12-14\", \"2015-12-15\", \"2015-12-16\", \"2015-12-17\", \"2015-12-18\", \"2015-12-21\", \"2015-12-22\", \"2015-12-23\", \"2015-12-24\", \"2015-12-28\", \"2015-12-29\", \"2015-12-30\", \"2015-12-31\"], \"y\": [15.949, 15.488, 15.018, 15.094, 15.403, 15.129, 14.859, 14.655, 14.291, 13.544, 13.701, 13.595, 13.729, 14.333, 14.014, 14.122, 13.925, 13.544, 13.746, 13.498, 13.775, 14.155, 14.069, 14.228, 14.692, 14.569, 14.628, 14.576, 14.851, 14.799, 14.816, 14.522, 14.442, 14.595, 14.434, 14.595, 14.692, 14.291, 14.087, 14.266, 14.291, 14.155, 14.299, 14.495, 14.45, 14.113, 14.328, 14.352, 14.382, 14.415, 14.382, 14.283, 13.95, 14.155, 14.05, 13.95, 13.773, 13.783, 13.681, 13.87, 13.754, 13.773, 13.889, 13.862, 13.818, 13.95, 14.04, 14.05, 14.121, 14.138, 13.978, 14.113, 13.906, 13.915, 13.853, 14.068, 14.021, 13.978, 13.906, 13.986, 14.283, 14.238, 14.399, 14.693, 14.611, 14.56, 14.515, 14.701, 14.738, 14.684, 14.719, 14.765, 14.611, 14.756, 14.989, 14.961, 14.952, 14.971, 14.747, 14.961, 14.899, 14.747, 14.794, 14.944, 15.177, 15.04, 15.407, 15.309, 15.517, 15.769, 15.679, 15.679, 15.663, 15.73, 15.57, 15.577, 15.393, 15.663, 15.84, 15.679, 15.57, 15.604, 15.14, 15.257, 15.434, 15.265, 15.185, 14.961, 14.569, 14.773, 14.971, 15.257, 15.355, 15.848, 16.09, 16.223, 16.242, 16.206, 16.538, 16.296, 16.046, 15.84, 16.029, 16.277, 16.252, 16.029, 15.929, 15.956, 16.02, 15.966, 15.91, 16.172, 15.948, 15.704, 15.797, 15.864, 15.929, 15.855, 15.653, 14.989, 14.433, 13.705, 13.679, 14.397, 14.737, 14.664, 14.645, 13.966, 14.257, 14.332, 14.075, 14.534, 14.298, 14.425, 14.425, 14.351, 14.666, 14.686, 14.265, 13.992, 14.119, 14.001, 14.136, 13.984, 14.29, 13.912, 13.806, 14.01, 13.984, 13.831, 14.112, 14.112, 14.162, 14.162, 14.01, 13.957, 13.957, 14.065, 14.561, 14.496, 14.516, 14.571, 14.298, 14.534, 14.856, 14.846, 14.749, 15.54, 15.369, 15.091, 15.343, 15.449, 15.297, 15.566, 16.142, 15.897, 16.052, 15.963, 15.619, 15.469, 15.676, 15.667, 16.044, 15.907, 15.87, 15.709, 15.709, 15.683, 15.719, 15.676, 16.017, 15.887, 15.6, 16.052, 15.82, 15.504, 15.419, 15.513, 15.088, 15.15, 15.708, 16.008, 15.6, 15.116, 15.304, 15.402, 15.638, 15.574, 15.447, 15.581, 15.377, 15.177]}, {\"line\": {\"color\": \"rgba(55, 128, 191, 1.0)\", \"dash\": \"solid\", \"shape\": \"linear\", \"width\": 1.3}, \"mode\": \"lines\", \"name\": \"SMA(14)\", \"text\": \"\", \"type\": \"scatter\", \"x\": [\"2015-01-02\", \"2015-01-05\", \"2015-01-06\", \"2015-01-07\", \"2015-01-08\", \"2015-01-09\", \"2015-01-12\", \"2015-01-13\", \"2015-01-14\", \"2015-01-15\", \"2015-01-16\", \"2015-01-20\", \"2015-01-21\", \"2015-01-22\", \"2015-01-23\", \"2015-01-26\", \"2015-01-27\", \"2015-01-28\", \"2015-01-29\", \"2015-01-30\", \"2015-02-02\", \"2015-02-03\", \"2015-02-04\", \"2015-02-05\", \"2015-02-06\", \"2015-02-09\", \"2015-02-10\", \"2015-02-11\", \"2015-02-12\", \"2015-02-13\", \"2015-02-17\", \"2015-02-18\", \"2015-02-19\", \"2015-02-20\", \"2015-02-23\", \"2015-02-24\", \"2015-02-25\", \"2015-02-26\", \"2015-02-27\", \"2015-03-02\", \"2015-03-03\", \"2015-03-04\", \"2015-03-05\", \"2015-03-06\", \"2015-03-09\", \"2015-03-10\", \"2015-03-11\", \"2015-03-12\", \"2015-03-13\", \"2015-03-16\", \"2015-03-17\", \"2015-03-18\", \"2015-03-19\", \"2015-03-20\", \"2015-03-23\", \"2015-03-24\", \"2015-03-25\", \"2015-03-26\", \"2015-03-27\", \"2015-03-30\", \"2015-03-31\", \"2015-04-01\", \"2015-04-02\", \"2015-04-06\", \"2015-04-07\", \"2015-04-08\", \"2015-04-09\", \"2015-04-10\", \"2015-04-13\", \"2015-04-14\", \"2015-04-15\", \"2015-04-16\", \"2015-04-17\", \"2015-04-20\", \"2015-04-21\", \"2015-04-22\", \"2015-04-23\", \"2015-04-24\", \"2015-04-27\", \"2015-04-28\", \"2015-04-29\", \"2015-04-30\", \"2015-05-01\", \"2015-05-04\", \"2015-05-05\", \"2015-05-06\", \"2015-05-07\", \"2015-05-08\", \"2015-05-11\", \"2015-05-12\", \"2015-05-13\", \"2015-05-14\", \"2015-05-15\", \"2015-05-18\", \"2015-05-19\", \"2015-05-20\", \"2015-05-21\", \"2015-05-22\", \"2015-05-26\", \"2015-05-27\", \"2015-05-28\", \"2015-05-29\", \"2015-06-01\", \"2015-06-02\", \"2015-06-03\", \"2015-06-04\", \"2015-06-05\", \"2015-06-08\", \"2015-06-09\", \"2015-06-10\", \"2015-06-11\", \"2015-06-12\", \"2015-06-15\", \"2015-06-16\", \"2015-06-17\", \"2015-06-18\", \"2015-06-19\", \"2015-06-22\", \"2015-06-23\", \"2015-06-24\", \"2015-06-25\", \"2015-06-26\", \"2015-06-29\", \"2015-06-30\", \"2015-07-01\", \"2015-07-02\", \"2015-07-06\", \"2015-07-07\", \"2015-07-08\", \"2015-07-09\", \"2015-07-10\", \"2015-07-13\", \"2015-07-14\", \"2015-07-15\", \"2015-07-16\", \"2015-07-17\", \"2015-07-20\", \"2015-07-21\", \"2015-07-22\", \"2015-07-23\", \"2015-07-24\", \"2015-07-27\", \"2015-07-28\", \"2015-07-29\", \"2015-07-30\", \"2015-07-31\", \"2015-08-03\", \"2015-08-04\", \"2015-08-05\", \"2015-08-06\", \"2015-08-07\", \"2015-08-10\", \"2015-08-11\", \"2015-08-12\", \"2015-08-13\", \"2015-08-14\", \"2015-08-17\", \"2015-08-18\", \"2015-08-19\", \"2015-08-20\", \"2015-08-21\", \"2015-08-24\", \"2015-08-25\", \"2015-08-26\", \"2015-08-27\", \"2015-08-28\", \"2015-08-31\", \"2015-09-01\", \"2015-09-02\", \"2015-09-03\", \"2015-09-04\", \"2015-09-08\", \"2015-09-09\", \"2015-09-10\", \"2015-09-11\", \"2015-09-14\", \"2015-09-15\", \"2015-09-16\", \"2015-09-17\", \"2015-09-18\", \"2015-09-21\", \"2015-09-22\", \"2015-09-23\", \"2015-09-24\", \"2015-09-25\", \"2015-09-28\", \"2015-09-29\", \"2015-09-30\", \"2015-10-01\", \"2015-10-02\", \"2015-10-05\", \"2015-10-06\", \"2015-10-07\", \"2015-10-08\", \"2015-10-09\", \"2015-10-12\", \"2015-10-13\", \"2015-10-14\", \"2015-10-15\", \"2015-10-16\", \"2015-10-19\", \"2015-10-20\", \"2015-10-21\", \"2015-10-22\", \"2015-10-23\", \"2015-10-26\", \"2015-10-27\", \"2015-10-28\", \"2015-10-29\", \"2015-10-30\", \"2015-11-02\", \"2015-11-03\", \"2015-11-04\", \"2015-11-05\", \"2015-11-06\", \"2015-11-09\", \"2015-11-10\", \"2015-11-11\", \"2015-11-12\", \"2015-11-13\", \"2015-11-16\", \"2015-11-17\", \"2015-11-18\", \"2015-11-19\", \"2015-11-20\", \"2015-11-23\", \"2015-11-24\", \"2015-11-25\", \"2015-11-27\", \"2015-11-30\", \"2015-12-01\", \"2015-12-02\", \"2015-12-03\", \"2015-12-04\", \"2015-12-07\", \"2015-12-08\", \"2015-12-09\", \"2015-12-10\", \"2015-12-11\", \"2015-12-14\", \"2015-12-15\", \"2015-12-16\", \"2015-12-17\", \"2015-12-18\", \"2015-12-21\", \"2015-12-22\", \"2015-12-23\", \"2015-12-24\", \"2015-12-28\", \"2015-12-29\", \"2015-12-30\", \"2015-12-31\"], \"y\": [\"\", \"\", \"\", \"\", \"\", \"\", \"\", \"\", \"\", \"\", \"\", \"\", \"\", 14.627714285714287, 14.489499999999998, 14.39192857142857, 14.313857142857142, 14.203142857142856, 14.084785714285715, 13.968285714285715, 13.890857142857143, 13.855142857142857, 13.839285714285714, 13.888142857142856, 13.958928571428572, 14.0285, 14.092714285714285, 14.110071428571429, 14.169857142857143, 14.218214285714286, 14.281857142857145, 14.351714285714285, 14.401428571428571, 14.479785714285715, 14.526857142857143, 14.558285714285715, 14.602785714285716, 14.607285714285714, 14.564071428571427, 14.542428571428571, 14.518357142857143, 14.488285714285713, 14.448857142857142, 14.427142857142856, 14.400999999999998, 14.371785714285712, 14.363642857142855, 14.346285714285713, 14.342571428571429, 14.329714285714285, 14.307571428571427, 14.306999999999999, 14.297214285714286, 14.289285714285715, 14.272071428571428, 14.257428571428573, 14.219857142857142, 14.168999999999999, 14.11407142857143, 14.096714285714286, 14.055714285714286, 14.014357142857142, 13.979142857142858, 13.939642857142857, 13.899357142857143, 13.87557142857143, 13.882, 13.8745, 13.879571428571428, 13.892999999999999, 13.907642857142857, 13.931214285714287, 13.947285714285714, 13.9505, 13.957571428571429, 13.978642857142857, 13.988071428571429, 13.996357142857141, 14.002642857142856, 14.005214285714287, 14.022571428571428, 14.036, 14.055857142857144, 14.095500000000001, 14.140714285714285, 14.172642857142858, 14.216142857142856, 14.272285714285715, 14.3355, 14.379500000000002, 14.429357142857143, 14.48557142857143, 14.535928571428572, 14.590928571428572, 14.641357142857144, 14.693, 14.7325, 14.752357142857141, 14.76207142857143, 14.790714285714285, 14.818142857142858, 14.821428571428571, 14.82542857142857, 14.844, 14.876714285714286, 14.896357142857143, 14.953214285714285, 14.992714285714285, 15.03042857142857, 15.088142857142858, 15.14007142857143, 15.190642857142858, 15.256071428571428, 15.311000000000002, 15.358928571428573, 15.418214285714285, 15.461, 15.512357142857143, 15.559714285714287, 15.605357142857143, 15.617, 15.638071428571427, 15.611142857142857, 15.574571428571428, 15.55707142857143, 15.5275, 15.493357142857144, 15.438428571428572, 15.366928571428572, 15.3095, 15.279357142857142, 15.250357142857142, 15.215714285714286, 15.227785714285716, 15.264928571428571, 15.309142857142858, 15.387857142857143, 15.455642857142857, 15.5345, 15.608142857142857, 15.669642857142858, 15.73242857142857, 15.836714285714285, 15.94414285714286, 16.035642857142857, 16.090785714285712, 16.131785714285716, 16.1395, 16.1345, 16.116142857142858, 16.092428571428574, 16.09, 16.047857142857143, 16.00557142857143, 15.987785714285716, 15.989500000000001, 15.982357142857143, 15.952214285714286, 15.909428571428572, 15.835142857142857, 15.728285714285716, 15.567499999999999, 15.400285714285715, 15.288214285714286, 15.204428571428574, 15.096714285714286, 15.003642857142859, 14.879499999999998, 14.769499999999999, 14.660071428571428, 14.527642857142856, 14.433285714285715, 14.336500000000001, 14.296214285714287, 14.295642857142855, 14.341785714285715, 14.412285714285714, 14.432928571428572, 14.399214285714288, 14.351214285714287, 14.313642857142856, 14.316142857142859, 14.307500000000001, 14.282642857142859, 14.298, 14.25357142857143, 14.218428571428571, 14.188785714285714, 14.157285714285715, 14.120142857142858, 14.08057142857143, 14.03957142857143, 14.032214285714286, 14.044357142857143, 14.03657142857143, 14.033428571428571, 14.020642857142857, 14.026428571428571, 14.045785714285714, 14.0875, 14.138214285714286, 14.178285714285712, 14.200714285714286, 14.250928571428572, 14.30407142857143, 14.3565, 14.398428571428571, 14.496857142857142, 14.593928571428572, 14.674928571428572, 14.773928571428572, 14.872785714285714, 14.925357142857143, 15.001785714285715, 15.117928571428573, 15.212642857142857, 15.337928571428572, 15.44, 15.4945, 15.539, 15.605214285714284, 15.614285714285714, 15.6625, 15.720785714285714, 15.75842857142857, 15.777, 15.80642857142857, 15.814785714285714, 15.784571428571427, 15.768785714285714, 15.766285714285715, 15.760857142857143, 15.7595, 15.801142857142858, 15.811428571428573, 15.799785714285715, 15.755142857142857, 15.727, 15.671142857142858, 15.631214285714284, 15.631142857142859, 15.654357142857142, 15.645857142857142, 15.605857142857143, 15.554928571428572, 15.520285714285714, 15.523, 15.488857142857142, 15.462214285714285, 15.467714285714285, 15.464714285714285, 15.440714285714284]}, {\"line\": {\"color\": \"rgba(55, 128, 191, 0.8999999999999999)\", \"dash\": \"solid\", \"shape\": \"linear\", \"width\": 1.3}, \"mode\": \"lines\", \"name\": \"UPPER(14)\", \"text\": \"\", \"type\": \"scatter\", \"x\": [\"2015-01-02\", \"2015-01-05\", \"2015-01-06\", \"2015-01-07\", \"2015-01-08\", \"2015-01-09\", \"2015-01-12\", \"2015-01-13\", \"2015-01-14\", \"2015-01-15\", \"2015-01-16\", \"2015-01-20\", \"2015-01-21\", \"2015-01-22\", \"2015-01-23\", \"2015-01-26\", \"2015-01-27\", \"2015-01-28\", \"2015-01-29\", \"2015-01-30\", \"2015-02-02\", \"2015-02-03\", \"2015-02-04\", \"2015-02-05\", \"2015-02-06\", \"2015-02-09\", \"2015-02-10\", \"2015-02-11\", \"2015-02-12\", \"2015-02-13\", \"2015-02-17\", \"2015-02-18\", \"2015-02-19\", \"2015-02-20\", \"2015-02-23\", \"2015-02-24\", \"2015-02-25\", \"2015-02-26\", \"2015-02-27\", \"2015-03-02\", \"2015-03-03\", \"2015-03-04\", \"2015-03-05\", \"2015-03-06\", \"2015-03-09\", \"2015-03-10\", \"2015-03-11\", \"2015-03-12\", \"2015-03-13\", \"2015-03-16\", \"2015-03-17\", \"2015-03-18\", \"2015-03-19\", \"2015-03-20\", \"2015-03-23\", \"2015-03-24\", \"2015-03-25\", \"2015-03-26\", \"2015-03-27\", \"2015-03-30\", \"2015-03-31\", \"2015-04-01\", \"2015-04-02\", \"2015-04-06\", \"2015-04-07\", \"2015-04-08\", \"2015-04-09\", \"2015-04-10\", \"2015-04-13\", \"2015-04-14\", \"2015-04-15\", \"2015-04-16\", \"2015-04-17\", \"2015-04-20\", \"2015-04-21\", \"2015-04-22\", \"2015-04-23\", \"2015-04-24\", \"2015-04-27\", \"2015-04-28\", \"2015-04-29\", \"2015-04-30\", \"2015-05-01\", \"2015-05-04\", \"2015-05-05\", \"2015-05-06\", \"2015-05-07\", \"2015-05-08\", \"2015-05-11\", \"2015-05-12\", \"2015-05-13\", \"2015-05-14\", \"2015-05-15\", \"2015-05-18\", \"2015-05-19\", \"2015-05-20\", \"2015-05-21\", \"2015-05-22\", \"2015-05-26\", \"2015-05-27\", \"2015-05-28\", \"2015-05-29\", \"2015-06-01\", \"2015-06-02\", \"2015-06-03\", \"2015-06-04\", \"2015-06-05\", \"2015-06-08\", \"2015-06-09\", \"2015-06-10\", \"2015-06-11\", \"2015-06-12\", \"2015-06-15\", \"2015-06-16\", \"2015-06-17\", \"2015-06-18\", \"2015-06-19\", \"2015-06-22\", \"2015-06-23\", \"2015-06-24\", \"2015-06-25\", \"2015-06-26\", \"2015-06-29\", \"2015-06-30\", \"2015-07-01\", \"2015-07-02\", \"2015-07-06\", \"2015-07-07\", \"2015-07-08\", \"2015-07-09\", \"2015-07-10\", \"2015-07-13\", \"2015-07-14\", \"2015-07-15\", \"2015-07-16\", \"2015-07-17\", \"2015-07-20\", \"2015-07-21\", \"2015-07-22\", \"2015-07-23\", \"2015-07-24\", \"2015-07-27\", \"2015-07-28\", \"2015-07-29\", \"2015-07-30\", \"2015-07-31\", \"2015-08-03\", \"2015-08-04\", \"2015-08-05\", \"2015-08-06\", \"2015-08-07\", \"2015-08-10\", \"2015-08-11\", \"2015-08-12\", \"2015-08-13\", \"2015-08-14\", \"2015-08-17\", \"2015-08-18\", \"2015-08-19\", \"2015-08-20\", \"2015-08-21\", \"2015-08-24\", \"2015-08-25\", \"2015-08-26\", \"2015-08-27\", \"2015-08-28\", \"2015-08-31\", \"2015-09-01\", \"2015-09-02\", \"2015-09-03\", \"2015-09-04\", \"2015-09-08\", \"2015-09-09\", \"2015-09-10\", \"2015-09-11\", \"2015-09-14\", \"2015-09-15\", \"2015-09-16\", \"2015-09-17\", \"2015-09-18\", \"2015-09-21\", \"2015-09-22\", \"2015-09-23\", \"2015-09-24\", \"2015-09-25\", \"2015-09-28\", \"2015-09-29\", \"2015-09-30\", \"2015-10-01\", \"2015-10-02\", \"2015-10-05\", \"2015-10-06\", \"2015-10-07\", \"2015-10-08\", \"2015-10-09\", \"2015-10-12\", \"2015-10-13\", \"2015-10-14\", \"2015-10-15\", \"2015-10-16\", \"2015-10-19\", \"2015-10-20\", \"2015-10-21\", \"2015-10-22\", \"2015-10-23\", \"2015-10-26\", \"2015-10-27\", \"2015-10-28\", \"2015-10-29\", \"2015-10-30\", \"2015-11-02\", \"2015-11-03\", \"2015-11-04\", \"2015-11-05\", \"2015-11-06\", \"2015-11-09\", \"2015-11-10\", \"2015-11-11\", \"2015-11-12\", \"2015-11-13\", \"2015-11-16\", \"2015-11-17\", \"2015-11-18\", \"2015-11-19\", \"2015-11-20\", \"2015-11-23\", \"2015-11-24\", \"2015-11-25\", \"2015-11-27\", \"2015-11-30\", \"2015-12-01\", \"2015-12-02\", \"2015-12-03\", \"2015-12-04\", \"2015-12-07\", \"2015-12-08\", \"2015-12-09\", \"2015-12-10\", \"2015-12-11\", \"2015-12-14\", \"2015-12-15\", \"2015-12-16\", \"2015-12-17\", \"2015-12-18\", \"2015-12-21\", \"2015-12-22\", \"2015-12-23\", \"2015-12-24\", \"2015-12-28\", \"2015-12-29\", \"2015-12-30\", \"2015-12-31\"], \"y\": [\"\", \"\", \"\", \"\", \"\", \"\", \"\", \"\", \"\", \"\", \"\", \"\", \"\", 16.183831826968095, 15.874394941863816, 15.661459911796271, 15.551569886253128, 15.417319591748294, 15.102238999116604, 14.83268570309837, 14.589958481232816, 14.425274748573557, 14.368045324387221, 14.425699641774278, 14.633786716881003, 14.741487107446266, 14.850060026725979, 14.901510415688977, 15.051363845006394, 15.16058745320855, 15.25864713119582, 15.236769843664932, 15.215244167356676, 15.109264218138849, 15.01111508883403, 14.993179461571838, 14.93810937292607, 14.922001144790478, 14.978902229509098, 14.986722108690529, 14.97889903581025, 14.986086062631495, 14.908913899986318, 14.842538021844057, 14.752060809985514, 14.746730369542309, 14.736966892218055, 14.695062414787884, 14.688419518198788, 14.647372475085689, 14.55098650842248, 14.550620133057105, 14.585764165227388, 14.587469373303923, 14.596499886287171, 14.620787867473094, 14.664406253853782, 14.640073406006053, 14.621902693271215, 14.621046199719094, 14.591776525827047, 14.541212900167407, 14.464408118238639, 14.357411734831008, 14.233846979099486, 14.13042186952205, 14.149180146659905, 14.113027211800265, 14.13648292400029, 14.183258240458086, 14.19245600198085, 14.226037495917803, 14.205626489317334, 14.205800426345688, 14.194229850756635, 14.196277140560394, 14.200347684406115, 14.196122554728678, 14.182809629701092, 14.183158405847813, 14.254383971254176, 14.294860223643187, 14.377775295037607, 14.564214608920368, 14.677747978151897, 14.753908641520283, 14.802578167834808, 14.88446136960617, 14.943930894881376, 14.993666978046752, 15.03136435321154, 15.051945436170225, 14.995647859881679, 14.937570008239428, 15.000226827491359, 15.007126872947389, 15.025756254441818, 15.070669623235855, 15.06993000178146, 15.092135972006178, 15.078588460077382, 15.076615639205242, 15.076708022712154, 15.088595741833526, 15.167452792143854, 15.191705289071987, 15.311658941733299, 15.37838646900866, 15.507071778925294, 15.703934458825856, 15.825125705718415, 15.924709970881475, 15.983056123907419, 16.05788028079885, 16.077500858584255, 16.051160110870303, 15.983532295652635, 15.950524379734272, 15.984868323733409, 15.910400501331734, 15.901158135822033, 15.860998066087657, 15.955225903596979, 15.953457012507124, 15.93780712473043, 15.931066980428673, 15.92728064348325, 15.933669127917256, 16.038122439689616, 16.038372152976525, 16.027990197530436, 15.965686268673908, 15.850471866853109, 15.905472357811474, 16.068685313919058, 16.249706307631776, 16.444704954371794, 16.594862457002034, 16.811743365762617, 16.936324461301854, 16.99315022706633, 16.993025673973648, 16.91041713203527, 16.846705655177203, 16.75420364399083, 16.65354276178087, 16.520281969942463, 16.50746885319691, 16.50723768875089, 16.49536299385488, 16.479193229972854, 16.474110561006718, 16.338269960059794, 16.312282732855767, 16.312734163282585, 16.311328191144533, 16.30484707795859, 16.232150738471685, 16.174708353238913, 16.385484768848844, 16.653435990169054, 16.977528641280294, 17.10383990453646, 17.03728211279712, 16.937497297357012, 16.756640035410793, 16.602968216285152, 16.514071456423324, 16.34427495339689, 16.115624078420808, 15.813323187585828, 15.46891006809256, 15.09810508644071, 14.962892009065863, 14.961829066797572, 14.914702772893682, 14.86395164159278, 14.907424880426639, 14.84696227704011, 14.82025925883865, 14.765259172950143, 14.759786412709325, 14.760718066039592, 14.767164259158335, 14.76756936081418, 14.744183425844414, 14.76286375611976, 14.729952646342458, 14.69050492368724, 14.667492194132826, 14.52910937090669, 14.324994422940055, 14.297183576906288, 14.316861886237698, 14.30610174858508, 14.305757235176932, 14.289006109405351, 14.29488136262093, 14.415928454794987, 14.519205562053303, 14.593631037253447, 14.681337587170855, 14.694363447068335, 14.72521538130424, 14.869308731649763, 14.978324981560219, 15.042521118188171, 15.366858330174793, 15.530635557642528, 15.56955576986146, 15.632343376765728, 15.697625159202213, 15.758373019386214, 15.861038047089425, 16.121732862585517, 16.24399823337743, 16.31539829215914, 16.35209918488998, 16.345410372212317, 16.304713744464326, 16.222608401741915, 16.231284120253733, 16.302013637311777, 16.279571308820316, 16.277151686712358, 16.265752887066085, 16.213465681273924, 16.205015767594716, 16.128411028282862, 16.110677445750525, 16.099662312210654, 16.08271124945533, 16.084079491271236, 16.114576306973248, 16.116511374096255, 16.139129133323138, 16.119604827000586, 16.10165471283063, 16.167400145959196, 16.199130410925363, 16.199017088691697, 16.256877800475774, 16.24780672272521, 16.2703536472841, 16.192429202757744, 16.1322527463648, 16.136824329667977, 16.024071180354383, 15.962409434444478, 15.971568616660461, 15.970315179440053, 15.967880543868478]}, {\"line\": {\"color\": \"rgba(55, 128, 191, 0.7999999999999998)\", \"dash\": \"solid\", \"shape\": \"linear\", \"width\": 1.3}, \"mode\": \"lines\", \"name\": \"LOWER(14)\", \"text\": \"\", \"type\": \"scatter\", \"x\": [\"2015-01-02\", \"2015-01-05\", \"2015-01-06\", \"2015-01-07\", \"2015-01-08\", \"2015-01-09\", \"2015-01-12\", \"2015-01-13\", \"2015-01-14\", \"2015-01-15\", \"2015-01-16\", \"2015-01-20\", \"2015-01-21\", \"2015-01-22\", \"2015-01-23\", \"2015-01-26\", \"2015-01-27\", \"2015-01-28\", \"2015-01-29\", \"2015-01-30\", \"2015-02-02\", \"2015-02-03\", \"2015-02-04\", \"2015-02-05\", \"2015-02-06\", \"2015-02-09\", \"2015-02-10\", \"2015-02-11\", \"2015-02-12\", \"2015-02-13\", \"2015-02-17\", \"2015-02-18\", \"2015-02-19\", \"2015-02-20\", \"2015-02-23\", \"2015-02-24\", \"2015-02-25\", \"2015-02-26\", \"2015-02-27\", \"2015-03-02\", \"2015-03-03\", \"2015-03-04\", \"2015-03-05\", \"2015-03-06\", \"2015-03-09\", \"2015-03-10\", \"2015-03-11\", \"2015-03-12\", \"2015-03-13\", \"2015-03-16\", \"2015-03-17\", \"2015-03-18\", \"2015-03-19\", \"2015-03-20\", \"2015-03-23\", \"2015-03-24\", \"2015-03-25\", \"2015-03-26\", \"2015-03-27\", \"2015-03-30\", \"2015-03-31\", \"2015-04-01\", \"2015-04-02\", \"2015-04-06\", \"2015-04-07\", \"2015-04-08\", \"2015-04-09\", \"2015-04-10\", \"2015-04-13\", \"2015-04-14\", \"2015-04-15\", \"2015-04-16\", \"2015-04-17\", \"2015-04-20\", \"2015-04-21\", \"2015-04-22\", \"2015-04-23\", \"2015-04-24\", \"2015-04-27\", \"2015-04-28\", \"2015-04-29\", \"2015-04-30\", \"2015-05-01\", \"2015-05-04\", \"2015-05-05\", \"2015-05-06\", \"2015-05-07\", \"2015-05-08\", \"2015-05-11\", \"2015-05-12\", \"2015-05-13\", \"2015-05-14\", \"2015-05-15\", \"2015-05-18\", \"2015-05-19\", \"2015-05-20\", \"2015-05-21\", \"2015-05-22\", \"2015-05-26\", \"2015-05-27\", \"2015-05-28\", \"2015-05-29\", \"2015-06-01\", \"2015-06-02\", \"2015-06-03\", \"2015-06-04\", \"2015-06-05\", \"2015-06-08\", \"2015-06-09\", \"2015-06-10\", \"2015-06-11\", \"2015-06-12\", \"2015-06-15\", \"2015-06-16\", \"2015-06-17\", \"2015-06-18\", \"2015-06-19\", \"2015-06-22\", \"2015-06-23\", \"2015-06-24\", \"2015-06-25\", \"2015-06-26\", \"2015-06-29\", \"2015-06-30\", \"2015-07-01\", \"2015-07-02\", \"2015-07-06\", \"2015-07-07\", \"2015-07-08\", \"2015-07-09\", \"2015-07-10\", \"2015-07-13\", \"2015-07-14\", \"2015-07-15\", \"2015-07-16\", \"2015-07-17\", \"2015-07-20\", \"2015-07-21\", \"2015-07-22\", \"2015-07-23\", \"2015-07-24\", \"2015-07-27\", \"2015-07-28\", \"2015-07-29\", \"2015-07-30\", \"2015-07-31\", \"2015-08-03\", \"2015-08-04\", \"2015-08-05\", \"2015-08-06\", \"2015-08-07\", \"2015-08-10\", \"2015-08-11\", \"2015-08-12\", \"2015-08-13\", \"2015-08-14\", \"2015-08-17\", \"2015-08-18\", \"2015-08-19\", \"2015-08-20\", \"2015-08-21\", \"2015-08-24\", \"2015-08-25\", \"2015-08-26\", \"2015-08-27\", \"2015-08-28\", \"2015-08-31\", \"2015-09-01\", \"2015-09-02\", \"2015-09-03\", \"2015-09-04\", \"2015-09-08\", \"2015-09-09\", \"2015-09-10\", \"2015-09-11\", \"2015-09-14\", \"2015-09-15\", \"2015-09-16\", \"2015-09-17\", \"2015-09-18\", \"2015-09-21\", \"2015-09-22\", \"2015-09-23\", \"2015-09-24\", \"2015-09-25\", \"2015-09-28\", \"2015-09-29\", \"2015-09-30\", \"2015-10-01\", \"2015-10-02\", \"2015-10-05\", \"2015-10-06\", \"2015-10-07\", \"2015-10-08\", \"2015-10-09\", \"2015-10-12\", \"2015-10-13\", \"2015-10-14\", \"2015-10-15\", \"2015-10-16\", \"2015-10-19\", \"2015-10-20\", \"2015-10-21\", \"2015-10-22\", \"2015-10-23\", \"2015-10-26\", \"2015-10-27\", \"2015-10-28\", \"2015-10-29\", \"2015-10-30\", \"2015-11-02\", \"2015-11-03\", \"2015-11-04\", \"2015-11-05\", \"2015-11-06\", \"2015-11-09\", \"2015-11-10\", \"2015-11-11\", \"2015-11-12\", \"2015-11-13\", \"2015-11-16\", \"2015-11-17\", \"2015-11-18\", \"2015-11-19\", \"2015-11-20\", \"2015-11-23\", \"2015-11-24\", \"2015-11-25\", \"2015-11-27\", \"2015-11-30\", \"2015-12-01\", \"2015-12-02\", \"2015-12-03\", \"2015-12-04\", \"2015-12-07\", \"2015-12-08\", \"2015-12-09\", \"2015-12-10\", \"2015-12-11\", \"2015-12-14\", \"2015-12-15\", \"2015-12-16\", \"2015-12-17\", \"2015-12-18\", \"2015-12-21\", \"2015-12-22\", \"2015-12-23\", \"2015-12-24\", \"2015-12-28\", \"2015-12-29\", \"2015-12-30\", \"2015-12-31\"], \"y\": [\"\", \"\", \"\", \"\", \"\", \"\", \"\", \"\", \"\", \"\", \"\", \"\", \"\", 13.07159674446048, 13.10460505813618, 13.12239723106087, 13.076144399461155, 12.988966122537418, 13.067332429454826, 13.10388572547306, 13.19175580448147, 13.285010965712157, 13.310526104184206, 13.350586072511435, 13.284070425976141, 13.315512892553732, 13.335368544702591, 13.31863244145388, 13.288350440707893, 13.275841118220022, 13.30506715451847, 13.466658727763638, 13.587612975500466, 13.85030721043258, 14.042599196880255, 14.123391966999591, 14.267462055645362, 14.29257028378095, 14.149240627633757, 14.098135034166614, 14.057815249904037, 13.99048536593993, 13.988800385727965, 14.011747692441656, 14.049939190014483, 13.996841059029116, 13.990318822067655, 13.997509013783542, 13.996723338944069, 14.012056096342882, 14.064156348720374, 14.063379866942892, 14.008664406201184, 13.991102055267506, 13.947642970855684, 13.894069275384052, 13.775308031860503, 13.697926593993945, 13.606240163871645, 13.572382371709478, 13.519652045601525, 13.487501385546876, 13.493877596047076, 13.521873979454707, 13.5648673066148, 13.62072098762081, 13.614819853340094, 13.635972788199734, 13.622659933142565, 13.602741759541912, 13.622829712304865, 13.63639107551077, 13.688944939254094, 13.695199573654312, 13.720913006386223, 13.76100857372532, 13.775795172736743, 13.796591730985604, 13.82247608458462, 13.82727016558076, 13.79075888588868, 13.777139776356812, 13.733938990676682, 13.626785391079634, 13.603680593276673, 13.591377072765432, 13.629707546450904, 13.66011005896526, 13.727069105118623, 13.765333021953252, 13.827349932502745, 13.919197420972633, 14.076209282975466, 14.244287134617716, 14.28248745822293, 14.37887312705261, 14.439243745558182, 14.434044662478428, 14.4542128553614, 14.489292599422393, 14.557697254208334, 14.5662415036519, 14.574149120144988, 14.599404258166473, 14.585975779284718, 14.6010089966423, 14.594769629695271, 14.60704210241991, 14.553785363931848, 14.47235125545986, 14.455017151424444, 14.456575743404242, 14.529086733235436, 14.564119719201152, 14.640356284272892, 14.78526846055827, 14.938467704347365, 15.074189905980013, 15.134560247695166, 15.300313784382551, 15.332841864177968, 15.415144791055198, 15.267059810688735, 15.195685844635731, 15.17633573241243, 15.123933019571327, 15.059433642231038, 14.943188014939889, 14.695734703167528, 14.580627847023477, 14.530724088183847, 14.535028017040377, 14.580956704575463, 14.550099070759957, 14.461171828938085, 14.36857940665394, 14.331009331342493, 14.316423257283681, 14.257256634237383, 14.279961252983858, 14.346135487219383, 14.471831468883494, 14.7630114393933, 15.041580059108515, 15.317082070294884, 15.528028666790554, 15.743289458628968, 15.771531146803092, 15.761762311249107, 15.736922720430835, 15.705663912884292, 15.70588943899328, 15.757444325654495, 15.69886012428709, 15.662837265288847, 15.66767180885547, 15.659867207755697, 15.672277832956887, 15.644148789618232, 15.28480094543687, 14.803135438402377, 14.157471358719702, 13.69673152403497, 13.539146458631452, 13.471359845500137, 13.436788536017781, 13.404317498000568, 13.244928543576673, 13.194725046603107, 13.204518778722049, 13.241962526699885, 13.39766136047887, 13.574894913559293, 13.629536562362711, 13.629456647488139, 13.768868655677748, 13.960619786978647, 13.958432262430506, 13.951466294388467, 13.882169312589923, 13.862026541335569, 13.872499301576394, 13.85428193396041, 13.798121455127383, 13.82843063918582, 13.762959431298446, 13.673993386737383, 13.647618782228971, 13.62406650488419, 13.572793520152889, 13.63203348623617, 13.754148434202804, 13.767244994522283, 13.771852399476588, 13.767041108557779, 13.76109990768021, 13.752279604880362, 13.757975780236212, 13.67564297377644, 13.655794437946698, 13.682797534175124, 13.67523384140057, 13.707065124360236, 13.776641761552904, 13.738834125493096, 13.734675018439782, 13.754336024668971, 13.62685595553949, 13.657221585214616, 13.780301372995684, 13.915513766091415, 14.047946269369215, 14.092341266328072, 14.142533381482005, 14.114124280271627, 14.181287480908285, 14.360458850698002, 14.527900815110021, 14.643589627787684, 14.773286255535673, 14.987820169686655, 14.997287308317695, 15.022986362688224, 15.162000119751113, 15.239705456144781, 15.288247112933913, 15.399391461583216, 15.424555660976713, 15.44073182885999, 15.426893982820904, 15.432909116360777, 15.439003036258958, 15.43492050872876, 15.48770940731247, 15.506345768760891, 15.460442295248294, 15.390680887285129, 15.35234528716937, 15.17488556832652, 15.063298160503203, 15.063268625594018, 15.051836485238512, 15.043907562989077, 14.941360638430186, 14.917427940099401, 14.90831868220663, 14.90917567033202, 14.9536431053599, 14.962019136984093, 14.96385995476811, 14.959113391988517, 14.91354802756009]}],                        {\"legend\": {\"bgcolor\": \"#F5F6F9\", \"font\": {\"color\": \"#4D5663\"}}, \"paper_bgcolor\": \"#F5F6F9\", \"plot_bgcolor\": \"#F5F6F9\", \"template\": {\"data\": {\"bar\": [{\"error_x\": {\"color\": \"#2a3f5f\"}, \"error_y\": {\"color\": \"#2a3f5f\"}, \"marker\": {\"line\": {\"color\": \"#E5ECF6\", \"width\": 0.5}}, \"type\": \"bar\"}], \"barpolar\": [{\"marker\": {\"line\": {\"color\": \"#E5ECF6\", \"width\": 0.5}}, \"type\": \"barpolar\"}], \"carpet\": [{\"aaxis\": {\"endlinecolor\": \"#2a3f5f\", \"gridcolor\": \"white\", \"linecolor\": \"white\", \"minorgridcolor\": \"white\", \"startlinecolor\": \"#2a3f5f\"}, \"baxis\": {\"endlinecolor\": \"#2a3f5f\", \"gridcolor\": \"white\", \"linecolor\": \"white\", \"minorgridcolor\": \"white\", \"startlinecolor\": \"#2a3f5f\"}, \"type\": \"carpet\"}], \"choropleth\": [{\"colorbar\": {\"outlinewidth\": 0, \"ticks\": \"\"}, \"type\": \"choropleth\"}], \"contour\": [{\"colorbar\": {\"outlinewidth\": 0, \"ticks\": \"\"}, \"colorscale\": [[0.0, \"#0d0887\"], [0.1111111111111111, \"#46039f\"], [0.2222222222222222, \"#7201a8\"], [0.3333333333333333, \"#9c179e\"], [0.4444444444444444, \"#bd3786\"], [0.5555555555555556, \"#d8576b\"], [0.6666666666666666, \"#ed7953\"], [0.7777777777777778, \"#fb9f3a\"], [0.8888888888888888, \"#fdca26\"], [1.0, \"#f0f921\"]], \"type\": \"contour\"}], \"contourcarpet\": [{\"colorbar\": {\"outlinewidth\": 0, \"ticks\": \"\"}, \"type\": \"contourcarpet\"}], \"heatmap\": [{\"colorbar\": {\"outlinewidth\": 0, \"ticks\": \"\"}, \"colorscale\": [[0.0, \"#0d0887\"], [0.1111111111111111, \"#46039f\"], [0.2222222222222222, \"#7201a8\"], [0.3333333333333333, \"#9c179e\"], [0.4444444444444444, \"#bd3786\"], [0.5555555555555556, \"#d8576b\"], [0.6666666666666666, \"#ed7953\"], [0.7777777777777778, \"#fb9f3a\"], [0.8888888888888888, \"#fdca26\"], [1.0, \"#f0f921\"]], \"type\": \"heatmap\"}], \"heatmapgl\": [{\"colorbar\": {\"outlinewidth\": 0, \"ticks\": \"\"}, \"colorscale\": [[0.0, \"#0d0887\"], [0.1111111111111111, \"#46039f\"], [0.2222222222222222, \"#7201a8\"], [0.3333333333333333, \"#9c179e\"], [0.4444444444444444, \"#bd3786\"], [0.5555555555555556, \"#d8576b\"], [0.6666666666666666, \"#ed7953\"], [0.7777777777777778, \"#fb9f3a\"], [0.8888888888888888, \"#fdca26\"], [1.0, \"#f0f921\"]], \"type\": \"heatmapgl\"}], \"histogram\": [{\"marker\": {\"colorbar\": {\"outlinewidth\": 0, \"ticks\": \"\"}}, \"type\": \"histogram\"}], \"histogram2d\": [{\"colorbar\": {\"outlinewidth\": 0, \"ticks\": \"\"}, \"colorscale\": [[0.0, \"#0d0887\"], [0.1111111111111111, \"#46039f\"], [0.2222222222222222, \"#7201a8\"], [0.3333333333333333, \"#9c179e\"], [0.4444444444444444, \"#bd3786\"], [0.5555555555555556, \"#d8576b\"], [0.6666666666666666, \"#ed7953\"], [0.7777777777777778, \"#fb9f3a\"], [0.8888888888888888, \"#fdca26\"], [1.0, \"#f0f921\"]], \"type\": \"histogram2d\"}], \"histogram2dcontour\": [{\"colorbar\": {\"outlinewidth\": 0, \"ticks\": \"\"}, \"colorscale\": [[0.0, \"#0d0887\"], [0.1111111111111111, \"#46039f\"], [0.2222222222222222, \"#7201a8\"], [0.3333333333333333, \"#9c179e\"], [0.4444444444444444, \"#bd3786\"], [0.5555555555555556, \"#d8576b\"], [0.6666666666666666, \"#ed7953\"], [0.7777777777777778, \"#fb9f3a\"], [0.8888888888888888, \"#fdca26\"], [1.0, \"#f0f921\"]], \"type\": \"histogram2dcontour\"}], \"mesh3d\": [{\"colorbar\": {\"outlinewidth\": 0, \"ticks\": \"\"}, \"type\": \"mesh3d\"}], \"parcoords\": [{\"line\": {\"colorbar\": {\"outlinewidth\": 0, \"ticks\": \"\"}}, \"type\": \"parcoords\"}], \"pie\": [{\"automargin\": true, \"type\": \"pie\"}], \"scatter\": [{\"marker\": {\"colorbar\": {\"outlinewidth\": 0, \"ticks\": \"\"}}, \"type\": \"scatter\"}], \"scatter3d\": [{\"line\": {\"colorbar\": {\"outlinewidth\": 0, \"ticks\": \"\"}}, \"marker\": {\"colorbar\": {\"outlinewidth\": 0, \"ticks\": \"\"}}, \"type\": \"scatter3d\"}], \"scattercarpet\": [{\"marker\": {\"colorbar\": {\"outlinewidth\": 0, \"ticks\": \"\"}}, \"type\": \"scattercarpet\"}], \"scattergeo\": [{\"marker\": {\"colorbar\": {\"outlinewidth\": 0, \"ticks\": \"\"}}, \"type\": \"scattergeo\"}], \"scattergl\": [{\"marker\": {\"colorbar\": {\"outlinewidth\": 0, \"ticks\": \"\"}}, \"type\": \"scattergl\"}], \"scattermapbox\": [{\"marker\": {\"colorbar\": {\"outlinewidth\": 0, \"ticks\": \"\"}}, \"type\": \"scattermapbox\"}], \"scatterpolar\": [{\"marker\": {\"colorbar\": {\"outlinewidth\": 0, \"ticks\": \"\"}}, \"type\": \"scatterpolar\"}], \"scatterpolargl\": [{\"marker\": {\"colorbar\": {\"outlinewidth\": 0, \"ticks\": \"\"}}, \"type\": \"scatterpolargl\"}], \"scatterternary\": [{\"marker\": {\"colorbar\": {\"outlinewidth\": 0, \"ticks\": \"\"}}, \"type\": \"scatterternary\"}], \"surface\": [{\"colorbar\": {\"outlinewidth\": 0, \"ticks\": \"\"}, \"colorscale\": [[0.0, \"#0d0887\"], [0.1111111111111111, \"#46039f\"], [0.2222222222222222, \"#7201a8\"], [0.3333333333333333, \"#9c179e\"], [0.4444444444444444, \"#bd3786\"], [0.5555555555555556, \"#d8576b\"], [0.6666666666666666, \"#ed7953\"], [0.7777777777777778, \"#fb9f3a\"], [0.8888888888888888, \"#fdca26\"], [1.0, \"#f0f921\"]], \"type\": \"surface\"}], \"table\": [{\"cells\": {\"fill\": {\"color\": \"#EBF0F8\"}, \"line\": {\"color\": \"white\"}}, \"header\": {\"fill\": {\"color\": \"#C8D4E3\"}, \"line\": {\"color\": \"white\"}}, \"type\": \"table\"}]}, \"layout\": {\"annotationdefaults\": {\"arrowcolor\": \"#2a3f5f\", \"arrowhead\": 0, \"arrowwidth\": 1}, \"autotypenumbers\": \"strict\", \"coloraxis\": {\"colorbar\": {\"outlinewidth\": 0, \"ticks\": \"\"}}, \"colorscale\": {\"diverging\": [[0, \"#8e0152\"], [0.1, \"#c51b7d\"], [0.2, \"#de77ae\"], [0.3, \"#f1b6da\"], [0.4, \"#fde0ef\"], [0.5, \"#f7f7f7\"], [0.6, \"#e6f5d0\"], [0.7, \"#b8e186\"], [0.8, \"#7fbc41\"], [0.9, \"#4d9221\"], [1, \"#276419\"]], \"sequential\": [[0.0, \"#0d0887\"], [0.1111111111111111, \"#46039f\"], [0.2222222222222222, \"#7201a8\"], [0.3333333333333333, \"#9c179e\"], [0.4444444444444444, \"#bd3786\"], [0.5555555555555556, \"#d8576b\"], [0.6666666666666666, \"#ed7953\"], [0.7777777777777778, \"#fb9f3a\"], [0.8888888888888888, \"#fdca26\"], [1.0, \"#f0f921\"]], \"sequentialminus\": [[0.0, \"#0d0887\"], [0.1111111111111111, \"#46039f\"], [0.2222222222222222, \"#7201a8\"], [0.3333333333333333, \"#9c179e\"], [0.4444444444444444, \"#bd3786\"], [0.5555555555555556, \"#d8576b\"], [0.6666666666666666, \"#ed7953\"], [0.7777777777777778, \"#fb9f3a\"], [0.8888888888888888, \"#fdca26\"], [1.0, \"#f0f921\"]]}, \"colorway\": [\"#636efa\", \"#EF553B\", \"#00cc96\", \"#ab63fa\", \"#FFA15A\", \"#19d3f3\", \"#FF6692\", \"#B6E880\", \"#FF97FF\", \"#FECB52\"], \"font\": {\"color\": \"#2a3f5f\"}, \"geo\": {\"bgcolor\": \"white\", \"lakecolor\": \"white\", \"landcolor\": \"#E5ECF6\", \"showlakes\": true, \"showland\": true, \"subunitcolor\": \"white\"}, \"hoverlabel\": {\"align\": \"left\"}, \"hovermode\": \"closest\", \"mapbox\": {\"style\": \"light\"}, \"paper_bgcolor\": \"white\", \"plot_bgcolor\": \"#E5ECF6\", \"polar\": {\"angularaxis\": {\"gridcolor\": \"white\", \"linecolor\": \"white\", \"ticks\": \"\"}, \"bgcolor\": \"#E5ECF6\", \"radialaxis\": {\"gridcolor\": \"white\", \"linecolor\": \"white\", \"ticks\": \"\"}}, \"scene\": {\"xaxis\": {\"backgroundcolor\": \"#E5ECF6\", \"gridcolor\": \"white\", \"gridwidth\": 2, \"linecolor\": \"white\", \"showbackground\": true, \"ticks\": \"\", \"zerolinecolor\": \"white\"}, \"yaxis\": {\"backgroundcolor\": \"#E5ECF6\", \"gridcolor\": \"white\", \"gridwidth\": 2, \"linecolor\": \"white\", \"showbackground\": true, \"ticks\": \"\", \"zerolinecolor\": \"white\"}, \"zaxis\": {\"backgroundcolor\": \"#E5ECF6\", \"gridcolor\": \"white\", \"gridwidth\": 2, \"linecolor\": \"white\", \"showbackground\": true, \"ticks\": \"\", \"zerolinecolor\": \"white\"}}, \"shapedefaults\": {\"line\": {\"color\": \"#2a3f5f\"}}, \"ternary\": {\"aaxis\": {\"gridcolor\": \"white\", \"linecolor\": \"white\", \"ticks\": \"\"}, \"baxis\": {\"gridcolor\": \"white\", \"linecolor\": \"white\", \"ticks\": \"\"}, \"bgcolor\": \"#E5ECF6\", \"caxis\": {\"gridcolor\": \"white\", \"linecolor\": \"white\", \"ticks\": \"\"}}, \"title\": {\"x\": 0.05}, \"xaxis\": {\"automargin\": true, \"gridcolor\": \"white\", \"linecolor\": \"white\", \"ticks\": \"\", \"title\": {\"standoff\": 15}, \"zerolinecolor\": \"white\", \"zerolinewidth\": 2}, \"yaxis\": {\"automargin\": true, \"gridcolor\": \"white\", \"linecolor\": \"white\", \"ticks\": \"\", \"title\": {\"standoff\": 15}, \"zerolinecolor\": \"white\", \"zerolinewidth\": 2}}}, \"title\": {\"font\": {\"color\": \"#4D5663\"}}, \"xaxis\": {\"gridcolor\": \"#E1E5ED\", \"showgrid\": true, \"tickfont\": {\"color\": \"#4D5663\"}, \"title\": {\"font\": {\"color\": \"#4D5663\"}, \"text\": \"\"}, \"zerolinecolor\": \"#E1E5ED\"}, \"yaxis\": {\"gridcolor\": \"#E1E5ED\", \"showgrid\": true, \"tickfont\": {\"color\": \"#4D5663\"}, \"title\": {\"font\": {\"color\": \"#4D5663\"}, \"text\": \"\"}, \"zerolinecolor\": \"#E1E5ED\"}},                        {\"showLink\": true, \"linkText\": \"Export to plot.ly\", \"plotlyServerURL\": \"https://plot.ly\", \"responsive\": true}                    ).then(function(){\n",
       "                            \n",
       "var gd = document.getElementById('fb3380c7-d91a-4572-bfb3-e12ebd7976be');\n",
       "var x = new MutationObserver(function (mutations, observer) {{\n",
       "        var display = window.getComputedStyle(gd).display;\n",
       "        if (!display || display === 'none') {{\n",
       "            console.log([gd, 'removed!']);\n",
       "            Plotly.purge(gd);\n",
       "            observer.disconnect();\n",
       "        }}\n",
       "}});\n",
       "\n",
       "// Listen for the removal of the full notebook cells\n",
       "var notebookContainer = gd.closest('#notebook-container');\n",
       "if (notebookContainer) {{\n",
       "    x.observe(notebookContainer, {childList: true});\n",
       "}}\n",
       "\n",
       "// Listen for the clearing of the current output cell\n",
       "var outputEl = gd.closest('.output');\n",
       "if (outputEl) {{\n",
       "    x.observe(outputEl, {childList: true});\n",
       "}}\n",
       "\n",
       "                        })                };                });            </script>        </div>"
      ]
     },
     "metadata": {},
     "output_type": "display_data"
    }
   ],
   "source": [
    "BAC['Close'].loc['2015-01-01':'2016-01-01'].ta_plot(study='boll')"
   ]
  },
  {
   "cell_type": "markdown",
   "metadata": {},
   "source": [
    "# Great Job!\n",
    "\n",
    "Definitely a lot of more specific finance topics here, so don't worry if you didn't understand them all! The only thing you should be concerned with understanding are the basic pandas and visualization oeprations."
   ]
  }
 ],
 "metadata": {
  "kernelspec": {
   "display_name": "Python 3",
   "language": "python",
   "name": "python3"
  },
  "language_info": {
   "codemirror_mode": {
    "name": "ipython",
    "version": 3
   },
   "file_extension": ".py",
   "mimetype": "text/x-python",
   "name": "python",
   "nbconvert_exporter": "python",
   "pygments_lexer": "ipython3",
   "version": "3.8.5"
  }
 },
 "nbformat": 4,
 "nbformat_minor": 1
}
